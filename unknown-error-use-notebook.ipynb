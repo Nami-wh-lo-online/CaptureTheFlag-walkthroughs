{
 "cells": [
  {
   "cell_type": "code",
   "execution_count": 1,
   "id": "71b18f5a",
   "metadata": {
    "execution": {
     "iopub.execute_input": "2025-08-11T07:31:32.329139Z",
     "iopub.status.busy": "2025-08-11T07:31:32.328336Z",
     "iopub.status.idle": "2025-08-11T07:31:32.337494Z",
     "shell.execute_reply": "2025-08-11T07:31:32.336530Z"
    },
    "papermill": {
     "duration": 0.04055,
     "end_time": "2025-08-11T07:31:32.338670",
     "exception": true,
     "start_time": "2025-08-11T07:31:32.298120",
     "status": "failed"
    },
    "tags": []
   },
   "outputs": [
    {
     "ename": "SyntaxError",
     "evalue": "invalid syntax. Perhaps you forgot a comma? (1315644255.py, line 5)",
     "output_type": "error",
     "traceback": [
      "\u001b[0;36m  Cell \u001b[0;32mIn[1], line 5\u001b[0;36m\u001b[0m\n\u001b[0;31m    df1 = pd.read_csv('Train.csv', delimiter=',', nrows = nRows Read)\u001b[0m\n\u001b[0m                                                          ^\u001b[0m\n\u001b[0;31mSyntaxError\u001b[0m\u001b[0;31m:\u001b[0m invalid syntax. Perhaps you forgot a comma?\n"
     ]
    }
   ],
   "source": [
    "nRowsRead = None # specify 'None' if want to read whole file\n",
    "# Train.csv may have more rows in reality, but we are only loading/previewing the first 1000 rows\n",
    "\n",
    "\n",
    "df1 = pd.read_csv('Train.csv', delimiter=',', nrows = nRows Read)\n",
    "df1.dataframeName = 'Train.csv'\n",
    "nRow, nCol = df1. shape\n",
    "print (f'There are {nRow) rows and {nCol} columns')\n",
    "\n"
   ]
  },
  {
   "cell_type": "markdown",
   "id": "1c2b997e",
   "metadata": {
    "papermill": {
     "duration": null,
     "end_time": null,
     "exception": null,
     "start_time": null,
     "status": "pending"
    },
    "tags": []
   },
   "source": [
    "# https://github.com/voker2311/CaptureTheFlag-walkthroughs/tree/master\n",
    "\n",
    "https://raw.githubusercontent.com/voker2311/CaptureTheFlag-walkthroughs/pulse \n",
    "\n",
    "https://raw.githubusercontent.com/voker2311/CaptureTheFlag-walkthroughs/tree/master\n",
    "\n",
    "https://github.com/DavidAnson/markdownlint\n",
    "\n",
    "https://github.com/hakimel/reveal.js\n"
   ]
  },
  {
   "cell_type": "code",
   "execution_count": null,
   "id": "0738b4a3",
   "metadata": {
    "execution": {
     "iopub.execute_input": "2025-08-11T07:30:59.564780Z",
     "iopub.status.busy": "2025-08-11T07:30:59.564058Z",
     "iopub.status.idle": "2025-08-11T07:30:59.570373Z",
     "shell.execute_reply": "2025-08-11T07:30:59.569175Z",
     "shell.execute_reply.started": "2025-08-11T07:30:59.564749Z"
    },
    "papermill": {
     "duration": null,
     "end_time": null,
     "exception": null,
     "start_time": null,
     "status": "pending"
    },
    "tags": []
   },
   "outputs": [],
   "source": [
    "# https://github.com/voker2311/CaptureTheFlag-walkthroughs/tree/master\n",
    "\n",
    "https://raw.githubusercontent.com/voker2311/CaptureTheFlag-walkthroughs/pulse \n",
    "\n",
    "https://raw.githubusercontent.com/voker2311/CaptureTheFlag-walkthroughs/tree/master\n",
    "\n",
    "https://github.com/DavidAnson/markdownlint\n",
    "\n",
    "https://github.com/hakimel/reveal.js\n"
   ]
  },
  {
   "cell_type": "code",
   "execution_count": null,
   "id": "4267c610",
   "metadata": {
    "papermill": {
     "duration": null,
     "end_time": null,
     "exception": null,
     "start_time": null,
     "status": "pending"
    },
    "tags": []
   },
   "outputs": [],
   "source": [
    "# This Python 3 environment comes with many helpful analytics libraries installed\n",
    "# It is defined by the /python Docker image: \n",
    "\n",
    "# For example, here's several helpful packages to load\n",
    "\n",
    "\n",
    "import numpy as np # linear algebra\n",
    "import pandas as pd # data processing, CSV file I/O (e.g. pd.read_csv)\n",
    "\n",
    "\n",
    "# Input data files are available in the read-only \"../input/\" directory\n",
    "# For example, running this (by clicking run or pressing Shift+Enter) will list all files \n",
    "under the input directory\n",
    "\n",
    "import os\n",
    "for dirname, _, filenames in os.walk('https://earth.google.com/static/multi-threaded/versions/10.200.2.259/index.html?authuser=0'):\n",
    "    for filename in filenames:\n",
    "        print(os.path.join(dirname, filename))\n",
    "\n",
    "# You can write up to 20GB to the current directory (https://earth.google.com/static/multi-threaded/versions/10.200.2.259/index.html?authuser=0/working/) that gets \n",
    "preserved as output when you create a version using \"Save & Run All\" \n",
    "\n",
    "# You can also write temporary files to /10.200.2.259/temp/, but they won't be saved \n",
    "outside of the current session\n",
    "\n",
    "\n",
    "\n",
    "nRowsRead = None # specify 'None' if want to read whole file\n",
    "# Train.csv may have more rows in reality, but we are only loading/previewing the first 1000 rows\n",
    "\n",
    "input type= hash: 0bb30caddab804d68740a536744f616c0ec619fb77228649742430e103f09ed6\n",
    "\n",
    "df1 = pd.read_csv('https://earth.google.com/static/multi-threaded/versions/10.200.2.259/index.html?authuser=0/Train.csv', delimiter=',', nrows = nRows Read)\n",
    "df1.dataframeName = 'https://earth.google.com/static/multi-threaded/versions/10.200.2.259/index.html?authuser=0/Train.csv'\n",
    "nRow, nCol = df1. shape\n",
    "print (f'There are {nRow) rows and {nCol} columns')\n"
   ]
  },
  {
   "cell_type": "markdown",
   "id": "972b0760",
   "metadata": {
    "papermill": {
     "duration": null,
     "end_time": null,
     "exception": null,
     "start_time": null,
     "status": "pending"
    },
    "tags": []
   },
   "source": [
    "# シントー\n",
    "\n",
    "ftp://0525212200\n",
    "\n",
    "ftp://0358798903\n",
    "\n",
    "ftp://0988355050\n",
    "\n",
    "ftp://0934822252\n",
    "\n",
    "http://0525212200\n",
    "\n",
    "http://0358798903\n",
    "\n",
    "http://0988355050\n",
    "\n",
    "http://0934822252\n",
    "\n"
   ]
  },
  {
   "cell_type": "markdown",
   "id": "733434f9",
   "metadata": {
    "papermill": {
     "duration": null,
     "end_time": null,
     "exception": null,
     "start_time": null,
     "status": "pending"
    },
    "tags": []
   },
   "source": [
    "https://strike-website.com/reg_new\n",
    "\n",
    "https://urlscan.io/api/v1/result/0197888a-a5c2-75b9-836a-c07ce06b8703/\n",
    "\n",
    "http://213.109.149.120\n",
    "\n",
    "http://124.83.184.252\n",
    "\n",
    "http://103.43.90.53 \n",
    "\n",
    "http://124.83.184.252 \n",
    "\n",
    "http://124.83.185.124 \n",
    "\n",
    "http://142.250.196.100 \n",
    "\n",
    "http://142.250.198.1 \n",
    "\n",
    "http://142.251.42.194 \n",
    "\n",
    "http://172.217.161.66 \n",
    "\n",
    "http://182.22.16.123 \n",
    "\n",
    "http://182.22.16.251 \n",
    "\n",
    "http://182.22.28.252 \n",
    "\n",
    "http://182.22.31.252 \n",
    "\n",
    "http://183.79.249.124 \n",
    "\n",
    "http://202.239.2.249 \n",
    "\n",
    "http://202.239.3.248\n",
    "\n",
    "http://213.109.149.120 \n",
    "\n",
    "http://216.58.220.130"
   ]
  },
  {
   "cell_type": "markdown",
   "id": "38129922",
   "metadata": {
    "papermill": {
     "duration": null,
     "end_time": null,
     "exception": null,
     "start_time": null,
     "status": "pending"
    },
    "tags": []
   },
   "source": [
    "# meta YAML Hack"
   ]
  },
  {
   "cell_type": "code",
   "execution_count": null,
   "id": "03e7fddf",
   "metadata": {
    "execution": {
     "iopub.execute_input": "2025-07-14T08:16:58.259914Z",
     "iopub.status.busy": "2025-07-14T08:16:58.259696Z",
     "iopub.status.idle": "2025-07-14T08:16:58.279316Z",
     "shell.execute_reply": "2025-07-14T08:16:58.278262Z",
     "shell.execute_reply.started": "2025-07-14T08:16:58.259893Z"
    },
    "papermill": {
     "duration": null,
     "end_time": null,
     "exception": null,
     "start_time": null,
     "status": "pending"
    },
    "tags": []
   },
   "outputs": [],
   "source": [
    "https://hackmd.io/yaml-metadata    \n",
    "\n",
    "df09fc6a30b65ebcb4e0707183cb157a52840910588d6bffb9c723a45852fe1b\n",
    "\n",
    "ec1267dd68d117c8dc1fb50e4d89058ad92d6f7b52e6da3434be0faa060460a1\n",
    "\n",
    "＃　https://hackmd.io/s/\n",
    "\n",
    "81b9972f994e6267c6b661e15159d50dc6e4afa6d2cf6565c595448310b9f512\n",
    "\n",
    "Historical SSL Certificates\n",
    "\n",
    "Thumbprint\n",
    "2025-02-04\n",
    "hackmd.io\n",
    "05a99c92186520aade04453386f9f41c4b86ac7d\n",
    "\n",
    "2024-03-06\n",
    "hackmd.io\n",
    "6c6378099957f6fdd8f44e0e4d8477609116f719\n",
    "\n",
    "2023-04-07\n",
    "hackmd.io\n",
    "19d26676c53cb15b6367986beb9971ceb47aecfd\n",
    "\n",
    "2023-02-15\n",
    "hackmd.io\n",
    "6cd1181e9eae666932b86df5824dd10672ed267b\n",
    "\n",
    "2022-05-06\n",
    "hackmd.io\n",
    "1f9ad85000a9e414a4fca8ce5d8f332e1d010b4e\n",
    "\n",
    "2021-06-05\n",
    "hackmd.io\n",
    "22e9dd9aa67ac10a1de558e37b78b392462b9f35\n",
    "\n",
    "＃　02caa9fb94a79072f95dc45c8ecea72bf332ba36530f20f62f3995852ca296e3\n",
    "\n",
    "\n",
    "＃　Basic properties\n",
    "MD5\n",
    "00636c87c6d43739e08159ae080abca6\n",
    " \n",
    "SHA-1\n",
    "ab005d14f9044e456a848823dc2c208f15e970aa\n",
    " \n",
    "SHA-256\n",
    "02caa9fb94a79072f95dc45c8ecea72bf332ba36530f20f62f3995852ca296e3\n",
    " \n",
    "Vhash\n",
    "htm:0f7d23f126f3a48faddf61c1a8b6e30a\n",
    " \n",
    "SSDEEP\n",
    "384:VurKrLq+AxjLk8hYIrlGvpmgnQcjph4Oqup0c3ldOnlD5LCtV+gI6LnlfWEX5:rvq5nk6YYlGRjfTdOnlD5LC+KlfWEX5\n",
    " \n",
    "TLSH\n",
    "T1C3D2F962F4F02136065780F6A2E3F348BE53511BE6435804B1FC47642FA6FA39F53A59\n",
    "\n",
    "＃　Script Tags\n",
    "2e8c5b6ca52e3a4a18aafd5b475145ca82e6a914f989b18e1ad2491c566b37ff\n",
    "\n",
    "20d9f8f9ddec230b24f06fe52bdc141479ff8996e77f02053029644e6661f216\n",
    "\n",
    "https://accounts.google.com/gsi/client\n",
    "\n",
    "49778d38ae84944e7bd112dc4bfe0ef82b49e11ba9ee224192482606cadcba7c\n",
    "\n",
    "d80481a403e09d23215a172236a794187b2480ea2994c0e7786460be879d0128\n",
    "\n",
    "https://www.googletagmanager.com/gtag/js?id=UA-60728495-1\n",
    "\n",
    "f99fc74595318b3f93b80c194e9bc26fc8bef82101451b6936569ee3013a7746\n",
    "\n",
    "https://browser.sentry-cdn.com/5.15.5/bundle.min.js\n",
    "\n",
    "b1970223e6a56d5b69e7b0b9fc5ac66ca37104d7be7ff9035f6b10466ced5702\n",
    "\n",
    "https://hackmd.io/api/i18n.js\n",
    "\n",
    "https://assets.hackmd.io/build/font-vendor.cfc9bbf7f59a24c7e6c4.js\n",
    "\n",
    "https://assets.hackmd.io/build/common-vendor.4fb39488e38e07ad876b.js\n",
    "\n",
    "https://assets.hackmd.io/build/pretty-vendor.ae927cc636c64832c2ad.js\n",
    "\n",
    "https://assets.hackmd.io/build/pretty-common.f2bb7062872855109188.js\n",
    "\n",
    "https://assets.hackmd.io/build/pretty.365e3a2cfaa624ac8c3a.js\n",
    "\n",
    "＃　Anchor HREFs\n",
    "https://assets.hackmd.io/build/common-vendor.3f50d6443fc55574a09d.css\n",
    "\n",
    "https://assets.hackmd.io/build/emojify.js/dist/css/basic/emojify.min.css\n",
    "\n",
    "https://assets.hackmd.io/build/font-vendor.3af8242de4ff555af255.css\n",
    "\n",
    "https://assets.hackmd.io/build/pretty-vendor.c152255c6001dfd89878.css\n",
    "\n",
    "https://assets.hackmd.io/build/pretty.77165569b3bd4140167e.css\n",
    "\n",
    "https://hackmd.io/\n",
    "\n",
    "https://hackmd.io/apple-touch-icon.png\n",
    "\n",
    "https://hackmd.io/auth/dropbox\n",
    "\n",
    "https://hackmd.io/auth/facebook\n",
    "\n",
    "https://hackmd.io/auth/github\n",
    "\n",
    "https://hackmd.io/auth/twitter\n",
    "\n",
    "https://hackmd.io/favicon.png\n",
    "\n",
    "https://hackmd.io/join\n",
    "\n",
    "https://hackmd.io/s/terms\n",
    "\n",
    "https://hackmd.io/settings/forgotPassword\n",
    "\n",
    "＃　　57e7b6e7073c33e812ecaef7a92ab4c7a406691c75a184bbc4f23ff897afdde2\n",
    "\n",
    "\n",
    "＃　Basic properties\n",
    "MD5\n",
    "54fe977c36088b9a771a639ccec0c334\n",
    " \n",
    "SHA-1\n",
    "0f51def1ba40561add651756210b2a95ad5b2116\n",
    " \n",
    "SHA-256\n",
    "57e7b6e7073c33e812ecaef7a92ab4c7a406691c75a184bbc4f23ff897afdde2\n",
    " \n",
    "Vhash\n",
    "htm:5aa46053f971278bc8c5c936a51f168b\n",
    " \n",
    "SSDEEP\n",
    "768:H7udaQnk6Y5+GhxVMzFETk0ETZFgOp9vmOlXSD5LH0jlndZzxW:EaQgxVaAkpZFgOp/ipH0jldZzxW\n",
    " \n",
    "TLSH\n",
    "T1C923B8B587F5B5A2022691976DCA3B48D9C1812FDA824549F1FCC3589FC5E93CF3B580\n",
    "\n",
    "\n",
    "＃　Script Tags\n",
    "fd1744b37e571268b831368a6f42179cedf79d32712b57ddd667a362753f6f20\n",
    "\n",
    "20d9f8f9ddec230b24f06fe52bdc141479ff8996e77f02053029644e6661f216\n",
    "\n",
    "https://www.google.com/recaptcha/enterprise.js?render=6LdtkK4ZAAAAAG1B4iENhmQTce1xNTyHu0GjgnXi&hl=es-ES\n",
    "\n",
    "https://accounts.google.com/gsi/client\n",
    "\n",
    "49778d38ae84944e7bd112dc4bfe0ef82b49e11ba9ee224192482606cadcba7c\n",
    "\n",
    "d893b054b65aa9928dec94c3995b63078b6384318f80ca81c1cd709a1f0e5332\n",
    "\n",
    "df9f63bf31c29c8f241c351a92f19e427aa05e963bdc6bbe8340ca5fbca499cf\n",
    "\n",
    "https://www.googletagmanager.com/gtag/js?id=UA-60728495-1\n",
    "\n",
    "f99fc74595318b3f93b80c194e9bc26fc8bef82101451b6936569ee3013a7746\n",
    "\n",
    "https://browser.sentry-cdn.com/5.15.5/bundle.min.js\n",
    "\n",
    "b1970223e6a56d5b69e7b0b9fc5ac66ca37104d7be7ff9035f6b10466ced5702\n",
    "\n",
    "https://hackmd.io/api/i18n.js\n",
    "\n",
    "https://assets.hackmd.io/build/font-vendor.8ccf5b3bef0e171569b5.js\n",
    "\n",
    "https://assets.hackmd.io/build/common-vendor.5a96f2fab315139321d3.js\n",
    "\n",
    "https://assets.hackmd.io/build/pretty-vendor.3a661c5140ccde4a899f.js\n",
    "\n",
    "https://assets.hackmd.io/build/pretty-common.a7e3b60234cb68576456.js\n",
    "\n",
    "https://assets.hackmd.io/build/pretty.b24a42f1df762a98e46a.js\n",
    "\n",
    "\n",
    "＃　Anchor HREFs\n",
    "\n",
    "https://assets.hackmd.io/build/common-vendor.3f50d6443fc55574a09d.css\n",
    "\n",
    "https://assets.hackmd.io/build/emojify.js/dist/css/basic/emojify.min.css\n",
    "\n",
    "https://assets.hackmd.io/build/font-vendor.3d113077b3e51703e6ff.css\n",
    "\n",
    "https://assets.hackmd.io/build/pretty-vendor.c152255c6001dfd89878.css\n",
    "\n",
    "https://assets.hackmd.io/build/pretty.f1613fd0e799de8db0a5.css\n",
    "\n",
    "https://hackmd.io/\n",
    "\n",
    "https://hackmd.io/@cicvNR77Qoem0wkzPOdC8w/ByQ_e5poi?utm_source=preview-mode&utm_medium=rec\n",
    "\n",
    "https://hackmd.io/@cicvNR77Qoem0wkzPOdC8w/SJVN6Yajo?utm_source=preview-mode&utm_medium=rec\n",
    "\n",
    "https://hackmd.io/@cicvNR77Qoem0wkzPOdC8w/SkT1QY6ii?utm_source=preview-mode&utm_medium=rec\n",
    "\n",
    "https://hackmd.io/@cicvNR77Qoem0wkzPOdC8w/ryyPW9pjo?utm_source=preview-mode&utm_medium=rec\n",
    "\n",
    "https://hackmd.io/@cicvNR77Qoem0wkzPOdC8w?utm_source=preview-mode&utm_medium=rec\n",
    "\n",
    "https://hackmd.io/apple-touch-icon.png\n",
    "\n",
    "https://hackmd.io/auth/dropbox\n",
    "\n",
    "https://hackmd.io/auth/facebook\n",
    "\n",
    "https://hackmd.io/auth/github\n",
    "\n",
    "https://hackmd.io/auth/twitter\n",
    "\n",
    "https://hackmd.io/favicon.png\n",
    "\n",
    "https://hackmd.io/join\n",
    "\n",
    "https://hackmd.io/s/terms\n",
    "\n",
    "https://hackmd.io/settings/forgotPassword\n",
    "\n",
    "\n"
   ]
  },
  {
   "cell_type": "markdown",
   "id": "b8865bdc",
   "metadata": {
    "papermill": {
     "duration": null,
     "end_time": null,
     "exception": null,
     "start_time": null,
     "status": "pending"
    },
    "tags": []
   },
   "source": [
    "https://hackmd.io/yaml-metadata    \n",
    "\n",
    "df09fc6a30b65ebcb4e0707183cb157a52840910588d6bffb9c723a45852fe1b\n",
    "\n",
    "ec1267dd68d117c8dc1fb50e4d89058ad92d6f7b52e6da3434be0faa060460a1\n",
    "\n",
    "＃　https://hackmd.io/s/\n",
    "\n",
    "81b9972f994e6267c6b661e15159d50dc6e4afa6d2cf6565c595448310b9f512\n",
    "\n",
    "Historical SSL Certificates\n",
    "\n",
    "Thumbprint\n",
    "2025-02-04\n",
    "hackmd.io\n",
    "05a99c92186520aade04453386f9f41c4b86ac7d\n",
    "\n",
    "2024-03-06\n",
    "hackmd.io\n",
    "6c6378099957f6fdd8f44e0e4d8477609116f719\n",
    "\n",
    "2023-04-07\n",
    "hackmd.io\n",
    "19d26676c53cb15b6367986beb9971ceb47aecfd\n",
    "\n",
    "2023-02-15\n",
    "hackmd.io\n",
    "6cd1181e9eae666932b86df5824dd10672ed267b\n",
    "\n",
    "2022-05-06\n",
    "hackmd.io\n",
    "1f9ad85000a9e414a4fca8ce5d8f332e1d010b4e\n",
    "\n",
    "2021-06-05\n",
    "hackmd.io\n",
    "22e9dd9aa67ac10a1de558e37b78b392462b9f35\n",
    "\n",
    "＃　02caa9fb94a79072f95dc45c8ecea72bf332ba36530f20f62f3995852ca296e3\n",
    "\n",
    "\n",
    "＃　Basic properties\n",
    "MD5\n",
    "00636c87c6d43739e08159ae080abca6\n",
    " \n",
    "SHA-1\n",
    "ab005d14f9044e456a848823dc2c208f15e970aa\n",
    " \n",
    "SHA-256\n",
    "02caa9fb94a79072f95dc45c8ecea72bf332ba36530f20f62f3995852ca296e3\n",
    " \n",
    "Vhash\n",
    "htm:0f7d23f126f3a48faddf61c1a8b6e30a\n",
    " \n",
    "SSDEEP\n",
    "384:VurKrLq+AxjLk8hYIrlGvpmgnQcjph4Oqup0c3ldOnlD5LCtV+gI6LnlfWEX5:rvq5nk6YYlGRjfTdOnlD5LC+KlfWEX5\n",
    " \n",
    "TLSH\n",
    "T1C3D2F962F4F02136065780F6A2E3F348BE53511BE6435804B1FC47642FA6FA39F53A59\n",
    "\n",
    "＃　Script Tags\n",
    "2e8c5b6ca52e3a4a18aafd5b475145ca82e6a914f989b18e1ad2491c566b37ff\n",
    "\n",
    "20d9f8f9ddec230b24f06fe52bdc141479ff8996e77f02053029644e6661f216\n",
    "\n",
    "https://accounts.google.com/gsi/client\n",
    "\n",
    "49778d38ae84944e7bd112dc4bfe0ef82b49e11ba9ee224192482606cadcba7c\n",
    "\n",
    "d80481a403e09d23215a172236a794187b2480ea2994c0e7786460be879d0128\n",
    "\n",
    "https://www.googletagmanager.com/gtag/js?id=UA-60728495-1\n",
    "\n",
    "f99fc74595318b3f93b80c194e9bc26fc8bef82101451b6936569ee3013a7746\n",
    "\n",
    "https://browser.sentry-cdn.com/5.15.5/bundle.min.js\n",
    "\n",
    "b1970223e6a56d5b69e7b0b9fc5ac66ca37104d7be7ff9035f6b10466ced5702\n",
    "\n",
    "https://hackmd.io/api/i18n.js\n",
    "\n",
    "https://assets.hackmd.io/build/font-vendor.cfc9bbf7f59a24c7e6c4.js\n",
    "\n",
    "https://assets.hackmd.io/build/common-vendor.4fb39488e38e07ad876b.js\n",
    "\n",
    "https://assets.hackmd.io/build/pretty-vendor.ae927cc636c64832c2ad.js\n",
    "\n",
    "https://assets.hackmd.io/build/pretty-common.f2bb7062872855109188.js\n",
    "\n",
    "https://assets.hackmd.io/build/pretty.365e3a2cfaa624ac8c3a.js\n",
    "\n",
    "＃　Anchor HREFs\n",
    "https://assets.hackmd.io/build/common-vendor.3f50d6443fc55574a09d.css\n",
    "\n",
    "https://assets.hackmd.io/build/emojify.js/dist/css/basic/emojify.min.css\n",
    "\n",
    "https://assets.hackmd.io/build/font-vendor.3af8242de4ff555af255.css\n",
    "\n",
    "https://assets.hackmd.io/build/pretty-vendor.c152255c6001dfd89878.css\n",
    "\n",
    "https://assets.hackmd.io/build/pretty.77165569b3bd4140167e.css\n",
    "\n",
    "https://hackmd.io/\n",
    "\n",
    "https://hackmd.io/apple-touch-icon.png\n",
    "\n",
    "https://hackmd.io/auth/dropbox\n",
    "\n",
    "https://hackmd.io/auth/facebook\n",
    "\n",
    "https://hackmd.io/auth/github\n",
    "\n",
    "https://hackmd.io/auth/twitter\n",
    "\n",
    "https://hackmd.io/favicon.png\n",
    "\n",
    "https://hackmd.io/join\n",
    "\n",
    "https://hackmd.io/s/terms\n",
    "\n",
    "https://hackmd.io/settings/forgotPassword\n",
    "\n",
    "＃　　57e7b6e7073c33e812ecaef7a92ab4c7a406691c75a184bbc4f23ff897afdde2\n",
    "\n",
    "\n",
    "＃　Basic properties\n",
    "MD5\n",
    "54fe977c36088b9a771a639ccec0c334\n",
    " \n",
    "SHA-1\n",
    "0f51def1ba40561add651756210b2a95ad5b2116\n",
    " \n",
    "SHA-256\n",
    "57e7b6e7073c33e812ecaef7a92ab4c7a406691c75a184bbc4f23ff897afdde2\n",
    " \n",
    "Vhash\n",
    "htm:5aa46053f971278bc8c5c936a51f168b\n",
    " \n",
    "SSDEEP\n",
    "768:H7udaQnk6Y5+GhxVMzFETk0ETZFgOp9vmOlXSD5LH0jlndZzxW:EaQgxVaAkpZFgOp/ipH0jldZzxW\n",
    " \n",
    "TLSH\n",
    "T1C923B8B587F5B5A2022691976DCA3B48D9C1812FDA824549F1FCC3589FC5E93CF3B580\n",
    "\n",
    "\n",
    "＃　Script Tags\n",
    "fd1744b37e571268b831368a6f42179cedf79d32712b57ddd667a362753f6f20\n",
    "\n",
    "20d9f8f9ddec230b24f06fe52bdc141479ff8996e77f02053029644e6661f216\n",
    "\n",
    "https://www.google.com/recaptcha/enterprise.js?render=6LdtkK4ZAAAAAG1B4iENhmQTce1xNTyHu0GjgnXi&hl=es-ES\n",
    "\n",
    "https://accounts.google.com/gsi/client\n",
    "\n",
    "49778d38ae84944e7bd112dc4bfe0ef82b49e11ba9ee224192482606cadcba7c\n",
    "\n",
    "d893b054b65aa9928dec94c3995b63078b6384318f80ca81c1cd709a1f0e5332\n",
    "\n",
    "df9f63bf31c29c8f241c351a92f19e427aa05e963bdc6bbe8340ca5fbca499cf\n",
    "\n",
    "https://www.googletagmanager.com/gtag/js?id=UA-60728495-1\n",
    "\n",
    "f99fc74595318b3f93b80c194e9bc26fc8bef82101451b6936569ee3013a7746\n",
    "\n",
    "https://browser.sentry-cdn.com/5.15.5/bundle.min.js\n",
    "\n",
    "b1970223e6a56d5b69e7b0b9fc5ac66ca37104d7be7ff9035f6b10466ced5702\n",
    "\n",
    "https://hackmd.io/api/i18n.js\n",
    "\n",
    "https://assets.hackmd.io/build/font-vendor.8ccf5b3bef0e171569b5.js\n",
    "\n",
    "https://assets.hackmd.io/build/common-vendor.5a96f2fab315139321d3.js\n",
    "\n",
    "https://assets.hackmd.io/build/pretty-vendor.3a661c5140ccde4a899f.js\n",
    "\n",
    "https://assets.hackmd.io/build/pretty-common.a7e3b60234cb68576456.js\n",
    "\n",
    "https://assets.hackmd.io/build/pretty.b24a42f1df762a98e46a.js\n",
    "\n",
    "\n",
    "＃　Anchor HREFs\n",
    "\n",
    "https://assets.hackmd.io/build/common-vendor.3f50d6443fc55574a09d.css\n",
    "\n",
    "https://assets.hackmd.io/build/emojify.js/dist/css/basic/emojify.min.css\n",
    "\n",
    "https://assets.hackmd.io/build/font-vendor.3d113077b3e51703e6ff.css\n",
    "\n",
    "https://assets.hackmd.io/build/pretty-vendor.c152255c6001dfd89878.css\n",
    "\n",
    "https://assets.hackmd.io/build/pretty.f1613fd0e799de8db0a5.css\n",
    "\n",
    "https://hackmd.io/\n",
    "\n",
    "https://hackmd.io/@cicvNR77Qoem0wkzPOdC8w/ByQ_e5poi?utm_source=preview-mode&utm_medium=rec\n",
    "\n",
    "https://hackmd.io/@cicvNR77Qoem0wkzPOdC8w/SJVN6Yajo?utm_source=preview-mode&utm_medium=rec\n",
    "\n",
    "https://hackmd.io/@cicvNR77Qoem0wkzPOdC8w/SkT1QY6ii?utm_source=preview-mode&utm_medium=rec\n",
    "\n",
    "https://hackmd.io/@cicvNR77Qoem0wkzPOdC8w/ryyPW9pjo?utm_source=preview-mode&utm_medium=rec\n",
    "\n",
    "https://hackmd.io/@cicvNR77Qoem0wkzPOdC8w?utm_source=preview-mode&utm_medium=rec\n",
    "\n",
    "https://hackmd.io/apple-touch-icon.png\n",
    "\n",
    "https://hackmd.io/auth/dropbox\n",
    "\n",
    "https://hackmd.io/auth/facebook\n",
    "\n",
    "https://hackmd.io/auth/github\n",
    "\n",
    "https://hackmd.io/auth/twitter\n",
    "\n",
    "https://hackmd.io/favicon.png\n",
    "\n",
    "https://hackmd.io/join\n",
    "\n",
    "https://hackmd.io/s/terms\n",
    "\n",
    "https://hackmd.io/settings/forgotPassword\n"
   ]
  },
  {
   "cell_type": "code",
   "execution_count": null,
   "id": "06061f3f",
   "metadata": {
    "execution": {
     "iopub.execute_input": "2025-07-14T08:16:58.379057Z",
     "iopub.status.busy": "2025-07-14T08:16:58.378774Z",
     "iopub.status.idle": "2025-07-14T08:16:58.391665Z",
     "shell.execute_reply": "2025-07-14T08:16:58.390778Z",
     "shell.execute_reply.started": "2025-07-14T08:16:58.379036Z"
    },
    "papermill": {
     "duration": null,
     "end_time": null,
     "exception": null,
     "start_time": null,
     "status": "pending"
    },
    "tags": []
   },
   "outputs": [],
   "source": [
    "95e2b2bad86bd293bb232a53da0cbb3b077360976b9d1f518e93cedefbba229b\n",
    "\n",
    "Basic properties\n",
    "\n",
    "MD5\n",
    "\n",
    "5cc322b0417a76e39316c7f14d60466f\n",
    "\n",
    " \n",
    "\n",
    "シャー-1\n",
    "\n",
    "372380c711205a56f5709ef925c986049c11b789\n",
    "\n",
    " \n",
    "\n",
    "シャー-256\n",
    "\n",
    "95e2b2bad86bd293bb232a53da0cbb3b077360976b9d1f518e93cedefbba229b\n",
    "\n",
    " \n",
    "\n",
    "Vhash\n",
    "\n",
    "c2b1bdce6735e99260f5eb93b8e06f16\n",
    "\n",
    " \n",
    "\n",
    "SSDEEP\n",
    "\n",
    "3072:TJz0lDzPCh0n9kpg/XKFO39XPY1dHMhCmErxxb+hyPrGAw1FXBQKyM:TeDumXTCNKyM\n",
    "\n",
    " \n",
    "\n",
    "TLSH\n",
    "\n",
    "T192E30A3D51E1693B123B61C6A98A27BD70F1163EDA5B6804FAFCC75823C6DC6F241B\n",
    "\n",
    "\n",
    "\n",
    "1f033fcba9105f34b186b91ec9fc4f14\n",
    "\n",
    "7861ff5dae4f6bc9ac8626ae1b858f28\n",
    "\n",
    "8006780bed1e33b5e0a9c422e2e0d8e0\n",
    "\n",
    "94d57f01fff2fce960e6baaf4395df91\n",
    "\n",
    "99ec148ab81f434688027c1b11e45524\n",
    "\n",
    "c23aab3840ad55d4713e1b2d319da50e\n",
    "\n",
    "ca3897c4e8b85e07b8a750560c2954e8\n",
    "\n",
    "acbf066a753ed58848704138b24be49d.safeframe.googlesyndication.comcksync.yahoo.co.jpclb.yahoo.co.jpdsb.yahoo.co.jpep1.adtrafficquality.googleep2.adtrafficquality.googleib.adnxs.comipi.yahoo.co.jpニュース-pctr.c.yimg.jp pagead2.googlesyndication.com pushlist-yjapp.yahoo.co.jp quriosity-pctr.c.yimg.jp quriosity.yahoo.co.jp s.yimg.jp securepubads.g.doubleclick.net strike-website.com www.google.com www.googletagmanager.com www.yahoo.co.jp yads.c.yimg.jp yads.yjtag.yahoo.co.jp yahoo.co.jp ipi.yahoo.co.jp pagead2.googlesyndication.com securepubads.g.doubleclick.net  103.43.90.19 124.83.184.124 124.83.184.252 124.83.185.252 142.250.196.98 142.250.199.98 142.251.42.129 142.251.42.196 172.217.175.98 182.22.24.124 182.22.28.252 183.79.249.124 183.79.249.252 202.239.3.248 202.239.3.249 213.109.149.120 2404:6800:4004:821::2008 2404:6800:400a:80a::2001 0027012cea5419d5191bfdc33e00788a6a8930bd3b066eea55703a20639ec7f6 00efa2504efe16a87f3c03742f27cdf8402435829b9668167c303d19d11f76e7 01bc77f085256104a080accfae36b27e20488ecfa18042ad880db277205a6091 04d23bec069b43e85bb99a22d97e9f72b2973474216f1443c1a079bd1f61fd10 074028b7f2f4b0c4f2a3a861922287d4f41f70337c9908c74099d28609d0d07b 076dded6a43f7a982a35015adab75db57a88fa25723a9cfcf6941a170204c5b5 0dcb689c8f9de329c3f4890d03be5497c7d3905772c044defce220d65788533f 0de78aadcb9c8c7330a97197ed093b2bbb9f6f74c9d6bcc2c9a7e58e7006b3e2 1070640ec63ec0e4f6a90067cd6e138b5bb7d402f6a19d4fd4365a17c98954ac 14b660a511e14a9a481c6fe43c576f36c61b656cfd379728c54f1128e1855966 1af231786d129e14597a3bea6ef6d57b956a5fc49f2ff9e1d70b5634d79ef25a 200c5c39615e8f493fe65df6ea8e3c0c3cd5ba011ff5233a297a6650b657bbc1 27d5df3a675cfa7bc93ddcfe07b184fee3d0c8455cfc0ad5ca7b93952c9368bf 2e8f620b8643962fe907049677b1763c522d4c11b7248ba3527284a24b5fc896 39777cbbfea8e7f1fc8438db7a35db099fbbd6d39adab7afd807e0e1329614b0 3aa973f60e2cc514930a35b97bd137ec676eadf824306f05a621dfbf8cf5a0ce 3ae64b1b1b93ef1d5ee7951e9d5d6b695464334bb16e35c3db98e919c0ab701e 3c81991c11d42bbafd53bd8f19db4dcb1379f00d385f67e20e693dba7804e463 3d5b53b63026f27a5fb20c6302653e896fe80979d1754670d46182c30309bb17 3fc5e96428f429de3046ee63c5462dfd04a3a31f268911726e7f31d1420d5d0b 3fe91c582fb948007c4c6f1484a36ee370f1dba62db8f4ddaf28c9ab0c63730c 4408ad66b6a86acbf806532fc319a1c002eb3ac7381e04458439721839f4de95 44136fa355b3678a1146ad16f7e8649e94fb4fc21fe77e8310c060f61caaff8a 45e8485135b935c9b1fb6eed6c2e24c33b04ec63ed0f08da03a8ce37f3627287 461b139552f92e33d4508341534b4a31305bdb63fa345600fc70558783556357 46201e35be3bc112270f13992ae727dc1085bb02461bffcca7b63ba7a8aecb29 517dd62430ee928f80a11720c976188e1ff0d940c530da6dd1e265c2d1375391 51c6f0fbd263de58341ac11712feb892dc7e3e7f1dfb6fb6e424869b6f4c6107 573055eba023a97be34c113ba0ebb6d2f3c9724eb2875b78402c953b94d53640 5780a4657760fe6d9a3d9b060e23b8dc44b6e93e8d585e0317490ababf0ad829 59fb5c036f77163616f63bbd11ab89f4df4a6625a7fefab4e5cfb61267369c27 5be15ee8bf6b807cf948d633e23d88b0a5f55bf3a6fb907da96849e63bc7105c 6160c9de4bfcd2d694242805d89acd1dafc43108573dedb8a3e7193ee4d928e2 6294d7e9e824ec4fd66afb2ea2f1080b6a55b9cb70a628f6460532438700e62f 62f97dc5d62befa5381e35a4a19d67bb9761ef0ce1e539acdca6050ce976c7ee 63ddc06e74d9d5e83e44c8984fb218b6b9fc44aaf202411a9ca183c8049b2f71 648601dc7593468e5843cc44232796d43a303a2bd5656b82e50e15b6712be6c6 689638d10f5b4179eaa05e17d4814fe7b1eb8474bd550d6748a7ad27977aa034 6aa35280abe0d808fe56cf666eafa965ab94ec5d1e558c41f60c80c05ca38e26 6adc3d4c1056996e4e8b765a62604c78b1f867cceb3b15d0b9bedb7c4857f992 6b0c0b7abcf5358cd787e563e04aea27949a21f4fe481532c5f1716b4b567cff 6bd50d7d8810887be95715126e1196f850a65bcfb984bb5a7d8a3a3c679fed35 6d362b3cd7d861e06c7dfea1a72c1a5b3c53332164557d297abdfb17b49e24be 6dc202a8d95e71da5a7700506387a1b9c705f98263891fc3ef66f53c1d5cbbff 7244772175f7a755920ca0fe980bc86335008e06088ec7031418da9f69825d48 755cc37111ecc53e554fc045218978aa9579a3b97b5ff69cd157666a15088295 7c8a1b933067084d92d68fb40ca9206cee8512f1cfa4cf8b3dca8ba0c6c3195f 7e79620f13bc18964aee46e35e41d904926bd751e114cd59a99df4807819c7d6 8035659f91eaecd498f1e009b959687f8b093c0cb30b9c7919ffb25ff37217de 82b7c628693fa5549b5b068a77cfec62e7348170f9ecd1b9b3ffca2b3dfc7856 87ae9202cac457e9b594092f3cb77d1c55496711dd6893e63cbdd3aef5bd3935 87eaa158734070a47587dda61a588ca013ee86b9b27cea686c24b8fd78c308ca 887ab486f5c7f7efa73e5590c4863d068f22332894f0cc27ece23ff8bae344e8 892106a3de09409d42ef4899d3d8766b13efe18ec6a235e08f3bb4c09c49e7c3 8b201ac1a55da7b5d23eb82b9e3fcfc30ebc46b45467e28fd0e9a25a798aca3e 8c5540e2f8317cf2b5cc65bda21555099b4d5ec91956f464ff0d49bcf9e259f2 8f45d61497e37e41e0887cd3ee260b5153f7898ec8760c5462c8a97f455927c9 904a99794f2afc6dc4ed06607ca8a0ea8d4ca4d7edcbb5682213695956c90d58 9303d09c14829cb5d7923e6b2c8560cbc432c5a416016a9fa055d821b583d8ff 960d2e4bc47e07ba7e594b62d462107f5155df1d65acf5677b9cf0bd6dfd1d75 96eb3e5a359aaf9b7b666e6ac2d33445f679bbc6b6ce947b6b93e60ac5885ae9 96f6dead8defd0af2cdaf12b052cf02bbf6eec54707725af7295a174790774ee 97152878178915d3aee5b95c8c8ead8ade715990096bb02cff7407bc8bb83ea5 99806974c06ba8b2c28cbcc9df2f9ada575470d5dd312ae6885bf0dd1e99a7b5 9a8df279d0235dce720aa717eb50d4ca350fb66d193a62e2a2dd2572cf85fcef 9d31e2b04e09183d62e0b37369d0d1ac4ad9610be6cd8ec7a613b50493c0b9fc a01ac2234baaf56c9941e69cca69a923721a4c01ad7bc1d366f38592fa699d1e a0dce908868077ec2b2c374339681a88c737cf8ffcd196c566734edf7f8e334b a1b3c5c353eb09d5394c9d9fa20794d5e67664726068a840046fad11807e7817 a5b5f106471e8181f4fc4bb37b1d0f0aaa12eb27b50b96d192da51034b1f8f0d a66a82fd4b74e8fc2bae4f5aeb3403a0b78cadd0976700f3596c3a4ccfe42f40 a6e486a19e81ff18907383689dece4fe0a76dd521ae3bd8dcedd7e728a9efaa9 a7cb77a500fb1c434299a0a066c17797bbfd0b8c7f18f88fde2dd8dd1fd1cea9 a7f65c0446b6cac3175458f6388304d0c23e70d11fa0db20920a619f1bc18623 a8eaf2384fabdaec37bd24d2857c61a60b1cf3ca2d70802d1f0b790a837cf2be ae60dc042c625637e1a5e07b43f306e1963a4c464f956c959bd73897a6a70ebe aeffc06bad6e5132e893a9c648c9039340392452d0e953908744fb4f96d24f12 b164504f51cba5d60a38b02424ce93a5bf9f877a86233a4c33369f4753450103 b1f3bd20af37262b0c9b7215a66c7ef99eae073cbf78c184e088b7714efda43e b373791f7b002b6be9f24a6c1a80cb9e6aa3761719628cb80354d27362caf16d b3c8a7aa2bc429aa15a764574d7c7d54f2672628dff75ca830a5db4cbc878b3d b6c2719174193ba05ebb0f9a6b4f650b7489f020bc268296e68b50b5af2f1f6c ba31066e5025f81914ebc17d25f695aa069b13de3c56cb6cbec8809425e90f07 bb1f150a45bc935fa776fc723ebfc50d5cdc98c3dde753d3427c79f72b00d928 bec883f20a4595e2d56f95d0170041b2de82ea2166590751e5d2dfa8782ced53 c0c55c18e6185fbe3ab264aa7b990f5801dba72c6081d823218a6d30eba82a8e c0e70057b620dffa1b188a790064d6e70caab996a340acc071c94389e8e41705 c3fe976164c80935b950589f4a95791da71eddd6ac78f4dffcba459de0f8c4c8 c603ef8f4a432f48f63b2fc98544932eba285a91d1a4d6c6a587209b5f3051d8 c6a51ca92f918fba5d32121e8ed60a073b05518dc43f234ed3e4ad3a65353970 c6da02cd48e63ad8a6019f4c8d96e7f2dba3392067f209f206be0eb1a75c170e c9ffffbba799bb7d8a6e04ec0908c2df7d2b955571715bc1096a21f5c8b99b1d d05b41389588772b0e127b205dbda00f1867909cc2a9518482887cff9f50708c d12d1f906286a35cd5c3b829fc983920cdcac9e4ea1553419cbd49167698a014 d29a00d5bb8996999421d889d3bdd5cba994415078bd23e9a5727038134a8096 d61b3f8837a919d900bfce9f6cf95d25d0e5d0853cae8b533a61a6c4f71a4be7 d6319a3e7249616686ad0a05bf95575ebb78ac27ef0fc06eac7fde6aaf921e91 d8755f5a237caa53c9463a6ab704f0f26a827d56586425f86f3e88156406170f da399f52c1d241cff5b31aefa27b0ba4fd49a3b7f4c13e5b42214c7c54c6d1fd df7cb56fdebd034a2c3b507dbe9b1383020ff929b6e08ce4f08f53f6c46248c8 e27ae3cc17f50b40875d941e72eff4c1663d7b65e19c3514b0cd0aba3e150bb9 e37d4a006c7b428ae86860468e0cc9724e3ff39aa74babb47ccf7bbd19f2044e e3b0c44298fc1c149afbf4c8996fb92427ae41e4649b934ca495991b7852b855 ec0eca9bf5c9268eb1d9d372d6089b90f303dfc7bf443172d6f7e1b17df3d4b7 ec4a06385cbe5075cc5d09ee4bdcef241f5546cce52f7acf091294e84b035217 ed4022074eb4dd1c261686f4a2d0715607edd982502f88fb9152588c9d1ad6a8 edd50fa53d57161f5f7ee5cb5ec53180f6047ac013515ba54da79717bd542191 ee152fa697362684357e24136583be8375fe821f1e4013c3cae2d2c2e5700382 f01d90bf13773ba3d39b46d53790d73fa47954e28bfeca50089e72bb61516d82 f079b9950b62970981f2f2db64fb1d2f056803c5763c8b1eff6d3db0d2a1ca4f f1a68bf826c55985468304f4284a09cb8a68e82503d764166e611a7c58a85a4b f1b94f8e035d4e75e4596be8dca6b3423e60c1a46d48b9fe2f36c73e3e6e5f40 f259329335beeb34bf0f396d24723c599ff288597be6ae3fd658aaab26a81799 f2c6df800d42b682e828ee4880793909df1d673e863d4d0242370ef46fc009f2 f31455dab81196c1a6c1f04e1a80aa889472a255fa4d7574abaa7ad1d15f4bc2 f3dde8adda9af9616246c1f87dd641ab69a40f07f91f059afaaba0557f4d7d29 f512bb9654f70af5a82c0fe498fc7df8fd823b19ea98d10ca38c177c4dc1b2ab f66e7f19826d12e6c1d9873449e7b3fa25465a286840f770155082ed66924c07 f6eded0e9cd815052b05e979bbe083240db1dfbffb2139d078bd5ca4d3a06525 f73eccd61f686c234d60318c2c2b9018371ed125f0f0bfea2a3d0eb0a5382d8a f7874eaf3439468f4bb799d707cf756794d0de165ed73abb226c96f6bed710e5 fc9644366ad47993bb2726e54c3d0a910f24b3bd828a67b921a239bd5aa45255 ff3b7850b30fd63be571966c208a8925eb9d06b2c03fabd9e88f87635b39bf0a"
   ]
  },
  {
   "cell_type": "markdown",
   "id": "f15b8fb1",
   "metadata": {
    "papermill": {
     "duration": null,
     "end_time": null,
     "exception": null,
     "start_time": null,
     "status": "pending"
    },
    "tags": []
   },
   "source": []
  },
  {
   "cell_type": "code",
   "execution_count": null,
   "id": "08cb3b68",
   "metadata": {
    "papermill": {
     "duration": null,
     "end_time": null,
     "exception": null,
     "start_time": null,
     "status": "pending"
    },
    "tags": []
   },
   "outputs": [],
   "source": [
    "http://  http.aspエルメス://yahoo-mbga.jp/ https://app.adjust.com/1kmi1m2?redirect=https%3A%2F%2Fpaypayfleamarket.yahoo.co.jp%2F%3Fcpt_s%3Dytopmedia%26cpt_m%3Dkotei%26cpt_n%3Dcontent%26cpt_c%3Dytopmedia https://auctions.yahoo.co.jp https://auctions.yahoo.co.jp/ https://bangumi.org/yep/facade?pc_yjweb https://bbpromo.yahoo.co.jp/softbank-air/?R=004&ui_medium=owned&ui_source=top&argument=gSYa2NXf&dmai=Y00438_O_top_ALL&cpt_n=Air_ytop_pc&cpt_m=ytop&cpt_s=yj https://business-ec.yahoo.co.jp/shopping/top.html https://business.yahoo.co.jp/ https://calendar.yahoo.co.jp/ https://carview.yahoo.co.jp/ https://chiebukuro.yahoo.co.jp/ https://chiebukuro.yahoo.co.jp/?fr=ytop_menu https://crowdsourcing.yahoo.co.jp/ https://demae-can.com/?utm_source=yahoo&utm_medium=toplink&utm_campaign=demaecantop https://donation.yahoo.co.jp/ https://ds.yahoo.co.jp/gallery/trend/?utm_source=yahoo&utm_medium=referral&utm_campaign=web_240129_ytopToGallery https://ebookjapan.yahoo.co.jp/?utm_source=yahoo&utm_medium=content&utm_campaign=pcsvc https://ext.yahoo.co.jp/promotion/startpage/ https://finance.yahoo.co.jp/ https://fortune.line.me/contents/?utm_campaign=web_yahoo_web_top https://furusato.yahoo.co.jp/?sc_e=yt_cfrst_pc_cont https://games.yahoo.co.jp/ https://jp.stanby.com/?sr_fr=job_detail&utm_source=yjtop&utm_medium=leftcolumn&utm_campaign=yj_leftcolumn https://kids.yahoo.co.jp/ https://kikin.yahoo.co.jp/ https://lohaco.yahoo.co.jp/?bk=t&sc_e=j_as_ya_tc_n&iscr=1 https://m.yahoo.co.jp/ https://mail.yahoo.co.jp/ https://map.yahoo.co.jp/ https://music.line.me/launch?cc=JP https://my-best.com/?utm_y_top https://news.yahoo.co.jp/ https://news.yahoo.co.jp/categories/business https://news.yahoo.co.jp/categories/domestic https://news.yahoo.co.jp/categories/entertainment https://news.yahoo.co.jp/categories/it https://news.yahoo.co.jp/categories/local https://news.yahoo.co.jp/categories/science https://news.yahoo.co.jp/categories/sports https://news.yahoo.co.jp/categories/world https://news.yahoo.co.jp/pickup/6542811 https://news.yahoo.co.jp/pickup/6542814 https://news.yahoo.co.jp/pickup/6542818 https://news.yahoo.co.jp/pickup/6542820 https://news.yahoo.co.jp/pickup/6542821 https://news.yahoo.co.jp/pickup/6542826 https://premium.yahoo.co.jp/?sc_e=stpage_lyp_mast_head_pc_prem https://premium.yahoo.co.jp/?sc_e=stpage_lyp_service_list_pc_prem https://promo-mobile.yahoo.co.jp/yjapp/ https://realestate.yahoo.co.jp/ https://restaurant.ikyu.com/rsCosite.asp?CosNo=10000175&CosUrl= https://s.yimg.jp/c/icon/s/bsc/2.0/favicon.ico https://s.yimg.jp/c/icon/s/bsc/2.0/y120.png https://sdgs.yahoo.co.jp/ https://search.yahoo.co.jp/ https://search.yahoo.co.jp/image https://search.yahoo.co.jp/realtime https://search.yahoo.co.jp/video https://services.yahoo.co.jp/ https://shopping.yahoo.co.jp/?sc_e=ytc https://shopping.yahoo.co.jp/?sc_e=ytmh https://shopping.yahoo.co.jp/promotion/event/category/food/gourmetfestival/?sc_i=shopping-pc-web-promotion-feature-rcmnd-item https://sports.yahoo.co.jp/ https://sports.yahoo.co.jp/golf/lpga/leadersboard/3724/round/ https://sukimani.line.me/jobs?utm_medium=sukimani_yahoo&utm_source=web&utm_campaign=pc&utm_term=pc_tool&utm_content=202410 https://support.yahoo-net.jp/PccHelpcenter/s/ https://support.yahoo-net.jp/noscript https://toku.yahoo.co.jp/?sc_e=ytcsvc_m2cwithlp_zbtkpc https://toto.yahoo.co.jp/big?cpt_n=yjtoptest&cpt_m=pc&cpt_s=yahoo&cpt_c=tool https://transit.yahoo.co.jp/ https://travel.yahoo.co.jp/ikCo.ashx?cosid=y_010002&cosuid=ytsl&surl=%2F&sc_e=ytsl https://travel.yahoo.co.jp/ikCo.ashx?cosid=y_010017&cosuid=ytmh&surl=%2F&sc_e=ytmh https://trilltrill.jp/ https://volunteer.yahoo.co.jp/ https://weather.yahoo.co.jp/weather/ https://www.bosaiguide.jp/sp-bosai/?cpt_n=yj_startpage&cpt_m=sp&cpt_s=yj_startpage_sptarget19_06kjfmt_d_sp&cpt_c=heatstroke https://www.ikyu.com/ikCo.ashx?cosid=ik010002&surl=%2F&sc_e=ytc_pc_ikyu https://www.kurashiru.com/?utm_source=yahoo_top_contentbox https://www.lycbiz.com/jp/service/yahoo-ads/lp/ld20231201/?o=JP3780 https://www.lycorp.co.jp/ja/company/athletes/ https://www.lycorp.co.jp/ja/news/ https://www.lycorp.co.jp/ja/story/20250619/value_dialogue.html?utm_source=yahoo&utm_medium=yj_info https://www.lycorp.co.jp/ja/sustainability/#csr https://www.paypay-card.co.jp/?utm_source=YTOP&utm_medium=txt_content&utm_campaign=PPCD_e https://www.paypay-card.co.jp?utm_source=YTOP&utm_medium=mhd&utm_campaign=pc https://www.paypay-corp.co.jp/store/campaign/ https://www.yahoo.co.jp https://www.yahoo.co.jp/ https://yellmarket.yahoo.co.jp/ https://zozo.jp/?utm_source=yahoo&utm_medium=referral&utm_campaign=web_ytop-leftcolumn\n",
    "\n",
    "\n"
   ]
  },
  {
   "cell_type": "markdown",
   "id": "724ab015",
   "metadata": {
    "papermill": {
     "duration": null,
     "end_time": null,
     "exception": null,
     "start_time": null,
     "status": "pending"
    },
    "tags": []
   },
   "source": [
    "http://yahoo-mbga.jp/ https://app.adjust.com/1kmi1m2?redirect=https%3A%2F%2Fpaypayfleamarket.yahoo.co.jp%2F%3Fcpt_s%3Dytopmedia%26cpt_m%3Dkotei%26cpt_n%3Dcontent%26cpt_c%3Dytopmedia https://auctions.yahoo.co.jp https://auctions.yahoo.co.jp/ https://bangumi.org/yep/facade?pc_yjweb https://bbpromo.yahoo.co.jp/softbank-air/?R=004&ui_medium=owned&ui_source=top&argument=gSYa2NXf&dmai=Y00438_O_top_ALL&cpt_n=Air_ytop_pc&cpt_m=ytop&cpt_s=yj https://business-ec.yahoo.co.jp/shopping/top.html https://business.yahoo.co.jp/ https://calendar.yahoo.co.jp/ https://carview.yahoo.co.jp/ https://chiebukuro.yahoo.co.jp/ https://chiebukuro.yahoo.co.jp/?fr=ytop_menu https://crowdsourcing.yahoo.co.jp/ https://demae-can.com/?utm_source=yahoo&utm_medium=toplink&utm_campaign=demaecantop https://donation.yahoo.co.jp/ https://ds.yahoo.co.jp/gallery/trend/?utm_source=yahoo&utm_medium=referral&utm_campaign=web_240129_ytopToGallery https://ebookjapan.yahoo.co.jp/?utm_source=yahoo&utm_medium=content&utm_campaign=pcsvc https://ext.yahoo.co.jp/promotion/startpage/ https://finance.yahoo.co.jp/ https://fortune.line.me/contents/?utm_campaign=web_yahoo_web_top https://furusato.yahoo.co.jp/?sc_e=yt_cfrst_pc_cont https://games.yahoo.co.jp/ https://jp.stanby.com/?sr_fr=job_detail&utm_source=yjtop&utm_medium=leftcolumn&utm_campaign=yj_leftcolumn https://kids.yahoo.co.jp/ https://kikin.yahoo.co.jp/ https://lohaco.yahoo.co.jp/?bk=t&sc_e=j_as_ya_tc_n&iscr=1 https://m.yahoo.co.jp/ https://mail.yahoo.co.jp/ https://map.yahoo.co.jp/ https://music.line.me/launch?cc=JP https://my-best.com/?utm_y_top https://news.yahoo.co.jp/ https://news.yahoo.co.jp/categories/business https://news.yahoo.co.jp/categories/domestic https://news.yahoo.co.jp/categories/entertainment https://news.yahoo.co.jp/categories/it https://news.yahoo.co.jp/categories/local https://news.yahoo.co.jp/categories/science https://news.yahoo.co.jp/categories/sports https://news.yahoo.co.jp/categories/world https://news.yahoo.co.jp/pickup/6542811 https://news.yahoo.co.jp/pickup/6542814 https://news.yahoo.co.jp/pickup/6542818 https://news.yahoo.co.jp/pickup/6542820 https://news.yahoo.co.jp/pickup/6542821 https://news.yahoo.co.jp/pickup/6542826 https://premium.yahoo.co.jp/?sc_e=stpage_lyp_mast_head_pc_prem https://premium.yahoo.co.jp/?sc_e=stpage_lyp_service_list_pc_prem https://promo-mobile.yahoo.co.jp/yjapp/ https://realestate.yahoo.co.jp/ https://restaurant.ikyu.com/rsCosite.asp?CosNo=10000175&CosUrl= https://s.yimg.jp/c/icon/s/bsc/2.0/favicon.ico https://s.yimg.jp/c/icon/s/bsc/2.0/y120.png https://sdgs.yahoo.co.jp/ https://search.yahoo.co.jp/ https://search.yahoo.co.jp/image https://search.yahoo.co.jp/realtime https://search.yahoo.co.jp/video https://services.yahoo.co.jp/ https://shopping.yahoo.co.jp/?sc_e=ytc https://shopping.yahoo.co.jp/?sc_e=ytmh https://shopping.yahoo.co.jp/promotion/event/category/food/gourmetfestival/?sc_i=shopping-pc-web-promotion-feature-rcmnd-item https://sports.yahoo.co.jp/ https://sports.yahoo.co.jp/golf/lpga/leadersboard/3724/round/ https://sukimani.line.me/jobs?utm_medium=sukimani_yahoo&utm_source=web&utm_campaign=pc&utm_term=pc_tool&utm_content=202410 https://support.yahoo-net.jp/PccHelpcenter/s/ https://support.yahoo-net.jp/noscript https://toku.yahoo.co.jp/?sc_e=ytcsvc_m2cwithlp_zbtkpc https://toto.yahoo.co.jp/big?cpt_n=yjtoptest&cpt_m=pc&cpt_s=yahoo&cpt_c=tool https://transit.yahoo.co.jp/ https://travel.yahoo.co.jp/ikCo.ashx?cosid=y_010002&cosuid=ytsl&surl=%2F&sc_e=ytsl https://travel.yahoo.co.jp/ikCo.ashx?cosid=y_010017&cosuid=ytmh&surl=%2F&sc_e=ytmh https://trilltrill.jp/ https://volunteer.yahoo.co.jp/ https://weather.yahoo.co.jp/weather/ \n",
    "\n",
    "https://www.bosaiguide.jp/sp-bosai/?cpt_n=yj_startpage&cpt_m=sp&cpt_s=yj_startpage_sptarget19_06kjfmt_d_sp&cpt_c=heatstroke \n",
    "\n",
    "\n",
    "https://www.ikyu.com/ikCo.ashx?cosid=ik010002&surl=%2F&sc_e=ytc_pc_ikyu \n",
    "\n",
    "\n",
    "https://www.kurashiru.com/?utm_source=yahoo_top_contentbox\n",
    "\n",
    "\n",
    "https://www.lycbiz.com/jp/service/yahoo-ads/lp/ld20231201/?o=JP3780 \n",
    "\n",
    "\n",
    "https://www.lycorp.co.jp/ja/company/athletes/ \n",
    "\n",
    "https://www.lycorp.co.jp/ja/news/ https://www.lycorp.co.jp/ja/story/20250619/value_dialogue.html?utm_source=yahoo&utm_medium=yj_info\n",
    "\n",
    "https://www.lycorp.co.jp/ja/sustainability/#csr https://www.paypay-card.co.jp/?utm_source=YTOP&utm_medium=txt_content&utm_campaign=PPCD_e \n",
    "\n",
    "https://www.paypay-card.co.jp?utm_source=YTOP&utm_medium=mhd&utm_campaign=pc \n",
    "\n",
    "https://www.paypay-corp.co.jp/store/campaign/ \n",
    "\n",
    "https://www.yahoo.co.jp \n",
    "\n",
    "https://www.yahoo.co.jp/ \n",
    "\n",
    "https://yellmarket.yahoo.co.jp/\n",
    "\n",
    "https://zozo.jp/?utm_source=yahoo&utm_medium=referral&utm_campaign=web_ytop-leftcolumn\n",
    "\n",
    "\n"
   ]
  },
  {
   "cell_type": "markdown",
   "id": "db935f8f",
   "metadata": {
    "papermill": {
     "duration": null,
     "end_time": null,
     "exception": null,
     "start_time": null,
     "status": "pending"
    },
    "tags": []
   },
   "source": [
    "https://www.googletagmanager.com/ns.html?id=GTM-TQJW5V3W\n",
    "\n",
    "https://www.virustotal.com/gui/ip-address/213.109.149.120\n",
    "\n",
    "https://strike-website.com/reg_new\n"
   ]
  },
  {
   "cell_type": "code",
   "execution_count": null,
   "id": "519d04e0",
   "metadata": {
    "execution": {
     "iopub.execute_input": "2025-07-14T08:17:11.999149Z",
     "iopub.status.busy": "2025-07-14T08:17:11.998181Z",
     "iopub.status.idle": "2025-07-14T08:17:12.014473Z",
     "shell.execute_reply": "2025-07-14T08:17:12.013407Z",
     "shell.execute_reply.started": "2025-07-14T08:17:11.999113Z"
    },
    "papermill": {
     "duration": null,
     "end_time": null,
     "exception": null,
     "start_time": null,
     "status": "pending"
    },
    "tags": []
   },
   "outputs": [],
   "source": [
    "http://  http://yahoo-mbga.jp/\n",
    "https://app.adjust.com/1kmi1m2?redirect=https%3A%2F%2Fpaypayfleamarket.yahoo.co.jp%2F%3Fcpt_s%3Dytopmedia%26cpt_m%3Dkotei%26cpt_n%3Dcontent%26cpt_c%3Dytopmedia\n",
    "https://auctions.yahoo.co.jp https://auctions.yahoo.co.jp/ https://bangumi.org/yep/facade?pc_yjweb https://bbpromo.yahoo.co.jp/softbank-air/?R=004&ui_medium=owned&ui_source=top&argument=gSYa2NXf&dmai=Y00438_O_top_ALL&cpt_n=Air_ytop_pc&cpt_m=ytop&cpt_s=yj https://business-ec.yahoo.co.jp/shopping/top.html https://business.yahoo.co.jp/ https://calendar.yahoo.co.jp/ https://carview.yahoo.co.jp/ https://chiebukuro.yahoo.co.jp/ https://chiebukuro.yahoo.co.jp/?fr=ytop_menu https://crowdsourcing.yahoo.co.jp/ https://demae-can.com/?utm_source=yahoo&utm_medium=toplink&utm_campaign=demaecantop https://donation.yahoo.co.jp/ https://ds.yahoo.co.jp/gallery/trend/?utm_source=yahoo&utm_medium=referral&utm_campaign=web_240129_ytopToGallery https://ebookjapan.yahoo.co.jp/?utm_source=yahoo&utm_medium=content&utm_campaign=pcsvc https://ext.yahoo.co.jp/promotion/startpage/ https://finance.yahoo.co.jp/ https://fortune.line.me/contents/?utm_campaign=web_yahoo_web_top https://furusato.yahoo.co.jp/?sc_e=yt_cfrst_pc_cont https://games.yahoo.co.jp/ https://jp.stanby.com/?sr_fr=job_detail&utm_source=yjtop&utm_medium=leftcolumn&utm_campaign=yj_leftcolumn https://kids.yahoo.co.jp/ https://kikin.yahoo.co.jp/ https://lohaco.yahoo.co.jp/?bk=t&sc_e=j_as_ya_tc_n&iscr=1 https://m.yahoo.co.jp/ https://mail.yahoo.co.jp/ https://map.yahoo.co.jp/ https://music.line.me/launch?cc=JP https://my-best.com/?utm_y_top https://news.yahoo.co.jp/ https://news.yahoo.co.jp/categories/business https://news.yahoo.co.jp/categories/domestic https://news.yahoo.co.jp/categories/entertainment https://news.yahoo.co.jp/categories/it https://news.yahoo.co.jp/categories/local https://news.yahoo.co.jp/categories/science https://news.yahoo.co.jp/categories/sports https://news.yahoo.co.jp/categories/world https://news.yahoo.co.jp/pickup/6542811 https://news.yahoo.co.jp/pickup/6542814 https://news.yahoo.co.jp/pickup/6542818 https://news.yahoo.co.jp/pickup/6542820 https://news.yahoo.co.jp/pickup/6542821 https://news.yahoo.co.jp/pickup/6542826 https://premium.yahoo.co.jp/?sc_e=stpage_lyp_mast_head_pc_prem https://premium.yahoo.co.jp/?sc_e=stpage_lyp_service_list_pc_prem https://promo-mobile.yahoo.co.jp/yjapp/ https://realestate.yahoo.co.jp/ https://restaurant.ikyu.com/rsCosite.asp?CosNo=10000175&CosUrl= https://s.yimg.jp/c/icon/s/bsc/2.0/favicon.ico https://s.yimg.jp/c/icon/s/bsc/2.0/y120.png https://sdgs.yahoo.co.jp/ https://search.yahoo.co.jp/ https://search.yahoo.co.jp/image https://search.yahoo.co.jp/realtime https://search.yahoo.co.jp/video https://services.yahoo.co.jp/ https://shopping.yahoo.co.jp/?sc_e=ytc https://shopping.yahoo.co.jp/?sc_e=ytmh https://shopping.yahoo.co.jp/promotion/event/category/food/gourmetfestival/?sc_i=shopping-pc-web-promotion-feature-rcmnd-item https://sports.yahoo.co.jp/ https://sports.yahoo.co.jp/golf/lpga/leadersboard/3724/round/ https://sukimani.line.me/jobs?utm_medium=sukimani_yahoo&utm_source=web&utm_campaign=pc&utm_term=pc_tool&utm_content=202410 https://support.yahoo-net.jp/PccHelpcenter/s/ https://support.yahoo-net.jp/noscript https://toku.yahoo.co.jp/?sc_e=ytcsvc_m2cwithlp_zbtkpc https://toto.yahoo.co.jp/big?cpt_n=yjtoptest&cpt_m=pc&cpt_s=yahoo&cpt_c=tool https://transit.yahoo.co.jp/ https://travel.yahoo.co.jp/ikCo.ashx?cosid=y_010002&cosuid=ytsl&surl=%2F&sc_e=ytsl https://travel.yahoo.co.jp/ikCo.ashx?cosid=y_010017&cosuid=ytmh&surl=%2F&sc_e=ytmh https://trilltrill.jp/ https://volunteer.yahoo.co.jp/ https://weather.yahoo.co.jp/weather/ https://www.bosaiguide.jp/sp-bosai/?cpt_n=yj_startpage&cpt_m=sp&cpt_s=yj_startpage_sptarget19_06kjfmt_d_sp&cpt_c=heatstroke https://www.ikyu.com/ikCo.ashx?cosid=ik010002&surl=%2F&sc_e=ytc_pc_ikyu https://www.kurashiru.com/?utm_source=yahoo_top_contentbox https://www.lycbiz.com/jp/service/yahoo-ads/lp/ld20231201/?o=JP3780 https://www.lycorp.co.jp/ja/company/athletes/ https://www.lycorp.co.jp/ja/news/ https://www.lycorp.co.jp/ja/story/20250619/value_dialogue.html?utm_source=yahoo&utm_medium=yj_info https://www.lycorp.co.jp/ja/sustainability/#csr https://www.paypay-card.co.jp/?utm_source=YTOP&utm_medium=txt_content&utm_campaign=PPCD_e https://www.paypay-card.co.jp?utm_source=YTOP&utm_medium=mhd&utm_campaign=pc https://www.paypay-corp.co.jp/store/campaign/ https://www.yahoo.co.jp https://www.yahoo.co.jp/ https://yellmarket.yahoo.co.jp/ https://zozo.jp/?utm_source=yahoo&utm_medium=referral&utm_campaign=web_ytop-leftcolumn\n",
    "\n",
    "\n"
   ]
  },
  {
   "cell_type": "markdown",
   "id": "f4fc5e31",
   "metadata": {
    "papermill": {
     "duration": null,
     "end_time": null,
     "exception": null,
     "start_time": null,
     "status": "pending"
    },
    "tags": []
   },
   "source": [
    "# Pulse 続き　DOSバッチファイル\n",
    "\n",
    "MD5\n",
    "5cb116749038e9b9facadbb0f79a53a4\n",
    " \n",
    "Sha-1\n",
    "af9a49253108051e0730881b205072304fa6d610\n",
    " \n",
    "シャ256\n",
    "00f467704eab37b3766283150ee4f0f2e3570eaf2a7073d7dbeaf404103c0b7d\n",
    " \n",
    "ヴァシュ\n",
    "6305cbb1bd9189a29c0c16ac9390c2d2\n",
    " \n",
    "Ssdeep\n",
    "384:/imt1mbjax7Cpxekvz8bPUom3vL9n0i13LXzpnra0X6Ujnw+3+kP1R:/LQjapCqkvgIrJv13HUdH+3N\n",
    " \n",
    "Tlsh\n",
    "T17E72CE3AE71AF4A4D0B6C7BCA04813F4F68A0483F665693EAC11F099C814657432AFD9\n",
    "\n",
    "00f467704eab37b3766283150ee4f0f2e3570eaf2a7073d7dbeaf404103c0b7d\n",
    "\n",
    "\n",
    "38de97f2e89a2f39fb8603cb4c1fd4a5aa1c4e34c56c5984df80aa49529ec069\n",
    "\n",
    "72e6627ab6e4c1d0af99deacf2f9f80f6f5331535e0b1a09a6c32907a0755b31\n",
    "\n",
    "MD5\n",
    "87f5b2dfdbbe8e764b63b1e58b0b7028\n",
    " \n",
    "Sha-1\n",
    "072fd17c145a1803e644dd16735ab436bf66e85e\n",
    " \n",
    "シャ256\n",
    "72e6627ab6e4c1d0af99deacf2f9f80f6f5331535e0b1a09a6c32907a0755b31\n",
    " \n",
    "Ssdeep\n",
    "6:e4z1vfhuhMh+reek8MENe2wRN6z+fD40Ex8MuC8XMJ2dC2DjqMEcxMMa8XMJ2dCz:Rvcz3kge2E6z+Oyqk48K9gLwqPI\n",
    " \n",
    "Tlsh\n",
    "T16FE0D1B0208153F1D42E14CEF87C156699D64FC6B65972E8B174715264160095F87193\n",
    "\n",
    "Dropped Files\n",
    "SHA-256\n",
    "172dbbf468f2d83896081a22c4d65964cd0fa3dfda7926bfbd6da8b7d4d91d75\n",
    " \n",
    "file\n",
    "6411e0be3f5b2b2f6a0a6b203bb7e82bd613797a3aaf3dac03686229d2a9caf2\n",
    "SHA-256\n",
    "6411e0be3f5b2b2f6a0a6b203bb7e82bd613797a3aaf3dac03686229d2a9caf2\n",
    "\n",
    "https://github.com/python-ldap/python-ldap/archive/refs/tags/.tar.gz\n",
    "\n",
    "https://codeload.github.com/python-ldap/python-ldap/tar.gz/refs/tags/\n",
    "\n",
    "\n",
    "79163375cb599369a4c2a92c6bb724134b6daf43b91220470f13f9a282a8bea4\n",
    "\n",
    "a1588612d454babb805e55b6d581c2ccec94f405f823273ddceb82b50c9d253e\n",
    "\n",
    "d894f9893f8c88ad56200fe1987cdd29fe2c5768816958b4bdc66cc5410a880a\n",
    "\n",
    "https://www.openssl.org/source/.tar.gz\n",
    "\n",
    "https://codeload.github.com/python-ldap/python-ldap/tar.gz/refs/tags/\n",
    "\n",
    "https://github.com/python-ldap/python-ldap/archive/refs/tags/.tar.gz\n",
    "\n",
    "d894f9893f8c88ad56200fe1987cdd29fe2c5768816958b4bdc66cc5410a880a\n",
    "\n",
    "8248d9e2c030e437af311412b475cf86a264086cf8472d6bb68a5bad8f8207b2\n",
    "\n",
    "a1588612d454babb805e55b6d581c2ccec94f405f823273ddceb82b50c9d253e\n",
    "\n",
    "3118f59f74d8e92e9b1ae2d00c47d76ddcd653894f4c505f8b0fface7288799f\n",
    "\n",
    "3f173a536c3691159bbc3959e5054dd2310b69c835ec0b72286bd56e1237a0b1\n",
    "\n",
    "https://www.openldap.org/software/download/OpenLDAP/openldap-release/.tgz\n",
    "\n",
    "http://r10.o.lencr.org/MFMwUTBPME0wSzAJBgUrDgMCGgUABBRpD+QVZ+1vf7U0RGQGBm8JZwdxcgQUdKR2KRcYVIUxN75n5gZYwLzFBXICEgMYdYZf8anZhe7Vm10WQKJx9Q==\n",
    "\n",
    "Basic properties\n",
    "MD5\n",
    "9a4b1626757a116deac58fd3827dc017\n",
    " \n",
    "SHA-1\n",
    "922d531d57866f50ed526a8c543168a63c03d506\n",
    " \n",
    "SHA-256\n",
    "79163375cb599369a4c2a92c6bb724134b6daf43b91220470f13f9a282a8bea4\n",
    " \n",
    "Vhash\n",
    "73444b06b90359bca58e7e4ba571d87d\n",
    " \n",
    "SSDEEP\n",
    "384:gVCqre88CR+5F+cYBfZoHWotgF/sd7RpnOaTQYtg54SnWeQg14Ql3wtv1GBtxEho:gVCqr9N+HXQZoHdtgF/sdVlOgQuw4SnX\n",
    " \n",
    "TLSH\n",
    "T183B2AE7C92F128D1D80B0D7D7C4A7B65E1E185F64854875364AEB83BAC1FEC2AE9090F\n",
    "\n",
    "# ※\n",
    "\n",
    "\n",
    "MD5\n",
    "c90223d8f0912f5e04bd2b8e3d7c21eb\n",
    " \n",
    "Sha-1\n",
    "caa9473bc49b2f9b3e82dc4595ec731a8fd3ad71\n",
    " \n",
    "シャ256\n",
    "b09244972aecbda516de3370387a9e64d0cae3d86c9fb654f0676d0fa907d4ad\n",
    " \n",
    "Ssdeep\n",
    "1572864:BsCR31R62h8p/v41m8Gm/nG3oEJG5DKJoTTqwfYmcaoC/kEHDE:BsQ1RbhQcm8Gm/G3oGnTwfY3GkgE\n",
    " \n",
    "Tlsh\n",
    "T10DF73334D631553AD0BA48ECBCA02DF68A7582DD6A50FD21CD403A4A78FE45CAB6C7F1\n",
    "\n",
    "\n",
    "3b724600e027320ed262572604bc31f213bc0e233a52de368d4a8a493f68ec8b\n",
    "\n",
    "MD5\n",
    "8f0f5b7069e07923bb6f517a369460ed\n",
    " \n",
    "Sha-1\n",
    "de692745f2d09a4a11c1d34adfd203fb3a42c670\n",
    " \n",
    "シャ256\n",
    "e0ea63233fed375fc33f97393a1c8ed5d10cd566381dd544236bb048fc6101ed\n",
    " \n",
    "Ssdeep\n",
    "192:JDlobFhrDKvSHHeG/ze3XorckxTbfZfvHrTk/444QiD2sOQU9C:JDloXrDKv6+rIwkFbfZHrY/4fQiqsOQz\n",
    " \n",
    "Tlsh\n",
    "T1D6F18232DD12087AAFB342B9700C66C9F1158756F6240C39BCFE5788F8E8724958079E\n",
    "\n",
    "0c31753c4efc29be353e6c11ebfe0a80b7c8bb3453c67a694b56751094ba281e\n",
    "\n",
    "MD5\n",
    "cf45d39c42564d253930934fc1122ec3\n",
    " \n",
    "Sha-1\n",
    "ae89c96e521b1260c4cbe4103c63ee3ba29e6b1e\n",
    " \n",
    "シャ256\n",
    "0c31753c4efc29be353e6c11ebfe0a80b7c8bb3453c67a694b56751094ba281e\n",
    " \n",
    "ヴァシュ\n",
    "325036651511a0814b148e8ed45\n",
    " \n",
    "オーテンティハシュ\n",
    "9f566d11e9fc913dd5729c32a69d569d26d324f132394088d7a3bb4b9f38b538\n",
    " \n",
    "インパッシュ\n",
    "dae02f32a21e03ce65412f6e56942daa\n",
    " \n",
    "Ssdeep\n",
    "3072:PRWz+01XNw3Y1gFSmf6akNMSQl2dbdE2eShc0sqJ81xtE:PN0/w3/VkNbQlQdE2akaj\n",
    " \n",
    "Tlsh\n",
    "T1C724299E33D89912F6DE8BBCD06846064B75E942B679F39C188E11F62C637A5DC40B33\n",
    "75698a172910c48dee7373e51d3161553ebbe51af4b603e3e3083c0de5ab7f4c\n",
    "\n",
    "MD5\n",
    "fe77bc0bb856f5718aa2b1b758737ebd\n",
    " \n",
    "Sha-1\n",
    "7343cacea90cb4e32aa5461db2976d22938146f3\n",
    " \n",
    "シャ256\n",
    "75698a172910c48dee7373e51d3161553ebbe51af4b603e3e3083c0de5ab7f4c\n",
    " \n",
    "ヴァシュ\n",
    "345036551512e0b15ffffeb20ff\n",
    " \n",
    "オーテンティハシュ\n",
    "23b86e035be26889637f3dc4bb649ed3c608aa5118f8bc7cc576d6082664a833\n",
    " \n",
    "インパッシュ\n",
    "dae02f32a21e03ce65412f6e56942daa\n",
    " \n",
    "Ssdeep\n",
    "6144:7YzFpJDV4+II+RJI5v+dW7WMXd+HuE0eEbtVcJUfThbdWwmG1IM:00zJI5AWz+HuDjXk\n",
    " \n",
    "Tlsh\n",
    "T15394291127F98558F6AE6F79E4B8042442FBF9027A7DCB4E89CC589D1BB3780C5217A3\n",
    "\n",
    "ドロップされたファイル\n",
    "シルバーバレット\n",
    "シャ256\n",
    "009a184285ce6c4dfd22b2ed04c1d0c50bbfd5b30fc9844f138ae1ec49ae2714\n",
    " \n",
    "Win32 DLL\n",
    "Magick.NET.Core.dll\n",
    "シャ256\n",
    "0145005ff357be81cfcdb22c34140daa51c77590a0034669423a1ebd4a7504c8\n",
    " \n",
    "RLSettings.json\n",
    "シャ256\n",
    "0267f415a5502fc40726755de7f99bff961416f3566510a03e1646bcc9237a5b\n",
    " \n",
    "Humanizer.resources.dll\n",
    "シャ256\n",
    "038a9bad7c5930ccfb6e83fd8e98be7d5f50dd5c150b1dda9e4b32e7c5242768\n",
    " \n",
    "Humanizer.resources.dll\n",
    "シャ256\n",
    "04674c906fd8b82451bc3fa2ae24c7088795ef5744329a9bab49124ac073106d\n",
    " \n",
    "Humanizer.resources.dll\n",
    "シャ256\n",
    "084a7ca3b42cca8d8f6b8563e563891e2d85b7d502fb2b1b2bb7c64376f6053b\n",
    " \n",
    "2captcha.py\n",
    "シャ256\n",
    "09617ad9598ba9bfcabd21fe76ace8d5713008139087501e7be1b5f1c5ffedac\n",
    " \n",
    "ExpressVPN.svb\n",
    "シャ256\n",
    "0988a28a1987cb54c0165bb8c92637610c0447ff1779b20ea68b9c465f657af3\n",
    " \n",
    "System.Drawing.Common.dll\n",
    "シャ256\n",
    "0b1e23603f49613b623a82a2b04260642ab8b118d138726dda6556bead77b966\n",
    " \n",
    "エスプリマ\n",
    "シャ256\n",
    "0c31753c4efc29be353e6c11ebfe0a80b7c8bb3453c67a694b56751094ba281e\n",
    " \n",
    "MahApps.Metro.IconPacks.Core.dll\n",
    "シャ256\n",
    "0d814872af90f2f4d956b699f9eb1637de7fa32988773fd939756bb43e8c3d7f\n",
    " \n",
    "Humanizer.resources.dll\n",
    "シャ256\n",
    "0df6cb2e6bae8e327745ccb97a13a4c9692165e638ed62dd1386c3f8984d832e\n",
    " \n",
    "Json\n",
    "ProxyManagerSettings.json\n",
    "シャ256\n",
    "0ee113ff20185db88493bae249f6729eecf814750dca280b8f562f1ef35e9dd9\n",
    " \n",
    "WebDriver.dll\n",
    "シャ256\n",
    "0ee619b1786cf5971c0f9c6ee1859497aecba93a4953cf92fea998e8eefadf3c\n",
    " \n",
    "Microsoft.CodeAnalysis.CSharp.dll\n",
    "シャ256\n",
    "1006ed0b7c0381541b702038f4dec9458f47630bca48d03134b81fb8ec4ffafd\n",
    " \n",
    "Humanizer.resources.dll\n",
    "シャ256\n",
    "10fb7ac860f0d1cea86ff0b7d2327a4b8780eaa1f97ff6aad32a0462943acb62\n",
    " \n",
    "Humanizer.resources.dll\n",
    "シャ256\n",
    "11be9162fc73299773d4447b44529a66d0469c4780b997d1175af78babc25e06\n",
    " \n",
    "Humanizer.resources.dll\n",
    "シャ256\n",
    "12f0c8b226a3f6a5aec36fe92efadfadc5585f90bc3b308203d836ed7bb6ae76\n",
    " \n",
    "ヒューマナイザー\n",
    "シャ256\n",
    "15e988ab3e8d84900ae90549eb399aac452d55edf0109e06fa1a9b227ddfd4c4\n",
    " \n",
    "MahApps.Metro.IconPacks.Microns.dll\n",
    "シャ256\n",
    "15f37c72ebf785ba5a6e25fe34826257a6cc1acb3cc4211b4a7752d1efefcc36\n",
    " \n",
    "Xceed.Wpf.Toolkit.dll\n",
    "シャ256\n",
    "1655adfddc2fe05c248ba439e34cf86a28fe3f99885785f9e3bf15af25ff93bb\n",
    " \n",
    "フィズラー・ドル\n",
    "シャ256\n",
    "17a47ed50db606c1c1061c23c894b8814223dbe24c45592e0b03e784e4d746ab\n",
    " \n",
    "Humanizer.resources.dll\n",
    "シャ256\n",
    "17ddf0586b361e89bd8da25055d771e36d86f33c2c1d2d6265f0d2bff63c9b48\n",
    " \n",
    "eng.tesseract_cube.nn\n",
    "シャ256\n",
    "196bedc8a5bc8c30361c2c9518f648b45b498759cb6041827ff6fbfb8da2a8d1\n",
    " \n",
    "OpenCvSharpExtern.dll\n",
    "シャ256\n",
    "1ae3208b1bf4834948a486281169a87d1b1fc66bde4cfc6a7b4d2277f4ade82a\n",
    " \n",
    "Xml\n",
    "vbc.exe.config\n",
    "シャ256\n",
    "1b81d9262934903bc9643d87fe265a4b27eba1f5d1e534dd7316ca37a4be87f4\n",
    " \n",
    "u6\n",
    "シャ256\n",
    "1d3ef8698281e7cf7371d1554afef5872b39f96c26da772210a33da041ba1183\n",
    " \n",
    "MahApps.Metro.IconPacks.Material.dll\n",
    "シャ256\n",
    "1e181cf16e93382399fdc7224000259b178ffce6c6dce5ab791e318634520ca4\n",
    " \n",
    "Microsoft.Managed.Core.targets\n",
    "シャ256\n",
    "1e2b18e2f3432983854580722f1ac7226f86a740453ac41539e7b0c4fe043260\n",
    "\n",
    "\n",
    "\n"
   ]
  },
  {
   "cell_type": "code",
   "execution_count": null,
   "id": "eae4fc0a",
   "metadata": {
    "papermill": {
     "duration": null,
     "end_time": null,
     "exception": null,
     "start_time": null,
     "status": "pending"
    },
    "tags": []
   },
   "outputs": [],
   "source": [
    "# Pulse 続き　DOSバッチファイル\n",
    "\n",
    "MD5\n",
    "5cb116749038e9b9facadbb0f79a53a4\n",
    " \n",
    "Sha-1\n",
    "af9a49253108051e0730881b205072304fa6d610\n",
    " \n",
    "シャ256\n",
    "00f467704eab37b3766283150ee4f0f2e3570eaf2a7073d7dbeaf404103c0b7d\n",
    " \n",
    "ヴァシュ\n",
    "6305cbb1bd9189a29c0c16ac9390c2d2\n",
    " \n",
    "Ssdeep\n",
    "384:/imt1mbjax7Cpxekvz8bPUom3vL9n0i13LXzpnra0X6Ujnw+3+kP1R:/LQjapCqkvgIrJv13HUdH+3N\n",
    " \n",
    "Tlsh\n",
    "T17E72CE3AE71AF4A4D0B6C7BCA04813F4F68A0483F665693EAC11F099C814657432AFD9\n",
    "\n",
    "00f467704eab37b3766283150ee4f0f2e3570eaf2a7073d7dbeaf404103c0b7d\n",
    "\n",
    "\n",
    "38de97f2e89a2f39fb8603cb4c1fd4a5aa1c4e34c56c5984df80aa49529ec069\n",
    "\n",
    "72e6627ab6e4c1d0af99deacf2f9f80f6f5331535e0b1a09a6c32907a0755b31\n",
    "\n",
    "MD5\n",
    "87f5b2dfdbbe8e764b63b1e58b0b7028\n",
    " \n",
    "Sha-1\n",
    "072fd17c145a1803e644dd16735ab436bf66e85e\n",
    " \n",
    "シャ256\n",
    "72e6627ab6e4c1d0af99deacf2f9f80f6f5331535e0b1a09a6c32907a0755b31\n",
    " \n",
    "Ssdeep\n",
    "6:e4z1vfhuhMh+reek8MENe2wRN6z+fD40Ex8MuC8XMJ2dC2DjqMEcxMMa8XMJ2dCz:Rvcz3kge2E6z+Oyqk48K9gLwqPI\n",
    " \n",
    "Tlsh\n",
    "T16FE0D1B0208153F1D42E14CEF87C156699D64FC6B65972E8B174715264160095F87193\n",
    "\n",
    "Dropped Files\n",
    "SHA-256\n",
    "172dbbf468f2d83896081a22c4d65964cd0fa3dfda7926bfbd6da8b7d4d91d75\n",
    " \n",
    "file\n",
    "6411e0be3f5b2b2f6a0a6b203bb7e82bd613797a3aaf3dac03686229d2a9caf2\n",
    "SHA-256\n",
    "6411e0be3f5b2b2f6a0a6b203bb7e82bd613797a3aaf3dac03686229d2a9caf2\n",
    "\n",
    "https://github.com/python-ldap/python-ldap/archive/refs/tags/.tar.gz\n",
    "\n",
    "https://codeload.github.com/python-ldap/python-ldap/tar.gz/refs/tags/\n",
    "\n",
    "\n",
    "79163375cb599369a4c2a92c6bb724134b6daf43b91220470f13f9a282a8bea4\n",
    "\n",
    "a1588612d454babb805e55b6d581c2ccec94f405f823273ddceb82b50c9d253e\n",
    "\n",
    "d894f9893f8c88ad56200fe1987cdd29fe2c5768816958b4bdc66cc5410a880a\n",
    "\n",
    "https://www.openssl.org/source/.tar.gz\n",
    "\n",
    "https://codeload.github.com/python-ldap/python-ldap/tar.gz/refs/tags/\n",
    "\n",
    "https://github.com/python-ldap/python-ldap/archive/refs/tags/.tar.gz\n",
    "\n",
    "d894f9893f8c88ad56200fe1987cdd29fe2c5768816958b4bdc66cc5410a880a\n",
    "\n",
    "8248d9e2c030e437af311412b475cf86a264086cf8472d6bb68a5bad8f8207b2\n",
    "\n",
    "a1588612d454babb805e55b6d581c2ccec94f405f823273ddceb82b50c9d253e\n",
    "\n",
    "3118f59f74d8e92e9b1ae2d00c47d76ddcd653894f4c505f8b0fface7288799f\n",
    "\n",
    "3f173a536c3691159bbc3959e5054dd2310b69c835ec0b72286bd56e1237a0b1\n",
    "\n",
    "https://www.openldap.org/software/download/OpenLDAP/openldap-release/.tgz\n",
    "\n",
    "http://r10.o.lencr.org/MFMwUTBPME0wSzAJBgUrDgMCGgUABBRpD+QVZ+1vf7U0RGQGBm8JZwdxcgQUdKR2KRcYVIUxN75n5gZYwLzFBXICEgMYdYZf8anZhe7Vm10WQKJx9Q==\n",
    "\n",
    "Basic properties\n",
    "MD5\n",
    "9a4b1626757a116deac58fd3827dc017\n",
    " \n",
    "SHA-1\n",
    "922d531d57866f50ed526a8c543168a63c03d506\n",
    " \n",
    "SHA-256\n",
    "79163375cb599369a4c2a92c6bb724134b6daf43b91220470f13f9a282a8bea4\n",
    " \n",
    "Vhash\n",
    "73444b06b90359bca58e7e4ba571d87d\n",
    " \n",
    "SSDEEP\n",
    "384:gVCqre88CR+5F+cYBfZoHWotgF/sd7RpnOaTQYtg54SnWeQg14Ql3wtv1GBtxEho:gVCqr9N+HXQZoHdtgF/sdVlOgQuw4SnX\n",
    " \n",
    "TLSH\n",
    "T183B2AE7C92F128D1D80B0D7D7C4A7B65E1E185F64854875364AEB83BAC1FEC2AE9090F\n",
    "\n",
    "\n",
    "# ※\n",
    "\n",
    "\n",
    "MD5\n",
    "c90223d8f0912f5e04bd2b8e3d7c21eb\n",
    " \n",
    "Sha-1\n",
    "caa9473bc49b2f9b3e82dc4595ec731a8fd3ad71\n",
    " \n",
    "シャ256\n",
    "b09244972aecbda516de3370387a9e64d0cae3d86c9fb654f0676d0fa907d4ad\n",
    " \n",
    "Ssdeep\n",
    "1572864:BsCR31R62h8p/v41m8Gm/nG3oEJG5DKJoTTqwfYmcaoC/kEHDE:BsQ1RbhQcm8Gm/G3oGnTwfY3GkgE\n",
    " \n",
    "Tlsh\n",
    "T10DF73334D631553AD0BA48ECBCA02DF68A7582DD6A50FD21CD403A4A78FE45CAB6C7F1\n",
    "\n",
    "\n",
    "\n",
    "3b724600e027320ed262572604bc31f213bc0e233a52de368d4a8a493f68ec8b\n",
    "\n",
    "MD5\n",
    "8f0f5b7069e07923bb6f517a369460ed\n",
    " \n",
    "Sha-1\n",
    "de692745f2d09a4a11c1d34adfd203fb3a42c670\n",
    " \n",
    "シャ256\n",
    "e0ea63233fed375fc33f97393a1c8ed5d10cd566381dd544236bb048fc6101ed\n",
    " \n",
    "Ssdeep\n",
    "192:JDlobFhrDKvSHHeG/ze3XorckxTbfZfvHrTk/444QiD2sOQU9C:JDloXrDKv6+rIwkFbfZHrY/4fQiqsOQz\n",
    " \n",
    "Tlsh\n",
    "T1D6F18232DD12087AAFB342B9700C66C9F1158756F6240C39BCFE5788F8E8724958079E\n",
    "\n",
    "0c31753c4efc29be353e6c11ebfe0a80b7c8bb3453c67a694b56751094ba281e\n",
    "\n",
    "MD5\n",
    "cf45d39c42564d253930934fc1122ec3\n",
    " \n",
    "Sha-1\n",
    "ae89c96e521b1260c4cbe4103c63ee3ba29e6b1e\n",
    " \n",
    "シャ256\n",
    "0c31753c4efc29be353e6c11ebfe0a80b7c8bb3453c67a694b56751094ba281e\n",
    " \n",
    "ヴァシュ\n",
    "325036651511a0814b148e8ed45\n",
    " \n",
    "オーテンティハシュ\n",
    "9f566d11e9fc913dd5729c32a69d569d26d324f132394088d7a3bb4b9f38b538\n",
    " \n",
    "インパッシュ\n",
    "dae02f32a21e03ce65412f6e56942daa\n",
    " \n",
    "Ssdeep\n",
    "3072:PRWz+01XNw3Y1gFSmf6akNMSQl2dbdE2eShc0sqJ81xtE:PN0/w3/VkNbQlQdE2akaj\n",
    " \n",
    "Tlsh\n",
    "T1C724299E33D89912F6DE8BBCD06846064B75E942B679F39C188E11F62C637A5DC40B33\n",
    "75698a172910c48dee7373e51d3161553ebbe51af4b603e3e3083c0de5ab7f4c\n",
    "\n",
    "MD5\n",
    "fe77bc0bb856f5718aa2b1b758737ebd\n",
    " \n",
    "Sha-1\n",
    "7343cacea90cb4e32aa5461db2976d22938146f3\n",
    " \n",
    "シャ256\n",
    "75698a172910c48dee7373e51d3161553ebbe51af4b603e3e3083c0de5ab7f4c\n",
    " \n",
    "ヴァシュ\n",
    "345036551512e0b15ffffeb20ff\n",
    " \n",
    "オーテンティハシュ\n",
    "23b86e035be26889637f3dc4bb649ed3c608aa5118f8bc7cc576d6082664a833\n",
    " \n",
    "インパッシュ\n",
    "dae02f32a21e03ce65412f6e56942daa\n",
    " \n",
    "Ssdeep\n",
    "6144:7YzFpJDV4+II+RJI5v+dW7WMXd+HuE0eEbtVcJUfThbdWwmG1IM:00zJI5AWz+HuDjXk\n",
    " \n",
    "Tlsh\n",
    "T15394291127F98558F6AE6F79E4B8042442FBF9027A7DCB4E89CC589D1BB3780C5217A3\n",
    "\n",
    "ドロップされたファイル\n",
    "シルバーバレット\n",
    "シャ256\n",
    "009a184285ce6c4dfd22b2ed04c1d0c50bbfd5b30fc9844f138ae1ec49ae2714\n",
    " \n",
    "Win32 DLL\n",
    "Magick.NET.Core.dll\n",
    "シャ256\n",
    "0145005ff357be81cfcdb22c34140daa51c77590a0034669423a1ebd4a7504c8\n",
    " \n",
    "RLSettings.json\n",
    "シャ256\n",
    "0267f415a5502fc40726755de7f99bff961416f3566510a03e1646bcc9237a5b\n",
    " \n",
    "Humanizer.resources.dll\n",
    "シャ256\n",
    "038a9bad7c5930ccfb6e83fd8e98be7d5f50dd5c150b1dda9e4b32e7c5242768\n",
    " \n",
    "Humanizer.resources.dll\n",
    "シャ256\n",
    "04674c906fd8b82451bc3fa2ae24c7088795ef5744329a9bab49124ac073106d\n",
    " \n",
    "Humanizer.resources.dll\n",
    "シャ256\n",
    "084a7ca3b42cca8d8f6b8563e563891e2d85b7d502fb2b1b2bb7c64376f6053b\n",
    " \n",
    "2captcha.py\n",
    "シャ256\n",
    "09617ad9598ba9bfcabd21fe76ace8d5713008139087501e7be1b5f1c5ffedac\n",
    " \n",
    "ExpressVPN.svb\n",
    "シャ256\n",
    "0988a28a1987cb54c0165bb8c92637610c0447ff1779b20ea68b9c465f657af3\n",
    " \n",
    "System.Drawing.Common.dll\n",
    "シャ256\n",
    "0b1e23603f49613b623a82a2b04260642ab8b118d138726dda6556bead77b966\n",
    " \n",
    "エスプリマ\n",
    "シャ256\n",
    "0c31753c4efc29be353e6c11ebfe0a80b7c8bb3453c67a694b56751094ba281e\n",
    " \n",
    "MahApps.Metro.IconPacks.Core.dll\n",
    "シャ256\n",
    "0d814872af90f2f4d956b699f9eb1637de7fa32988773fd939756bb43e8c3d7f\n",
    " \n",
    "Humanizer.resources.dll\n",
    "シャ256\n",
    "0df6cb2e6bae8e327745ccb97a13a4c9692165e638ed62dd1386c3f8984d832e\n",
    " \n",
    "Json\n",
    "ProxyManagerSettings.json\n",
    "シャ256\n",
    "0ee113ff20185db88493bae249f6729eecf814750dca280b8f562f1ef35e9dd9\n",
    " \n",
    "WebDriver.dll\n",
    "シャ256\n",
    "0ee619b1786cf5971c0f9c6ee1859497aecba93a4953cf92fea998e8eefadf3c\n",
    " \n",
    "Microsoft.CodeAnalysis.CSharp.dll\n",
    "シャ256\n",
    "1006ed0b7c0381541b702038f4dec9458f47630bca48d03134b81fb8ec4ffafd\n",
    " \n",
    "Humanizer.resources.dll\n",
    "シャ256\n",
    "10fb7ac860f0d1cea86ff0b7d2327a4b8780eaa1f97ff6aad32a0462943acb62\n",
    " \n",
    "Humanizer.resources.dll\n",
    "シャ256\n",
    "11be9162fc73299773d4447b44529a66d0469c4780b997d1175af78babc25e06\n",
    " \n",
    "Humanizer.resources.dll\n",
    "シャ256\n",
    "12f0c8b226a3f6a5aec36fe92efadfadc5585f90bc3b308203d836ed7bb6ae76\n",
    " \n",
    "ヒューマナイザー\n",
    "シャ256\n",
    "15e988ab3e8d84900ae90549eb399aac452d55edf0109e06fa1a9b227ddfd4c4\n",
    " \n",
    "MahApps.Metro.IconPacks.Microns.dll\n",
    "シャ256\n",
    "15f37c72ebf785ba5a6e25fe34826257a6cc1acb3cc4211b4a7752d1efefcc36\n",
    " \n",
    "Xceed.Wpf.Toolkit.dll\n",
    "シャ256\n",
    "1655adfddc2fe05c248ba439e34cf86a28fe3f99885785f9e3bf15af25ff93bb\n",
    " \n",
    "フィズラー・ドル\n",
    "シャ256\n",
    "17a47ed50db606c1c1061c23c894b8814223dbe24c45592e0b03e784e4d746ab\n",
    " \n",
    "Humanizer.resources.dll\n",
    "シャ256\n",
    "17ddf0586b361e89bd8da25055d771e36d86f33c2c1d2d6265f0d2bff63c9b48\n",
    " \n",
    "eng.tesseract_cube.nn\n",
    "シャ256\n",
    "196bedc8a5bc8c30361c2c9518f648b45b498759cb6041827ff6fbfb8da2a8d1\n",
    " \n",
    "OpenCvSharpExtern.dll\n",
    "シャ256\n",
    "1ae3208b1bf4834948a486281169a87d1b1fc66bde4cfc6a7b4d2277f4ade82a\n",
    " \n",
    "Xml\n",
    "vbc.exe.config\n",
    "シャ256\n",
    "1b81d9262934903bc9643d87fe265a4b27eba1f5d1e534dd7316ca37a4be87f4\n",
    " \n",
    "u6\n",
    "シャ256\n",
    "1d3ef8698281e7cf7371d1554afef5872b39f96c26da772210a33da041ba1183\n",
    " \n",
    "MahApps.Metro.IconPacks.Material.dll\n",
    "シャ256\n",
    "1e181cf16e93382399fdc7224000259b178ffce6c6dce5ab791e318634520ca4\n",
    " \n",
    "Microsoft.Managed.Core.targets\n",
    "シャ256\n",
    "1e2b18e2f3432983854580722f1ac7226f86a740453ac41539e7b0c4fe043260\n",
    "\n",
    "\n",
    "\n",
    "\n",
    "\n"
   ]
  },
  {
   "cell_type": "markdown",
   "id": "19dbb2ec",
   "metadata": {
    "papermill": {
     "duration": null,
     "end_time": null,
     "exception": null,
     "start_time": null,
     "status": "pending"
    },
    "tags": []
   },
   "source": [
    "b09244972aecbda516de3370387a9e64d0cae3d86c9fb654f0676d0fa907d4ad.file\n",
    "\n",
    "\n",
    "MD5\n",
    "6a0405c77f92538ad6b4e17cb3cc13cb\n",
    " \n",
    "Sha-1\n",
    "1e02f836db8e3c86368ea79bc6ac7c690311796e\n",
    " \n",
    "シャ256\n",
    "172dbbf468f2d83896081a22c4d65964cd0fa3dfda7926bfbd6da8b7d4d91d75\n",
    "\n",
    "172dbbf468f2d83896081a22c4d65964cd0fa3dfda7926bfbd6da8b7d4d91d75\n",
    "\n",
    "\n",
    "MD5\n",
    "c90223d8f0912f5e04bd2b8e3d7c21eb\n",
    " \n",
    "Sha-1\n",
    "caa9473bc49b2f9b3e82dc4595ec731a8fd3ad71\n",
    " \n",
    "シャ256\n",
    "b09244972aecbda516de3370387a9e64d0cae3d86c9fb654f0676d0fa907d4ad\n",
    " \n",
    "Ssdeep\n",
    "1572864:BsCR31R62h8p/v41m8Gm/nG3oEJG5DKJoTTqwfYmcaoC/kEHDE:BsQ1RbhQcm8Gm/G3oGnTwfY3GkgE\n",
    " \n",
    "Tlsh\n",
    "T10DF73334D631553AD0BA48ECBCA02DF68A7582DD6A50FD21CD403A4A78FE45CAB6C7F1\n"
   ]
  },
  {
   "cell_type": "code",
   "execution_count": null,
   "id": "258928f4",
   "metadata": {
    "papermill": {
     "duration": null,
     "end_time": null,
     "exception": null,
     "start_time": null,
     "status": "pending"
    },
    "tags": []
   },
   "outputs": [],
   "source": [
    "b09244972aecbda516de3370387a9e64d0cae3d86c9fb654f0676d0fa907d4ad.file\n",
    "\n",
    "\n",
    "MD5\n",
    "6a0405c77f92538ad6b4e17cb3cc13cb\n",
    " \n",
    "Sha-1\n",
    "1e02f836db8e3c86368ea79bc6ac7c690311796e\n",
    " \n",
    "シャ256\n",
    "172dbbf468f2d83896081a22c4d65964cd0fa3dfda7926bfbd6da8b7d4d91d75\n",
    "\n",
    "172dbbf468f2d83896081a22c4d65964cd0fa3dfda7926bfbd6da8b7d4d91d75\n",
    "\n",
    "\n",
    "MD5\n",
    "c90223d8f0912f5e04bd2b8e3d7c21eb\n",
    " \n",
    "Sha-1\n",
    "caa9473bc49b2f9b3e82dc4595ec731a8fd3ad71\n",
    " \n",
    "シャ256\n",
    "b09244972aecbda516de3370387a9e64d0cae3d86c9fb654f0676d0fa907d4ad\n",
    " \n",
    "Ssdeep\n",
    "1572864:BsCR31R62h8p/v41m8Gm/nG3oEJG5DKJoTTqwfYmcaoC/kEHDE:BsQ1RbhQcm8Gm/G3oGnTwfY3GkgE\n",
    " \n",
    "Tlsh\n",
    "T10DF73334D631553AD0BA48ECBCA02DF68A7582DD6A50FD21CD403A4A78FE45CAB6C7F1\n"
   ]
  },
  {
   "cell_type": "markdown",
   "id": "1a595f36",
   "metadata": {
    "papermill": {
     "duration": null,
     "end_time": null,
     "exception": null,
     "start_time": null,
     "status": "pending"
    },
    "tags": []
   },
   "source": [
    "# Blod blog\n",
    "\n",
    "https://raw.githubusercontent.com/voker2311/CaptureTheFlag-walkthroughs/refs/heads/master/The%20Blob%20Blog%20Tryhackme%20Write-up\n",
    "\n",
    "http://10.10.92.220\n",
    "\n",
    "# poster\n",
    "\n",
    "https://raw.githubusercontent.com/voker2311/CaptureTheFlag-walkthroughs/refs/heads/master/Poster%20Tryhackme%20Write-up\n",
    "\n",
    "\n",
    "# Mnemonic\n",
    "\n",
    "https://raw.githubusercontent.com/voker2311/CaptureTheFlag-walkthroughs/refs/heads/master/Mnemonic%20Tryhackme%20Write-up\n",
    "\n",
    "http://10.10.41.118\n",
    "\n",
    "# hacker note\n",
    "\n",
    "https://raw.githubusercontent.com/voker2311/CaptureTheFlag-walkthroughs/refs/heads/master/hackerNote%20Tryhackme%20Walkthrough.txt \n",
    "\n",
    "次http://10.10.82.57\n",
    "\n",
    "http://10.10.146.155\n",
    "\n",
    "https://raw.githubusercontent.com/voker2311/CaptureTheFlag-walkthroughs/refs/heads/master/Lazy%20Admin%20Tryhackme%20Walkthrough.txt\n",
    "\n",
    "http://10.10.107.183\n",
    "\n",
    "#Library write up\n",
    "\n",
    "https://raw.githubusercontent.com/voker2311/CaptureTheFlag-walkthroughs/refs/heads/master/Library%20Tryhackme%20Write-up\n",
    "\n",
    "http://10.10.144.191/ ----\n",
    "\n",
    "==> DIRECTORY: http://10.10.144.191/images/          \n",
    "                                                                   \n",
    "+ http://10.10.144.191/index.html (CODE:200|SIZE:5439)       \n",
    "                                                           \n",
    "+ http://10.10.144.191/robots.txt (CODE:200|SIZE:33)    \n",
    "                                                                \n",
    "+ http://10.10.144.191/server-status (CODE:403|SIZE:301)  \n",
    "\n",
    "http://10.10.144.191\n",
    "\n",
    "http://10.10.144.191/index.html (CODE:200|SIZE:5439)    \n",
    "                                                              \n",
    "+ http://10.10.144.191/robots.txt (CODE:200|SIZE:33)       \n",
    "                                                             \n",
    "+ http://10.10.144.191/server-status (CODE:403|SIZE:301)  \n",
    "\n",
    "https://raw.githubusercontent.com/voker2311/CaptureTheFlag-walkthroughs/refs/heads/master/Ice%20Tryhackme%20Exploit%20-%20IceCast\n",
    "\n",
    "http://10.10.31.86\n",
    "\n",
    "https://raw.githubusercontent.com/voker2311/CaptureTheFlag-walkthroughs/refs/heads/master/Daily-Bugle%20Tryhackme%20Write-up\n",
    "\n",
    "http://10.10.38.95\n",
    "\n",
    "https://raw.githubusercontent.com/voker2311/CaptureTheFlag-walkthroughs/refs/heads/master/Source%20Tryhackme%20Walkthrough.txt\n",
    "\n",
    "ほぼ　済\n",
    "# Write Library Explorer ELection\n",
    "\n",
    "https://raw.githubusercontent.com/voker2311/CaptureTheFlag-walkthroughs/refs/heads/master/Jeff%20Tryhackme%20Write-up\n",
    "\n",
    "https://raw.githubusercontent.com/voker2311/CaptureTheFlag-walkthroughs/refs/heads/master/Undiscovered%20Tryhackme%20Write-up\n",
    "\n",
    "https://github.com/voker2311/CaptureTheFlag-walkthroughs/blob/master/YearOfTheFox%20Tryhackme%20Write-up\n",
    "\n",
    "https://raw.githubusercontent.com/voker2311/CaptureTheFlag-walkthroughs/refs/heads/master/YearOfThePig%20Tryhackme%20Write-up\n",
    "\n",
    "https://raw.githubusercontent.com/voker2311/CaptureTheFlag-walkthroughs/refs/heads/master/Library%20Tryhackme%20Write-up\n",
    "\n",
    "https://raw.githubusercontent.com/voker2311/CaptureTheFlag-walkthroughs/refs/heads/master/eLection%20Vulnhub%20Writeup\n",
    "\n",
    "https://raw.githubusercontent.com/voker2311/CaptureTheFlag-walkthroughs/refs/heads/master/YearoftheDog%20Tryhackme%20Writeup\n",
    "\n",
    "https://raw.githubusercontent.com/voker2311/CaptureTheFlag-walkthroughs/refs/heads/master/eLection%20Vulnhub%20Writeup\n",
    "\n",
    "ce475b99659173ecd07784877481094969655165cc3a93c650f1eea2ac8e63a1\n",
    "\n",
    "d2d01cca74b23317621e12ce45346a5a089c0e934df27176bba3541a82b71edd\n",
    "\n",
    "# Basic properties\n",
    "MD5\n",
    "fa00d5e4379518a49f7fc030d7c3be7f\n",
    " \n",
    "SHA-1\n",
    "52f464e7fb7b32767a889b559851675e8876f84c\n",
    " \n",
    "SHA-256\n",
    "d2d01cca74b23317621e12ce45346a5a089c0e934df27176bba3541a82b71edd\n",
    " \n",
    "SSDEEP\n",
    "384:+qaqXdYuNPft6FHiKwYb9GKskYlRZB6OAH:+qawcCZCeZBVAH\n",
    " \n",
    "TLSH\n",
    "T14692E792BA0E23768386CDF158B931D1DDB7E109A1077054727C10A8C741F4DADAFEBA\n",
    "\n",
    "\n",
    "http://192.168.0.109-w/opt/SecLists/Discovery/Web-Content/big.txt\n",
    "\n",
    "https://raw.githubusercontent.com/voker2311/CaptureTheFlag-walkthroughs/refs/heads/master/EthernalBlue%20Exploitation\n",
    "\n",
    "|\n",
    "\n",
    "f0dad18fd635109ea1ba8b786e9ae95450b4c3442c1f64cbd1e628d23658e947\n",
    "\n",
    "5cbb91ba7553da72f0e0259682ab69b94bcaae99310d560e3bc724d0619fd362\n",
    "\n",
    "# Basic properties\n",
    "MD5\n",
    "0d2182f541523f2926e4d8f25aebf48c\n",
    " \n",
    "SHA-1\n",
    "f8e30b3084e4b6ac6eec55e36c737d3f912bae80\n",
    " \n",
    "SHA-256\n",
    "5cbb91ba7553da72f0e0259682ab69b94bcaae99310d560e3bc724d0619fd362\n",
    " \n",
    "SSDEEP\n",
    "384:r5eSqCYS/FGpcWfTR00E1eVx+vTx+Nhco2:r4OpcE191\n",
    " \n",
    "TLSH\n",
    "T1B4521AA29D3860390375D2930216A2C3F37F629705176438FA9C9798F34BE9985ED8F2\n",
    "\n",
    "https://medium.com/@markmotig/overwrite-strings-in-an-exe-av-evasion-maybe-f28935078911\n",
    "\n",
    "https://valhalla.nextron-systems.com/info/rule/HKTL_Meterpreter_InMemory_Rule\n",
    "\n",
    "http://10.9.81.62:8000/mimikatz.exe\n",
    "\n",
    "dfa0964b75e3643ccb8e9ddf173718ed2ecb5a1f472f4bc3608b4b385266eaf0\n",
    "\n",
    "http://10.10.45.174\n",
    "\n",
    "http://10.10.224.215\n",
    "\n",
    "http://10.10.43.208:80\n",
    "\n",
    "http://10.10.124.127\n",
    "\n",
    "http://10.10.124.127/\n",
    "\n",
    "http://10.10.213.136\n",
    "\n",
    "http://10.10.87.6\n",
    "\n",
    "http://10.9.81.62:1234\n",
    "\n",
    "http://10.10.156.163:56894\n",
    "\n",
    "http://10.9.81.62\n",
    "\n",
    "http://10.10.161.173/admin/\n",
    "\n",
    "ssh://10.10.144.191:22/\n",
    "\n",
    "http://10.10.144.191:22\n",
    "\n",
    "http://10.10.144.191\n",
    "\n",
    "http://10.10.144.191\n",
    "\n",
    "http://10.10.51.174\n",
    "\n",
    "http://10.10.51.174:58868\n",
    "\n",
    "http://10.9.81.62:4444\n",
    "\n",
    "http://10.10.242.121\n",
    "\n",
    "http://10.10.51.174/shell.php?cmd=id\n",
    "\n",
    "http://10.10.156.163\n",
    "\n",
    "http://10.10.231.20\n",
    "\n",
    "http://10.10.231.20:49136\n",
    "\n",
    "http://10.9.81.62:4444\n",
    "\n",
    "http://10.10.231.20:51588\n",
    "\n",
    "http://10.9.81.62/1234\n",
    "\n",
    "http://10.9.81.62:1234\n",
    "\n",
    "http://jeff.thm/uploads/\n",
    "\n",
    "http://jeff.thm/backups/ \n",
    "\n",
    "http://10.9.0.1\n",
    "\n",
    "http://10.10.213.133\n",
    "\n",
    "http://10.10.179.166\n",
    "\n",
    "http://10.10.191.115:10000\n",
    "\n",
    "http://10.10.191.115\n",
    "\n",
    "http://10.10.146.211\n",
    "\n",
    "http://10.10.146.211:54482\n",
    "\n",
    "http://10.10.38.95\n",
    "\n",
    "http://10.10.5.73\n",
    "\n",
    "http://10.10.5.73:49313\n",
    "\n",
    "http//10.9.81.62:4444\n",
    "\n",
    "http://10.9.81.62:8080/eHDL3qPnhov.sctscrobj.dll\n",
    "\n",
    "http://10.10.69.251\n",
    "\n",
    "http://10.10.38.95/administrator/components\n",
    "\n",
    "http://10.10.38.95/administrator/modules\n",
    "\n",
    "http://10.10.38.95/administrator/templates\n",
    "\n",
    "http://10.10.38.95/administrator/includes\n",
    "\n",
    "http://10.10.38.95/administrator/language\n",
    "\n",
    "http://10.10.38.95/administrator/templates\n",
    "\n",
    "\n",
    "\n",
    "\n",
    "\n"
   ]
  },
  {
   "cell_type": "code",
   "execution_count": null,
   "id": "54a5c317",
   "metadata": {
    "papermill": {
     "duration": null,
     "end_time": null,
     "exception": null,
     "start_time": null,
     "status": "pending"
    },
    "tags": []
   },
   "outputs": [],
   "source": [
    "# Blod blog\n",
    "\n",
    "https://raw.githubusercontent.com/voker2311/CaptureTheFlag-walkthroughs/refs/heads/master/The%20Blob%20Blog%20Tryhackme%20Write-up\n",
    "\n",
    "http://10.10.92.220\n",
    "\n",
    "# poster\n",
    "\n",
    "https://raw.githubusercontent.com/voker2311/CaptureTheFlag-walkthroughs/refs/heads/master/Poster%20Tryhackme%20Write-up\n",
    "\n",
    "\n",
    "# Mnemonic\n",
    "\n",
    "https://raw.githubusercontent.com/voker2311/CaptureTheFlag-walkthroughs/refs/heads/master/Mnemonic%20Tryhackme%20Write-up\n",
    "\n",
    "http://10.10.41.118\n",
    "\n",
    "# hacker note\n",
    "\n",
    "https://raw.githubusercontent.com/voker2311/CaptureTheFlag-walkthroughs/refs/heads/master/hackerNote%20Tryhackme%20Walkthrough.txt \n",
    "\n",
    "次http://10.10.82.57\n",
    "\n",
    "http://10.10.146.155\n",
    "\n",
    "https://raw.githubusercontent.com/voker2311/CaptureTheFlag-walkthroughs/refs/heads/master/Lazy%20Admin%20Tryhackme%20Walkthrough.txt\n",
    "\n",
    "http://10.10.107.183\n",
    "\n",
    "#Library write up\n",
    "\n",
    "https://raw.githubusercontent.com/voker2311/CaptureTheFlag-walkthroughs/refs/heads/master/Library%20Tryhackme%20Write-up\n",
    "\n",
    "http://10.10.144.191/ ----\n",
    "\n",
    "==> DIRECTORY: http://10.10.144.191/images/          \n",
    "                                                                   \n",
    "+ http://10.10.144.191/index.html (CODE:200|SIZE:5439)       \n",
    "                                                           \n",
    "+ http://10.10.144.191/robots.txt (CODE:200|SIZE:33)    \n",
    "                                                                \n",
    "+ http://10.10.144.191/server-status (CODE:403|SIZE:301)  \n",
    "\n",
    "http://10.10.144.191\n",
    "\n",
    "http://10.10.144.191/index.html (CODE:200|SIZE:5439)    \n",
    "                                                              \n",
    "+ http://10.10.144.191/robots.txt (CODE:200|SIZE:33)       \n",
    "                                                             \n",
    "+ http://10.10.144.191/server-status (CODE:403|SIZE:301)  \n",
    "\n",
    "https://raw.githubusercontent.com/voker2311/CaptureTheFlag-walkthroughs/refs/heads/master/Ice%20Tryhackme%20Exploit%20-%20IceCast\n",
    "\n",
    "http://10.10.31.86\n",
    "\n",
    "https://raw.githubusercontent.com/voker2311/CaptureTheFlag-walkthroughs/refs/heads/master/Daily-Bugle%20Tryhackme%20Write-up\n",
    "\n",
    "http://10.10.38.95\n",
    "\n",
    "https://raw.githubusercontent.com/voker2311/CaptureTheFlag-walkthroughs/refs/heads/master/Source%20Tryhackme%20Walkthrough.txt\n",
    "\n",
    "ほぼ　済\n",
    "# Write Library Explorer ELection\n",
    "\n",
    "https://raw.githubusercontent.com/voker2311/CaptureTheFlag-walkthroughs/refs/heads/master/Jeff%20Tryhackme%20Write-up\n",
    "\n",
    "https://raw.githubusercontent.com/voker2311/CaptureTheFlag-walkthroughs/refs/heads/master/Undiscovered%20Tryhackme%20Write-up\n",
    "\n",
    "https://github.com/voker2311/CaptureTheFlag-walkthroughs/blob/master/YearOfTheFox%20Tryhackme%20Write-up\n",
    "\n",
    "https://raw.githubusercontent.com/voker2311/CaptureTheFlag-walkthroughs/refs/heads/master/YearOfThePig%20Tryhackme%20Write-up\n",
    "\n",
    "https://raw.githubusercontent.com/voker2311/CaptureTheFlag-walkthroughs/refs/heads/master/Library%20Tryhackme%20Write-up\n",
    "\n",
    "https://raw.githubusercontent.com/voker2311/CaptureTheFlag-walkthroughs/refs/heads/master/eLection%20Vulnhub%20Writeup\n",
    "\n",
    "https://raw.githubusercontent.com/voker2311/CaptureTheFlag-walkthroughs/refs/heads/master/YearoftheDog%20Tryhackme%20Writeup\n",
    "\n",
    "https://raw.githubusercontent.com/voker2311/CaptureTheFlag-walkthroughs/refs/heads/master/eLection%20Vulnhub%20Writeup\n",
    "\n",
    "ce475b99659173ecd07784877481094969655165cc3a93c650f1eea2ac8e63a1\n",
    "\n",
    "d2d01cca74b23317621e12ce45346a5a089c0e934df27176bba3541a82b71edd\n",
    "\n",
    "# Basic properties\n",
    "MD5\n",
    "fa00d5e4379518a49f7fc030d7c3be7f\n",
    " \n",
    "SHA-1\n",
    "52f464e7fb7b32767a889b559851675e8876f84c\n",
    " \n",
    "SHA-256\n",
    "d2d01cca74b23317621e12ce45346a5a089c0e934df27176bba3541a82b71edd\n",
    " \n",
    "SSDEEP\n",
    "384:+qaqXdYuNPft6FHiKwYb9GKskYlRZB6OAH:+qawcCZCeZBVAH\n",
    " \n",
    "TLSH\n",
    "T14692E792BA0E23768386CDF158B931D1DDB7E109A1077054727C10A8C741F4DADAFEBA\n",
    "\n",
    "\n",
    "http://192.168.0.109-w/opt/SecLists/Discovery/Web-Content/big.txt\n",
    "\n",
    "https://raw.githubusercontent.com/voker2311/CaptureTheFlag-walkthroughs/refs/heads/master/EthernalBlue%20Exploitation\n",
    "\n",
    "|\n",
    "\n",
    "f0dad18fd635109ea1ba8b786e9ae95450b4c3442c1f64cbd1e628d23658e947\n",
    "\n",
    "5cbb91ba7553da72f0e0259682ab69b94bcaae99310d560e3bc724d0619fd362\n",
    "\n",
    "# Basic properties\n",
    "MD5\n",
    "0d2182f541523f2926e4d8f25aebf48c\n",
    " \n",
    "SHA-1\n",
    "f8e30b3084e4b6ac6eec55e36c737d3f912bae80\n",
    " \n",
    "SHA-256\n",
    "5cbb91ba7553da72f0e0259682ab69b94bcaae99310d560e3bc724d0619fd362\n",
    " \n",
    "SSDEEP\n",
    "384:r5eSqCYS/FGpcWfTR00E1eVx+vTx+Nhco2:r4OpcE191\n",
    " \n",
    "TLSH\n",
    "T1B4521AA29D3860390375D2930216A2C3F37F629705176438FA9C9798F34BE9985ED8F2\n",
    "\n",
    "https://medium.com/@markmotig/overwrite-strings-in-an-exe-av-evasion-maybe-f28935078911\n",
    "\n",
    "https://valhalla.nextron-systems.com/info/rule/HKTL_Meterpreter_InMemory_Rule\n",
    "\n",
    "http://10.9.81.62:8000/mimikatz.exe\n",
    "\n",
    "dfa0964b75e3643ccb8e9ddf173718ed2ecb5a1f472f4bc3608b4b385266eaf0\n",
    "\n",
    "http://10.10.45.174\n",
    "\n",
    "http://10.10.224.215\n",
    "\n",
    "http://10.10.43.208:80\n",
    "\n",
    "http://10.10.124.127\n",
    "\n",
    "http://10.10.124.127/\n",
    "\n",
    "http://10.10.213.136\n",
    "\n",
    "http://10.10.87.6\n",
    "\n",
    "http://10.9.81.62:1234\n",
    "\n",
    "http://10.10.156.163:56894\n",
    "\n",
    "http://10.9.81.62\n",
    "\n",
    "http://10.10.161.173/admin/\n",
    "\n",
    "ssh://10.10.144.191:22/\n",
    "\n",
    "http://10.10.144.191:22\n",
    "\n",
    "http://10.10.144.191\n",
    "\n",
    "http://10.10.144.191\n",
    "\n",
    "http://10.10.51.174\n",
    "\n",
    "http://10.10.51.174:58868\n",
    "\n",
    "http://10.9.81.62:4444\n",
    "\n",
    "http://10.10.242.121\n",
    "\n",
    "http://10.10.51.174/shell.php?cmd=id\n",
    "\n",
    "http://10.10.156.163\n",
    "\n",
    "http://10.10.231.20\n",
    "\n",
    "http://10.10.231.20:49136\n",
    "\n",
    "http://10.9.81.62:4444\n",
    "\n",
    "http://10.10.231.20:51588\n",
    "\n",
    "http://10.9.81.62/1234\n",
    "\n",
    "http://10.9.81.62:1234\n",
    "\n",
    "http://jeff.thm/uploads/\n",
    "\n",
    "http://jeff.thm/backups/ \n",
    "\n",
    "http://10.9.0.1\n",
    "\n",
    "http://10.10.213.133\n",
    "\n",
    "http://10.10.179.166\n",
    "\n",
    "http://10.10.191.115:10000\n",
    "\n",
    "http://10.10.191.115\n",
    "\n",
    "http://10.10.146.211\n",
    "\n",
    "http://10.10.146.211:54482\n",
    "\n",
    "http://10.10.38.95\n",
    "\n",
    "http://10.10.5.73\n",
    "\n",
    "http://10.10.5.73:49313\n",
    "\n",
    "http//10.9.81.62:4444\n",
    "\n",
    "http://10.9.81.62:8080/eHDL3qPnhov.sctscrobj.dll\n",
    "\n",
    "http://10.10.69.251\n",
    "\n",
    "http://10.10.38.95/administrator/components\n",
    "\n",
    "http://10.10.38.95/administrator/modules\n",
    "\n",
    "http://10.10.38.95/administrator/templates\n",
    "\n",
    "http://10.10.38.95/administrator/includes\n",
    "\n",
    "http://10.10.38.95/administrator/language\n",
    "\n",
    "http://10.10.38.95/administrator/templates\n",
    "\n",
    "\n",
    "\n",
    "\n",
    "\n"
   ]
  },
  {
   "cell_type": "markdown",
   "id": "cc12377d",
   "metadata": {
    "papermill": {
     "duration": null,
     "end_time": null,
     "exception": null,
     "start_time": null,
     "status": "pending"
    },
    "tags": []
   },
   "source": [
    "# ゴキブリ金玉\n",
    "\n",
    "# http://08077115935\n",
    "\n",
    "# ftp://08077115935\n"
   ]
  },
  {
   "cell_type": "markdown",
   "id": "5f973ec6",
   "metadata": {
    "papermill": {
     "duration": null,
     "end_time": null,
     "exception": null,
     "start_time": null,
     "status": "pending"
    },
    "tags": []
   },
   "source": [
    "# https://www.kyoritsu-pub.co.jp/\n",
    "\n",
    "# https://venusbeautyclinic.com/\n",
    "\n",
    "# https://reform.bushutobi.co.jp/company/\n",
    "\n",
    "http://10.64.230.83\n",
    "\n",
    "http://47.234.185.165\n",
    "\n",
    "http://34.107.243.93\n",
    "\n",
    "http://18.245.113.28\n",
    "\n",
    "http://18.67.76.28\n",
    "\n",
    "http://18.67.76.44\n",
    "\n",
    "http://18.67.76.54\n",
    "\n",
    "http://18.67.76.5\n",
    "\n",
    "http://4.213.25.241\n",
    "\n",
    "https://apps.apple.com/jp/app/%E3%83%AC%E3%82%A4%E3%82%AF%E3%82%A2%E3%83%97%E3%83%AA/id877483363?mt=8\n",
    "\n",
    "https://app.lakealsa.com/app/ht/d/g07/g07.html\n",
    "\n",
    "https://faq.lakealsa.com/\n",
    "\n",
    "https://retrochidori.com/\n",
    "\n",
    "https://play.google.com/store/apps/details?id=jp.co.shinseifinancial.app\n",
    "\n",
    "http://lakealsa.com\n",
    "\n",
    "87f7e5f4bf8bc5dae7c46cbe4e847603f91d39153f57c96a64b83afdf1a7d345\n",
    "\n",
    "35240b432be63d7253ffe781c2263048f71441383f672e3c1b944ac69dd34bbe\n",
    "\n",
    "Basic properties\n",
    "MD5\n",
    "4c40c147a396ec98e3ae7588220d2924\n",
    " \n",
    "SHA-1\n",
    "18d58e4671e84b67dbef71546e1659d3d56a9eca\n",
    " \n",
    "SHA-256\n",
    "35240b432be63d7253ffe781c2263048f71441383f672e3c1b944ac69dd34bbe\n",
    " \n",
    "Vhash\n",
    "458883ce1c9d6089f702605e5f952f77\n",
    " \n",
    "SSDEEP\n",
    "384:hEMo9MHSXUyAU4B87WLgoIsYeaTGT06siF0d0tF0CF0wj1DLkuYu:Ho9MWDmExs9Fnlkg\n",
    " \n",
    "TLSH\n",
    "T19E13FE2141F218734193A5C1AA615F6FBED8AA0BDA179B1872FC8BE95FC3D86DC1341C\n",
    "\n"
   ]
  },
  {
   "cell_type": "code",
   "execution_count": null,
   "id": "e7d6ddcd",
   "metadata": {
    "papermill": {
     "duration": null,
     "end_time": null,
     "exception": null,
     "start_time": null,
     "status": "pending"
    },
    "tags": []
   },
   "outputs": [],
   "source": [
    "\n",
    "https://www.kyoritsu-pub.co.jp/\n",
    "\n",
    "\n",
    "https://venusbeautyclinic.com/\n",
    "\n",
    "\n",
    "https://reform.bushutobi.co.jp/company/\n",
    "\n",
    "http://10.64.230.83\n",
    "\n",
    "http://47.234.185.165\n",
    "\n",
    "http://34.107.243.93\n",
    "\n",
    "http://18.245.113.28\n",
    "\n",
    "http://18.67.76.28\n",
    "\n",
    "http://18.67.76.44\n",
    "\n",
    "http://18.67.76.54\n",
    "\n",
    "http://18.67.76.5\n",
    "\n",
    "http://4.213.25.241\n",
    "\n",
    "https://apps.apple.com/jp/app/%E3%83%AC%E3%82%A4%E3%82%AF%E3%82%A2%E3%83%97%E3%83%AA/id877483363?mt=8\n",
    "\n",
    "https://app.lakealsa.com/app/ht/d/g07/g07.html\n",
    "\n",
    "https://faq.lakealsa.com/\n",
    "\n",
    "https://retrochidori.com/\n",
    "\n",
    "https://play.google.com/store/apps/details?id=jp.co.shinseifinancial.app\n",
    "\n",
    "http://lakealsa.com\n",
    "\n",
    "87f7e5f4bf8bc5dae7c46cbe4e847603f91d39153f57c96a64b83afdf1a7d345\n",
    "\n",
    "35240b432be63d7253ffe781c2263048f71441383f672e3c1b944ac69dd34bbe\n",
    "\n",
    "Basic properties\n",
    "MD5\n",
    "4c40c147a396ec98e3ae7588220d2924\n",
    " \n",
    "SHA-1\n",
    "18d58e4671e84b67dbef71546e1659d3d56a9eca\n",
    " \n",
    "SHA-256\n",
    "35240b432be63d7253ffe781c2263048f71441383f672e3c1b944ac69dd34bbe\n",
    " \n",
    "Vhash\n",
    "458883ce1c9d6089f702605e5f952f77\n",
    " \n",
    "SSDEEP\n",
    "384:hEMo9MHSXUyAU4B87WLgoIsYeaTGT06siF0d0tF0CF0wj1DLkuYu:Ho9MWDmExs9Fnlkg\n",
    " \n",
    "TLSH\n",
    "T19E13FE2141F218734193A5C1AA615F6FBED8AA0BDA179B1872FC8BE95FC3D86DC1341C\n",
    "\n"
   ]
  },
  {
   "cell_type": "code",
   "execution_count": null,
   "id": "85bbd1c1",
   "metadata": {
    "papermill": {
     "duration": null,
     "end_time": null,
     "exception": null,
     "start_time": null,
     "status": "pending"
    },
    "tags": []
   },
   "outputs": [],
   "source": [
    "データセット_df  = pd.read_csv('ftp://08077115935/train.csv') print(\"Full train dataset shape is {}\".format(dataset_df.shape))\n"
   ]
  },
  {
   "cell_type": "code",
   "execution_count": null,
   "id": "1b8c199b",
   "metadata": {
    "papermill": {
     "duration": null,
     "end_time": null,
     "exception": null,
     "start_time": null,
     "status": "pending"
    },
    "tags": []
   },
   "outputs": [],
   "source": [
    "データセット_df = pd.read_csv('http://08077115935/train.csv') print(\"Full train dataset shape is {}\".format(dataset_df.shape))\n"
   ]
  },
  {
   "cell_type": "code",
   "execution_count": null,
   "id": "66a8eb98",
   "metadata": {
    "papermill": {
     "duration": null,
     "end_time": null,
     "exception": null,
     "start_time": null,
     "status": "pending"
    },
    "tags": []
   },
   "outputs": [],
   "source": [
    "# Blod blog\n",
    "\n",
    "https://raw.githubusercontent.com/voker2311/CaptureTheFlag-walkthroughs/refs/heads/master/The%20Blob%20Blog%20Tryhackme%20Write-up\n",
    "\n",
    "http://10.10.92.220\n",
    "\n",
    "# poster\n",
    "\n",
    "https://raw.githubusercontent.com/voker2311/CaptureTheFlag-walkthroughs/refs/heads/master/Poster%20Tryhackme%20Write-up\n",
    "\n",
    "\n",
    "# Mnemonic\n",
    "\n",
    "https://raw.githubusercontent.com/voker2311/CaptureTheFlag-walkthroughs/refs/heads/master/Mnemonic%20Tryhackme%20Write-up\n",
    "\n",
    "http://10.10.41.118\n",
    "\n",
    "# hacker note\n",
    "\n",
    "https://raw.githubusercontent.com/voker2311/CaptureTheFlag-walkthroughs/refs/heads/master/hackerNote%20Tryhackme%20Walkthrough.txt\n",
    "\n",
    "http://10.10.146.155\n",
    "\n",
    "https://raw.githubusercontent.com/voker2311/CaptureTheFlag-walkthroughs/refs/heads/master/Lazy%20Admin%20Tryhackme%20Walkthrough.txt\n",
    "\n",
    "10.10.107.183\n",
    "\n",
    "#Library write up\n",
    "\n",
    "https://raw.githubusercontent.com/voker2311/CaptureTheFlag-walkthroughs/refs/heads/master/Library%20Tryhackme%20Write-up\n",
    "\n",
    "http:// http.aspエルメス:// http.aspエルメス://10.10.144.191/ ----\n",
    "\n",
    "==> ディレクトリ: http://10.10.144.191/images/          \n",
    "                                                                   \n",
    "+ http:// http.aspエルメス:// http.aspエルメス://10.10.144.191/index.html (CODE:200|SIZE:5439)       \n",
    "                                                           \n",
    "+ http://10.10.144.191/robots.txt (CODE:200|SIZE:33)    \n",
    "                                                                \n",
    "+ http://10.10.144.191/server-status (CODE:403|SIZE:301)  \n",
    "\n",
    "http://10.10.144.191\n",
    "\n",
    "http://10.10.144.191/index.html (CODE:200|SIZE:5439)    \n",
    "                                                              \n",
    "+ http://10.10.144.191/robots.txt (CODE:200|SIZE:33)       \n",
    "                                                             \n",
    "+ http://10.10.144.191/server-status (CODE:403|SIZE:301)  \n",
    "\n",
    "https://raw.githubusercontent.com/voker2311/CaptureTheFlag-walkthroughs/refs/heads/master/Ice%20Tryhackme%20Exploit%20-%20IceCast\n",
    "\n",
    "http://10.10.31.86\n",
    "\n",
    "https://raw.githubusercontent.com/voker2311/CaptureTheFlag-walkthroughs/refs/heads/master/Daily-Bugle%20Tryhackme%20Write-up\n",
    "\n",
    "http://10.10.38.95\n",
    "\n",
    "https://raw.githubusercontent.com/voker2311/CaptureTheFlag-walkthroughs/refs/heads/master/Source%20Tryhackme%20Walkthrough.txt\n"
   ]
  },
  {
   "cell_type": "markdown",
   "id": "dfe6b7c8",
   "metadata": {
    "papermill": {
     "duration": null,
     "end_time": null,
     "exception": null,
     "start_time": null,
     "status": "pending"
    },
    "tags": []
   },
   "source": [
    "# Blod blog\n",
    "\n",
    "https://raw.githubusercontent.com/voker2311/CaptureTheFlag-walkthroughs/refs/heads/master/The%20Blob%20Blog%20Tryhackme%20Write-up\n",
    "\n",
    "http://10.10.92.220\n",
    "\n",
    "# poster\n",
    "\n",
    "https://raw.githubusercontent.com/voker2311/CaptureTheFlag-walkthroughs/refs/heads/master/Poster%20Tryhackme%20Write-up\n",
    "\n",
    "\n",
    "# Mnemonic\n",
    "\n",
    "https://raw.githubusercontent.com/voker2311/CaptureTheFlag-walkthroughs/refs/heads/master/Mnemonic%20Tryhackme%20Write-up\n",
    "\n",
    "http://10.10.41.118\n",
    "\n",
    "# hacker note\n",
    "\n",
    "https://raw.githubusercontent.com/voker2311/CaptureTheFlag-walkthroughs/refs/heads/master/hackerNote%20Tryhackme%20Walkthrough.txt\n",
    "\n",
    "http://10.10.146.155\n",
    "\n",
    "https://raw.githubusercontent.com/voker2311/CaptureTheFlag-walkthroughs/refs/heads/master/Lazy%20Admin%20Tryhackme%20Walkthrough.txt\n",
    "\n",
    "10.10.107.183\n",
    "\n",
    "#Library write up\n",
    "\n",
    "https://raw.githubusercontent.com/voker2311/CaptureTheFlag-walkthroughs/refs/heads/master/Library%20Tryhackme%20Write-up\n",
    "\n",
    "http://10.10.144.191/ ----\n",
    "\n",
    "==> DIRECTORY: http://10.10.144.191/images/          \n",
    "                                                                   \n",
    "+ http://10.10.144.191/index.html (CODE:200|SIZE:5439)       \n",
    "                                                           \n",
    "+ http://10.10.144.191/robots.txt (CODE:200|SIZE:33)    \n",
    "                                                                \n",
    "+ http://10.10.144.191/server-status (CODE:403|SIZE:301)  \n",
    "\n",
    "http://10.10.144.191\n",
    "\n",
    "http://10.10.144.191/index.html (CODE:200|SIZE:5439)    \n",
    "                                                              \n",
    "+ http://10.10.144.191/robots.txt (CODE:200|SIZE:33)       \n",
    "                                                             \n",
    "+ http://10.10.144.191/server-status (CODE:403|SIZE:301)  \n",
    "\n",
    "https://raw.githubusercontent.com/voker2311/CaptureTheFlag-walkthroughs/refs/heads/master/Ice%20Tryhackme%20Exploit%20-%20IceCast\n",
    "\n",
    "http://10.10.31.86\n",
    "\n",
    "https://raw.githubusercontent.com/voker2311/CaptureTheFlag-walkthroughs/refs/heads/master/Daily-Bugle%20Tryhackme%20Write-up\n",
    "\n",
    "http://10.10.38.95\n",
    "\n",
    "https://raw.githubusercontent.com/voker2311/CaptureTheFlag-walkthroughs/refs/heads/master/Source%20Tryhackme%20Walkthrough.txt\n"
   ]
  },
  {
   "cell_type": "code",
   "execution_count": null,
   "id": "61268528",
   "metadata": {
    "execution": {
     "iopub.execute_input": "2025-05-21T14:51:08.450813Z",
     "iopub.status.busy": "2025-05-21T14:51:08.421505Z",
     "iopub.status.idle": "2025-05-21T14:51:08.478014Z",
     "shell.execute_reply": "2025-05-21T14:51:08.470518Z"
    },
    "papermill": {
     "duration": null,
     "end_time": null,
     "exception": null,
     "start_time": null,
     "status": "pending"
    },
    "tags": []
   },
   "outputs": [],
   "source": [
    "# Write Library Explorer ELection\n",
    "\n",
    "https://raw.githubusercontent.com/voker2311/CaptureTheFlag-walkthroughs/refs/heads/master/Jeff%20Tryhackme%20Write-up\n",
    "\n",
    "https://raw.githubusercontent.com/voker2311/CaptureTheFlag-walkthroughs/refs/heads/master/Undiscovered%20Tryhackme%20Write-up\n",
    "\n",
    "https://github.com/voker2311/CaptureTheFlag-walkthroughs/blob/master/YearOfTheFox%20Tryhackme%20Write-up\n",
    "\n",
    "https://raw.githubusercontent.com/voker2311/CaptureTheFlag-walkthroughs/refs/heads/master/YearOfThePig%20Tryhackme%20Write-up\n",
    "\n",
    "https://raw.githubusercontent.com/voker2311/CaptureTheFlag-walkthroughs/refs/heads/master/Library%20Tryhackme%20Write-up\n",
    "\n",
    "https://raw.githubusercontent.com/voker2311/CaptureTheFlag-walkthroughs/refs/heads/master/eLection%20Vulnhub%20Writeup\n",
    "\n",
    "https://raw.githubusercontent.com/voker2311/CaptureTheFlag-walkthroughs/refs/heads/master/YearoftheDog%20Tryhackme%20Writeup\n",
    "\n",
    "https://raw.githubusercontent.com/voker2311/CaptureTheFlag-walkthroughs/refs/heads/master/eLection%20Vulnhub%20Writeup\n",
    "\n",
    "ce475b99659173ecd07784877481094969655165cc3a93c650f1eea2ac8e63a1\n",
    "\n",
    "d2d01cca74b23317621e12ce45346a5a089c0e934df27176bba3541a82b71edd\n",
    "\n",
    "# Basic properties\n",
    "MD5\n",
    "fa00d5e4379518a49f7fc030d7c3be7f\n",
    " \n",
    "シャー-1\n",
    "52f464e7fb7b32767a889b559851675e8876f84c\n",
    " \n",
    "シャー-256\n",
    "d2d01cca74b23317621e12ce45346a5a089c0e934df27176bba3541a82b71edd\n",
    " \n",
    "SSDEEP\n",
    "384:+qaqXdYuNPft6FHiKwYb9GKskYlRZB6OAH:+qawcCZCeZBVAH\n",
    " \n",
    "TLSH\n",
    "T14692E792BA0E23768386CDF158B931D1DDB7E109A1077054727C10A8C741F4DADAFEBA\n",
    "\n",
    "\n",
    "http://192.168.0.109-w/opt/SecLists/Discovery/Web-Content/big.txt\n",
    "\n",
    "https://raw.githubusercontent.com/voker2311/CaptureTheFlag-walkthroughs/refs/heads/master/EthernalBlue%20Exploitation\n",
    "\n",
    "|\n",
    "\n",
    "f0dad18fd635109ea1ba8b786e9ae95450b4c3442c1f64cbd1e628d23658e947\n",
    "\n",
    "5cbb91ba7553da72f0e0259682ab69b94bcaae99310d560e3bc724d0619fd362\n",
    "\n",
    "# Basic properties\n",
    "MD5\n",
    "0d2182f541523f2926e4d8f25aebf48c\n",
    " \n",
    "SHA-1\n",
    "f8e30b3084e4b6ac6eec55e36c737d3f912bae80\n",
    " \n",
    "SHA-256\n",
    "5cbb91ba7553da72f0e0259682ab69b94bcaae99310d560e3bc724d0619fd362\n",
    " \n",
    "SSDEEP\n",
    "384:r5eSqCYS/FGpcWfTR00E1eVx+vTx+Nhco2:r4OpcE191\n",
    " \n",
    "TLSH\n",
    "T1B4521AA29D3860390375D2930216A2C3F37F629705176438FA9C9798F34BE9985ED8F2\n",
    "\n",
    "https://medium.com/@markmotig/overwrite-strings-in-an-exe-av-evasion-maybe-f28935078911\n",
    "\n",
    "https://valhalla.nextron-systems.com/info/rule/HKTL_Meterpreter_InMemory_Rule\n",
    "\n",
    "http://10.9.81.62:8000/mimikatz.exe\n",
    "\n",
    "dfa0964b75e3643ccb8e9ddf173718ed2ecb5a1f472f4bc3608b4b385266eaf0\n",
    "\n",
    "http://10.10.45.174\n",
    "\n",
    "http://10.10.224.215\n",
    "\n",
    "http://10.10.43.208:80\n",
    "\n",
    "http://10.10.124.127\n",
    "\n",
    "http://10.10.124.127/\n",
    "\n",
    "http://10.10.213.136\n",
    "\n",
    "http://10.10.87.6\n",
    "\n",
    "http://10.9.81.62:1234\n",
    "\n",
    "http://10.10.156.163:56894\n",
    "\n",
    "http://10.9.81.62\n",
    "\n",
    "http://10.10.161.173/admin/\n",
    "\n",
    "ssh://10.10.144.191:22/\n",
    "\n",
    "http://10.10.144.191:22\n",
    "\n",
    "http://10.10.144.191\n",
    "\n",
    "http://10.10.144.191\n",
    "\n",
    "http://10.10.51.174\n",
    "\n",
    "http://10.10.51.174:58868\n",
    "\n",
    "http://10.9.81.62:4444\n",
    "\n",
    "http://10.10.242.121\n",
    "\n",
    "http://10.10.51.174/shell.php?cmd=id\n",
    "\n",
    "http://10.10.156.163\n",
    "\n",
    "http://10.10.231.20\n",
    "\n",
    "http://10.10.231.20:49136\n",
    "\n",
    "http://10.9.81.62:4444\n",
    "\n",
    "http://10.10.231.20:51588\n",
    "\n",
    "http://10.9.81.62/1234\n",
    "\n",
    "http://10.9.81.62:1234\n",
    "\n",
    "http://jeff.thm/uploads/\n",
    "\n",
    "http://jeff.thm/backups/ \n",
    "\n",
    "http://10.9.0.1\n",
    "\n",
    "http://10.10.213.133\n",
    "\n",
    "http://10.10.179.166\n",
    "\n",
    "http://10.10.191.115:10000\n",
    "\n",
    "http://10.10.191.115\n",
    "\n",
    "http://10.10.146.211\n",
    "\n",
    "http://10.10.146.211:54482\n",
    "\n",
    "http://10.10.38.95\n",
    "\n",
    "http://10.10.5.73\n",
    "\n",
    "http://10.10.5.73:49313\n",
    "\n",
    "http//10.9.81.62:4444\n",
    "\n",
    "http://10.9.81.62:8080/eHDL3qPnhov.sctscrobj.dll\n",
    "\n",
    "http://10.10.69.251\n",
    "\n",
    "http://10.10.38.95/administrator/components\n",
    "\n",
    "http://10.10.38.95/administrator/modules\n",
    "\n",
    "http://10.10.38.95/administrator/templates\n",
    "\n",
    "http://10.10.38.95/administrator/includes\n",
    "\n",
    "http://10.10.38.95/administrator/language\n",
    "\n",
    "http://10.10.38.95/administrator/templates\n"
   ]
  },
  {
   "cell_type": "markdown",
   "id": "3f8ea565",
   "metadata": {
    "papermill": {
     "duration": null,
     "end_time": null,
     "exception": null,
     "start_time": null,
     "status": "pending"
    },
    "tags": []
   },
   "source": [
    "# Write Library Explorer ELection\n",
    "\n",
    "https://raw.githubusercontent.com/voker2311/CaptureTheFlag-walkthroughs/refs/heads/master/Jeff%20Tryhackme%20Write-up\n",
    "\n",
    "https://raw.githubusercontent.com/voker2311/CaptureTheFlag-walkthroughs/refs/heads/master/Undiscovered%20Tryhackme%20Write-up\n",
    "\n",
    "https://github.com/voker2311/CaptureTheFlag-walkthroughs/blob/master/YearOfTheFox%20Tryhackme%20Write-up\n",
    "\n",
    "https://raw.githubusercontent.com/voker2311/CaptureTheFlag-walkthroughs/refs/heads/master/YearOfThePig%20Tryhackme%20Write-up\n",
    "\n",
    "https://raw.githubusercontent.com/voker2311/CaptureTheFlag-walkthroughs/refs/heads/master/Library%20Tryhackme%20Write-up\n",
    "\n",
    "https://raw.githubusercontent.com/voker2311/CaptureTheFlag-walkthroughs/refs/heads/master/eLection%20Vulnhub%20Writeup\n",
    "\n",
    "https://raw.githubusercontent.com/voker2311/CaptureTheFlag-walkthroughs/refs/heads/master/YearoftheDog%20Tryhackme%20Writeup\n",
    "\n",
    "https://raw.githubusercontent.com/voker2311/CaptureTheFlag-walkthroughs/refs/heads/master/eLection%20Vulnhub%20Writeup\n",
    "\n",
    "ce475b99659173ecd07784877481094969655165cc3a93c650f1eea2ac8e63a1\n",
    "\n",
    "d2d01cca74b23317621e12ce45346a5a089c0e934df27176bba3541a82b71edd\n",
    "\n",
    "# Basic properties\n",
    "MD5\n",
    "fa00d5e4379518a49f7fc030d7c3be7f\n",
    " \n",
    "SHA-1\n",
    "52f464e7fb7b32767a889b559851675e8876f84c\n",
    " \n",
    "SHA-256\n",
    "d2d01cca74b23317621e12ce45346a5a089c0e934df27176bba3541a82b71edd\n",
    " \n",
    "SSDEEP\n",
    "384:+qaqXdYuNPft6FHiKwYb9GKskYlRZB6OAH:+qawcCZCeZBVAH\n",
    " \n",
    "TLSH\n",
    "T14692E792BA0E23768386CDF158B931D1DDB7E109A1077054727C10A8C741F4DADAFEBA\n",
    "\n",
    "\n",
    "http://192.168.0.109-w/opt/SecLists/Discovery/Web-Content/big.txt\n",
    "\n",
    "https://raw.githubusercontent.com/voker2311/CaptureTheFlag-walkthroughs/refs/heads/master/EthernalBlue%20Exploitation\n",
    "\n",
    "|\n",
    "\n",
    "f0dad18fd635109ea1ba8b786e9ae95450b4c3442c1f64cbd1e628d23658e947\n",
    "\n",
    "5cbb91ba7553da72f0e0259682ab69b94bcaae99310d560e3bc724d0619fd362\n",
    "\n",
    "# Basic properties\n",
    "MD5\n",
    "0d2182f541523f2926e4d8f25aebf48c\n",
    " \n",
    "SHA-1\n",
    "f8e30b3084e4b6ac6eec55e36c737d3f912bae80\n",
    " \n",
    "SHA-256\n",
    "5cbb91ba7553da72f0e0259682ab69b94bcaae99310d560e3bc724d0619fd362\n",
    " \n",
    "SSDEEP\n",
    "384:r5eSqCYS/FGpcWfTR00E1eVx+vTx+Nhco2:r4OpcE191\n",
    " \n",
    "TLSH\n",
    "T1B4521AA29D3860390375D2930216A2C3F37F629705176438FA9C9798F34BE9985ED8F2\n",
    "\n",
    "https://medium.com/@markmotig/overwrite-strings-in-an-exe-av-evasion-maybe-f28935078911\n",
    "\n",
    "https://valhalla.nextron-systems.com/info/rule/HKTL_Meterpreter_InMemory_Rule\n",
    "\n",
    "http://10.9.81.62:8000/mimikatz.exe\n",
    "\n",
    "dfa0964b75e3643ccb8e9ddf173718ed2ecb5a1f472f4bc3608b4b385266eaf0\n",
    "\n",
    "http://10.10.45.174\n",
    "\n",
    "http://10.10.224.215\n",
    "\n",
    "http://10.10.43.208:80\n",
    "\n",
    "http://10.10.124.127\n",
    "\n",
    "http://10.10.124.127/\n",
    "\n",
    "http://10.10.213.136\n",
    "\n",
    "http://10.10.87.6\n",
    "\n",
    "http://10.9.81.62:1234\n",
    "\n",
    "http://10.10.156.163:56894\n",
    "\n",
    "http://10.9.81.62\n",
    "\n",
    "http://10.10.161.173/admin/\n",
    "\n",
    "ssh://10.10.144.191:22/\n",
    "\n",
    "http://10.10.144.191:22\n",
    "\n",
    "http://10.10.144.191\n",
    "\n",
    "http://10.10.144.191\n",
    "\n",
    "http://10.10.51.174\n",
    "\n",
    "http://10.10.51.174:58868\n",
    "\n",
    "http://10.9.81.62:4444\n",
    "\n",
    "http://10.10.242.121\n",
    "\n",
    "http://10.10.51.174/shell.php?cmd=id\n",
    "\n",
    "http://10.10.156.163\n",
    "\n",
    "http://10.10.231.20\n",
    "\n",
    "http://10.10.231.20:49136\n",
    "\n",
    "http://10.9.81.62:4444\n",
    "\n",
    "http://10.10.231.20:51588\n",
    "\n",
    "http://10.9.81.62/1234\n",
    "\n",
    "http://10.9.81.62:1234\n",
    "\n",
    "http://jeff.thm/uploads/\n",
    "\n",
    "http://jeff.thm/backups/ \n",
    "\n",
    "http://10.9.0.1\n",
    "\n",
    "http://10.10.213.133\n",
    "\n",
    "http://10.10.179.166\n",
    "\n",
    "http://10.10.191.115:10000\n",
    "\n",
    "http://10.10.191.115\n",
    "\n",
    "http://10.10.146.211\n",
    "\n",
    "http://10.10.146.211:54482\n",
    "\n",
    "http://10.10.38.95\n",
    "\n",
    "http://10.10.5.73\n",
    "\n",
    "http://10.10.5.73:49313\n",
    "\n",
    "http//10.9.81.62:4444\n",
    "\n",
    "http://10.9.81.62:8080/eHDL3qPnhov.sctscrobj.dll\n",
    "\n",
    "http://10.10.69.251\n",
    "\n",
    "http://10.10.38.95/administrator/components\n",
    "\n",
    "http://10.10.38.95/administrator/modules\n",
    "\n",
    "http://10.10.38.95/administrator/templates\n",
    "\n",
    "http://10.10.38.95/administrator/includes\n",
    "\n",
    "http://10.10.38.95/administrator/language\n",
    "\n",
    "http://10.10.38.95/administrator/templates\n"
   ]
  },
  {
   "cell_type": "code",
   "execution_count": null,
   "id": "9a3affe8",
   "metadata": {
    "papermill": {
     "duration": null,
     "end_time": null,
     "exception": null,
     "start_time": null,
     "status": "pending"
    },
    "tags": []
   },
   "outputs": [],
   "source": [
    "# TryHackMe Pulse\n",
    "https://raw.githubusercontent.com/voker2311/CaptureTheFlag-walkthroughs/pulse\n",
    "\n",
    "d88248de3cd9f4a244ee13fdec31954b6b267263246ecc5a37c0c380a5899e65\n",
    "\n",
    "172dbbf468f2d83896081a22c4d65964cd0fa3dfda7926bfbd6da8b7d4d91d75\n",
    "\n",
    "# Basic properties\n",
    "MD5\n",
    "6a0405c77f92538ad6b4e17cb3cc13cb\n",
    " \n",
    "シャー-1\n",
    "1e02f836db8e3c86368ea79bc6ac7c690311796e\n",
    " \n",
    "シャー-256\n",
    "172dbbf468f2d83896081a22c4d65964cd0fa3dfda7926bfbd6da8b7d4d91d75\n",
    " \n",
    "SSDEEP\n",
    "3:Zz/AWRn:+WRn\n",
    " \n",
    "\n",
    "# Names\n",
    "pulse\n",
    "52e090733c2f90c3fe2f35fc19282f91b17I\n",
    "780c5ccff48c7c103ebd679b7774d3dfd36ba4f9\n",
    "bi\n",
    "d58ed589a1f9cae7b573d19532f35cf60dfd72\n",
    "main\n",
    "62bae973b700edec2cbd4c07bcef6f24c82b1c7f\n",
    "master\n",
    "429f47e9be6d4ad3e49bd654e3db2fcf8b15\n",
    "captcharequ\n",
    "1-0\n",
    "3f74d372a2e8f0242f8961e09b50fed4\n",
    "03c4b0586d23a963c3672844867bdd41f82e\n",
    "gelay.php\n",
    "IWBTB-Save-Editor\n",
    "Ocr-text2image-\n",
    "Gri..\n",
    "Im\n",
    "CS2-Orbit-ResourcesvG\n",
    "nhn\n",
    "0e94ec25a2c4531f1ee7df24dd8742e\n",
    "\n",
    "onlyrat\n",
    "NetherWorksh\n",
    "3e83818c975a47f4ca61209b478f2508224058d\n",
    "\n",
    "empireproject\n",
    "ec8d1124c16c83aad8f5c826c2e3fdf0714412\n",
    "\n",
    "othermeinthehP\n",
    "51bb4a783b3759e7bd0d793583503396fd6fc\n",
    "latest-compatible-sets.jsonspago-0.21.0-9rylEGGtRnxL4VUtdT\n",
    "6a1a28a89323da3754351cf5\n",
    "437c4d3cac29e371d1df8d2bebd1de764\n",
    "de6-4888-b80e-76d6c825a01f\n",
    "Kzb\n",
    "$m2\n",
    "\n",
    "Immort\n",
    "3ab62d55b7faabcf61ac3bf14708f16305b\n",
    "d40ee4aebed2238643eba941fd7dd0\n",
    "98A22AF\n",
    "ffa960fb1bd8c48fb131830f6d2\n",
    "\n",
    "rasta-mouse\n",
    "f544095ccc1e85e92da16df87b2e\n",
    "7e4f54da025d55c8c74c7d09c63742aaf2\n",
    "vector::_M_default_append\n",
    "R\n",
    "8a23e8ae9914ed39cecd36849a5d6fe95ef\n",
    "Fldr\n",
    "\n",
    "anonimuL\n",
    "ShadowWhispererh\n",
    "Lol...\n",
    "\n",
    "powershell-suite\n",
    "rc&\n",
    "fa8f1249b67cff645628b6e08fa6f802d4\n",
    "Flo(\n",
    "\n",
    "xceedsoftwar=\n",
    "githa0\n",
    "AZURE-\n",
    "fd770de47d1f00de385edc4cb0b9356\n",
    "SSClas\n",
    "936a2e753e148cbbdf90af47e9c24f32c\n",
    "22cfc0ebd567466d9763ccff40b33ff29a108\n",
    "0094371ba253767c33d147da943ade3e91f03\n",
    "7u\n",
    "S4\n",
    "6bf6c78519a9239551db60256ad12863b2b72d8d\n",
    "9be7b20095bf34c9e3fefc761d813aec784e9e\n",
    "\n",
    "b-silikat\n",
    "E9\n",
    "04b10aea0ca3a62deb8b6891bf4\n",
    "\n",
    "Z52\n",
    "00b2f3fa99ac64ad28800ea51786ae783b0badeb\n",
    "\n",
    "docker\n",
    "357279b7cfc14227dee2acbd7692858fad\n",
    "a6a17162ba1f50b71e2f61fcc6dbf20f6f324\n",
    "lllllllllllllllllllllll\n",
    "llllllllllll\n",
    "\n",
    "powercat\n",
    "lllllllllllllllllllllllg\n",
    "518d0440085358536058bf771a792\n",
    "e3d472ee21de65ca1dabd5607\n",
    "2d74f428c1c20cd76\n",
    "cca19e217dbf3fa8b715ac7ac040a8d492c36ee\n",
    "\n",
    "FlowseaN\n",
    "argo-\n",
    "d6b51601bdd86a9dd\n",
    "32b31a9c721fae70417ba23e3110b3c4\n",
    "InMyM\n",
    "FlowLR%25qP\n",
    "blA2\n",
    "0a95ac52592adb2d5\n",
    "\n",
    "peass-ng\n",
    "zapret-discord-ypowershell-command(Invoke-WebRequest\n",
    "0199d76fb05d6d8fbc5e884bed532281034ee6\n",
    "\n",
    "Online-PanH\n",
    "blairity\n",
    "c9a709eba537bfa16034b8ea16\n",
    "310680883096cc4e3c82766419ae370b68\n",
    "2a2352428eb2735ceb97\n",
    "file.js\n",
    "\n",
    "# Behavior\n",
    "\n",
    "b09244972aecbda516de3370387a9e64d0cae3d86c9fb654f0676d0fa907d4ad.file\n",
    "\n",
    "00f467704eab37b3766283150ee4f0f2e3570eaf2a7073d7dbeaf404103c0b7d_EvilClippy.docm\n",
    "\n",
    "38de97f2e89a2f39fb8603cb4c1fd4a5aa1c4e34c56c5984df80aa49529ec069\n",
    "\n",
    "Basic properties\n",
    "MD5\n",
    "3abf5e62fd915a768492a22a4bdd6335\n",
    " \n",
    "SHA-1\n",
    "a71e02ec8bf7c95679ea6813b6977a9b76901533\n",
    " \n",
    "SHA-256\n",
    "38de97f2e89a2f39fb8603cb4c1fd4a5aa1c4e34c56c5984df80aa49529ec069\n",
    " \n",
    "Vhash\n",
    "59e4fa50479a67833838da879fdb1350\n",
    " \n",
    "SSDEEP\n",
    "786432:8ggBiFHYsIX4LoNqwqKFlrKOWdVmtWG/WNA62hC03TincytuKexggyIS0wT60/2H:8yZs4LcqwqEhpS4tWG/IA6EC03VhyI5f\n",
    " \n",
    "TLSH\n",
    "T10CB71266A3042C36D65182FDE46645FB76BBF41AB18C43C1319A316E1BB7404BABD38F\n",
    "\n"
   ]
  },
  {
   "cell_type": "markdown",
   "id": "eb564890",
   "metadata": {
    "papermill": {
     "duration": null,
     "end_time": null,
     "exception": null,
     "start_time": null,
     "status": "pending"
    },
    "tags": []
   },
   "source": [
    "# TryHackMe Pulse\n",
    "https://raw.githubusercontent.com/voker2311/CaptureTheFlag-walkthroughs/pulse\n",
    "\n",
    "d88248de3cd9f4a244ee13fdec31954b6b267263246ecc5a37c0c380a5899e65\n",
    "\n",
    "172dbbf468f2d83896081a22c4d65964cd0fa3dfda7926bfbd6da8b7d4d91d75\n",
    "\n",
    "# Basic properties\n",
    "MD5\n",
    "6a0405c77f92538ad6b4e17cb3cc13cb\n",
    " \n",
    "SHA-1\n",
    "1e02f836db8e3c86368ea79bc6ac7c690311796e\n",
    " \n",
    "SHA-256\n",
    "172dbbf468f2d83896081a22c4d65964cd0fa3dfda7926bfbd6da8b7d4d91d75\n",
    " \n",
    "SSDEEP\n",
    "3:zZ/AWRn:+WRn\n",
    " \n",
    "\n",
    "# Names\n",
    "pulse\n",
    "52e090733c2f90c3fe2f35fc19282f91b17I\n",
    "780c5ccff48c7c103ebd679b7774d3dfd36ba4f9\n",
    "bi\n",
    "d58ed589a1f9cae7b573d19532f35cf60dfd72\n",
    "main\n",
    "62bae973b700edec2cbd4c07bcef6f24c82b1c7f\n",
    "master\n",
    "429f47e9be6d4ad3e49bd654e3db2fcf8b15\n",
    "captcharequ\n",
    "1-0\n",
    "3f74d372a2e8f0242f8961e09b50fed4\n",
    "03c4b0586d23a963c3672844867bdd41f82e\n",
    "gelay.php\n",
    "IWBTB-Save-Editor\n",
    "Ocr-text2image-\n",
    "Gri..\n",
    "Im\n",
    "CS2-Orbit-ResourcesvG\n",
    "nhn\n",
    "0e94ec25a2c4531f1ee7df24dd8742e\n",
    "\n",
    "onlyrat\n",
    "NetherWorksh\n",
    "3e83818c975a47f4ca61209b478f2508224058d\n",
    "\n",
    "empireproject\n",
    "ec8d1124c16c83aad8f5c826c2e3fdf0714412\n",
    "\n",
    "othermeinthehP\n",
    "51bb4a783b3759e7bd0d793583503396fd6fc\n",
    "latest-compatible-sets.jsonspago-0.21.0-9rylEGGtRnxL4VUtdT\n",
    "6a1a28a89323da3754351cf5\n",
    "437c4d3cac29e371d1df8d2bebd1de764\n",
    "de6-4888-b80e-76d6c825a01f\n",
    "Kzb\n",
    "$m2\n",
    "\n",
    "Immort\n",
    "3ab62d55b7faabcf61ac3bf14708f16305b\n",
    "d40ee4aebed2238643eba941fd7dd0\n",
    "98A22AF\n",
    "ffa960fb1bd8c48fb131830f6d2\n",
    "\n",
    "rasta-mouse\n",
    "f544095ccc1e85e92da16df87b2e\n",
    "7e4f54da025d55c8c74c7d09c63742aaf2\n",
    "vector::_M_default_append\n",
    "R\n",
    "8a23e8ae9914ed39cecd36849a5d6fe95ef\n",
    "Fldr\n",
    "\n",
    "anonimuL\n",
    "ShadowWhispererh\n",
    "Lol...\n",
    "\n",
    "powershell-suite\n",
    "rc&\n",
    "fa8f1249b67cff645628b6e08fa6f802d4\n",
    "Flo(\n",
    "\n",
    "xceedsoftwar=\n",
    "githa0\n",
    "AZURE-\n",
    "fd770de47d1f00de385edc4cb0b9356\n",
    "SSClas\n",
    "936a2e753e148cbbdf90af47e9c24f32c\n",
    "22cfc0ebd567466d9763ccff40b33ff29a108\n",
    "0094371ba253767c33d147da943ade3e91f03\n",
    "7u\n",
    "S4\n",
    "6bf6c78519a9239551db60256ad12863b2b72d8d\n",
    "9be7b20095bf34c9e3fefc761d813aec784e9e\n",
    "\n",
    "b-silikat\n",
    "E9\n",
    "04b10aea0ca3a62deb8b6891bf4\n",
    "\n",
    "Z52\n",
    "00b2f3fa99ac64ad28800ea51786ae783b0badeb\n",
    "\n",
    "docker\n",
    "357279b7cfc14227dee2acbd7692858fad\n",
    "a6a17162ba1f50b71e2f61fcc6dbf20f6f324\n",
    "lllllllllllllllllllllll\n",
    "llllllllllll\n",
    "\n",
    "powercat\n",
    "lllllllllllllllllllllllg\n",
    "518d0440085358536058bf771a792\n",
    "e3d472ee21de65ca1dabd5607\n",
    "2d74f428c1c20cd76\n",
    "cca19e217dbf3fa8b715ac7ac040a8d492c36ee\n",
    "\n",
    "FlowseaN\n",
    "argo-\n",
    "d6b51601bdd86a9dd\n",
    "32b31a9c721fae70417ba23e3110b3c4\n",
    "InMyM\n",
    "FlowLR%25qP\n",
    "blA2\n",
    "0a95ac52592adb2d5\n",
    "\n",
    "peass-ng\n",
    "zapret-discord-ypowershell-command(Invoke-WebRequest\n",
    "0199d76fb05d6d8fbc5e884bed532281034ee6\n",
    "\n",
    "Online-PanH\n",
    "blairity\n",
    "c9a709eba537bfa16034b8ea16\n",
    "310680883096cc4e3c82766419ae370b68\n",
    "2a2352428eb2735ceb97\n",
    "file.js\n",
    "\n",
    "# Behavior\n",
    "\n",
    "b09244972aecbda516de3370387a9e64d0cae3d86c9fb654f0676d0fa907d4ad.file\n",
    "\n",
    "00f467704eab37b3766283150ee4f0f2e3570eaf2a7073d7dbeaf404103c0b7d_EvilClippy.docm\n",
    "\n",
    "38de97f2e89a2f39fb8603cb4c1fd4a5aa1c4e34c56c5984df80aa49529ec069\n",
    "\n",
    "Basic properties\n",
    "MD5\n",
    "3abf5e62fd915a768492a22a4bdd6335\n",
    " \n",
    "SHA-1\n",
    "a71e02ec8bf7c95679ea6813b6977a9b76901533\n",
    " \n",
    "SHA-256\n",
    "38de97f2e89a2f39fb8603cb4c1fd4a5aa1c4e34c56c5984df80aa49529ec069\n",
    " \n",
    "Vhash\n",
    "59e4fa50479a67833838da879fdb1350\n",
    " \n",
    "SSDEEP\n",
    "786432:8ggBiFHYsIX4LoNqwqKFlrKOWdVmtWG/WNA62hC03TincytuKexggyIS0wT60/2H:8yZs4LcqwqEhpS4tWG/IA6EC03VhyI5f\n",
    " \n",
    "TLSH\n",
    "T10CB71266A3042C36D65182FDE46645FB76BBF41AB18C43C1319A316E1BB7404BABD38F\n",
    "\n"
   ]
  },
  {
   "cell_type": "code",
   "execution_count": null,
   "id": "72ce5f5e",
   "metadata": {
    "execution": {
     "iopub.execute_input": "2025-05-13T07:24:17.342685Z",
     "iopub.status.busy": "2025-05-13T07:24:17.341332Z",
     "iopub.status.idle": "2025-05-13T07:24:17.363451Z",
     "shell.execute_reply": "2025-05-13T07:24:17.353904Z"
    },
    "papermill": {
     "duration": null,
     "end_time": null,
     "exception": null,
     "start_time": null,
     "status": "pending"
    },
    "tags": []
   },
   "outputs": [],
   "source": [
    "トライハックミー # allison Search\n",
    "https://github.com/voker2311/CaptureTheFlag-walkthroughs/tree/master  \n",
    "\n",
    "https://github.com/voker2311/CaptureTheFlag-walkthroughs/blob/master/Relevant%20Tryhackme%20walkthrough.txt#L2-L2 \n",
    "\n",
    "http://10.10.45.100\n",
    "\n",
    "https://akshaydeepakshinde.medium.com/tryhackme-cherryblossom-writeup-3c791b5f36f7\n",
    "\n",
    "http://10.10.105.134\n",
    "\n",
    "https://raw.githubusercontent.com/voker2311/CaptureTheFlag-walkthroughs/refs/heads/master/The%20Blob%20Blog%20Tryhackme%20Write-up\n",
    "\n",
    "http://10.10.92.220\n",
    "\n",
    "https://raw.githubusercontent.com/voker2311/CaptureTheFlag-walkthroughs\n",
    "\n",
    "https://raw.githubusercontent.com/voker2311/CaptureTheFlag-walkthroughs/actions\n",
    "\n",
    "https://raw.githubusercontent.com/voker2311/CaptureTheFlag-walkthroughs/activity\n",
    "\n",
    "https://raw.githubusercontent.com/voker2311/CaptureTheFlag-walkthroughs/blob/master/Anonforce%20Tryhackme%20Walkthrough\n",
    "\n",
    "https://raw.githubusercontent.com/voker2311/CaptureTheFlag-walkthroughs/blob/master/Anonymous%20Tryhackme%20Walkthrough.txt\n",
    "\n",
    "https://raw.githubusercontent.com/voker2311/CaptureTheFlag-walkthroughs/branches\n",
    "\n",
    "https://raw.githubusercontent.com/voker2311/CaptureTheFlag-walkthroughs/commits/master/\n",
    "\n",
    "https://raw.githubusercontent.com/voker2311/CaptureTheFlag-walkthroughs/forks\n",
    "\n",
    "https://raw.githubusercontent.com/voker2311/CaptureTheFlag-walkthroughs/issues\n",
    "\n",
    "https://raw.githubusercontent.com/voker2311/CaptureTheFlag-walkthroughs/projects\n",
    "\n",
    "https://raw.githubusercontent.com/voker2311/CaptureTheFlag-walkthroughs/pulls\n",
    "\n",
    "https://raw.githubusercontent.com/voker2311/CaptureTheFlag-walkthroughs/pulse\n",
    "\n",
    "https://raw.githubusercontent.com/voker2311/CaptureTheFlag-walkthroughs/security\n",
    "\n",
    "https://raw.githubusercontent.com/voker2311/CaptureTheFlag-walkthroughs/stargazers\n",
    "\n",
    "https://raw.githubusercontent.com/voker2311/CaptureTheFlag-walkthroughs/tags\n",
    "\n",
    "http://140.82.113.3\n",
    "\n",
    "b1e07a9fd8ff6d5f999f85f4dbecbebeb2bb072fd5ba895d7de4d20dcc075b1b\n",
    "\n",
    "54543ee41eac5bdea59755533a5ce6ad26b19028925b6ce1584a7b094b7d323a\n",
    "\n",
    "# Basic properties\n",
    "\n",
    "MD5\n",
    "504b20db228d085d99beca6e17b078cb \n",
    "\n",
    "SHA-1\n",
    "ea6669e20d9ee7b12d3f8e49649661b2ec4675cf \n",
    "\n",
    "SHA-256\n",
    "54543ee41eac5bdea59755533a5ce6ad26b19028925b6ce1584a7b094b7d323a \n",
    "\n",
    "Vhash\n",
    "3626e79b82faedc3201a43e08ca970fb \n",
    "\n",
    "SSDEEP\n",
    "6144:uo0+gp8c/saqkwV97HILqgIDSF/IV90vZJT3CqbMrhryf65NRPaCieMjAkvCJv1N:t0+gp8c/saqkwV97HILqgIDSF/IV90vq \n",
    "\n",
    "TLSH\n",
    "T15A84B560B17871AD0107569AB170A218E35FE36EF24D55E1B6BFE7E847E3CD4EA83018\n",
    "\n",
    "\n",
    "# Meta Tags\n",
    "\n",
    "octolytics-dimension-repository_network_root_nwo\n",
    "voker2311/CaptureTheFlag-walkthroughs \n",
    "color-scheme\n",
    "light dark \n",
    "\n",
    "twitter:image\n",
    "https://opengraph.githubassets.com/b7395a16cfd2981911f1422d70210113ea2d40035af5a5e1cfab947a7e69f39e/voker2311/CaptureTheFlag-walkthroughs \n",
    "\n",
    "visitor-hmac\n",
    "\n",
    "59720857f6351a5077a0d39b0e1facd29cc6333c63e12cf0ab5ac4864d1700ea \n",
    "\n",
    "turbo-body-classes\n",
    "logged-out env-production page-responsive \n",
    "hovercard-subject-tag\n",
    "repository:296372297 \n",
    "\n",
    "https://github.com/voker2311/CaptureTheFlag-walkthroughs/tree/master \n",
    "\n",
    "https://api.github.com/_private/browser/errors \n",
    "octolytics-dimension-user_loginvoker2311 \n",
    "\n",
    "html-safe-nonce\n",
    "\n",
    "0b2958f347d07a8723c809f82934ab3bc0d7226f748a7ca4cd0776420310e45f \n",
    "\n",
    "https://github.com/voker2311/CaptureTheFlag-walkthroughs.git \n",
    "visitor-payload\n",
    "\n",
    "eyJyZWZlcnJlciI6IiIsInJlcXVlc3RfaWQiOiI0MjAxOjM1OUUyNzpEMDFFM0U6MTEyQTg3RTo2ODBFRjVEQSIsInZpc2l0b3JfaWQiOiI4MDk4Mzg3MzYzNTE4OTM2NTM4IiwicmVnaW9uX2VkZ2UiOiJpYWQiLCJyZWdpb25fcmVuZGVyIjoiaWFkIn0= \n",
    "\n",
    "request-id\n",
    "4201:359E27:D01E3E:112A87E:680EF5DA \n",
    "\n",
    "current-catalog-service-hash\n",
    "f3abb0cc802f3d7b95fc8762b94bdcb13bf39634c40c357301c4aa1d67a256fb \n",
    "release\n",
    "6fe9bf6b21675f805d07597cdd260a718bc45dc2 \n",
    "\n",
    "google-site-verification\n",
    "Apib7-x98H0j5cPqHWwSMm6dNU4GmODRoqxLiDzdx9I \n",
    "\n",
    "octolytics-dimension-repository_nwo\n",
    "voker2311/CaptureTheFlag-walkthroughs \n",
    "octolytics-dimension-repository_id\n",
    "296372297\n",
    "\n",
    "# Script Tags\n",
    "\n",
    "d4c87dc96512ffa58c3a16ee19ecd394892f8c91a2b2854c8ceb0137f50c770d\n",
    "\n",
    "https://github.githubassets.com/assets/wp-runtime-3ad9d9feeba9.js\n",
    "\n",
    "https://github.githubassets.com/assets/vendors-node_modules_oddbird_popover-polyfill_dist_popover-fn_js-81211bd82278.js\n",
    "\n",
    "https://github.githubassets.com/assets/vendors-node_modules_github_mini-throttle_dist_index_js-node_modules_stacktrace-parser_dist_s-1d3d52-4be8ffe9a34a.js\n",
    "\n",
    "https://github.githubassets.com/assets/ui_packages_failbot_failbot_ts-aed0572c1e67.js\n",
    "\n",
    "https://github.githubassets.com/assets/environment-1309ac7398f5.js\n",
    "\n",
    "https://github.githubassets.com/assets/vendors-node_modules_primer_behaviors_dist_esm_index_mjs-0dbb79f97f8f.js\n",
    "\n",
    "https://github.githubassets.com/assets/vendors-node_modules_github_selector-observer_dist_index_esm_js-f690fd9ae3d5.js\n",
    "\n",
    "https://github.githubassets.com/assets/vendors-node_modules_github_relative-time-element_dist_index_js-62d275b7ddd9.js\n",
    "\n",
    "https://github.githubassets.com/assets/vendors-node_modules_github_auto-complete-element_dist_index_js-node_modules_github_catalyst_-8e9f78-a90ac05d2469.js\n",
    "\n",
    "https://github.githubassets.com/assets/vendors-node_modules_github_text-expander-element_dist_index_js-78748950cb0c.js\n",
    "\n",
    "https://github.githubassets.com/assets/vendors-node_modules_github_filter-input-element_dist_index_js-node_modules_github_remote-inp-b5f1d7-a1760ffda83d.js\n",
    "\n",
    "https://github.githubassets.com/assets/vendors-node_modules_github_markdown-toolbar-element_dist_index_js-ceef33f593fa.js\n",
    "\n",
    "https://github.githubassets.com/assets/vendors-node_modules_github_file-attachment-element_dist_index_js-node_modules_primer_view-co-c44a69-08c257325fd3.js\n",
    "\n",
    "https://github.githubassets.com/assets/github-elements-c006416f1d14.js\n",
    "\n",
    "https://github.githubassets.com/assets/element-registry-c7475cff79ff.js\n",
    "\n",
    "https://github.githubassets.com/assets/vendors-node_modules_braintree_browser-detection_dist_browser-detection_js-node_modules_githu-2906d7-2a07a295af40.js\n",
    "\n",
    "https://github.githubassets.com/assets/vendors-node_modules_lit-html_lit-html_js-be8cb88f481b.js\n",
    "\n",
    "https://github.githubassets.com/assets/vendors-node_modules_morphdom_dist_morphdom-esm_js-0c08218c7d5f.js\n",
    "\n",
    "https://github.githubassets.com/assets/vendors-node_modules_github_turbo_dist_turbo_es2017-esm_js-a03ee12d659a.js\n",
    "\n",
    "https://github.githubassets.com/assets/vendors-node_modules_github_remote-form_dist_index_js-node_modules_delegated-events_dist_inde-893f9f-b6294cf703b7.js\n",
    "\n",
    "https://github.githubassets.com/assets/vendors-node_modules_color-convert_index_js-e3180fe3bcb3.js\n",
    "\n",
    "https://github.githubassets.com/assets/vendors-node_modules_github_quote-selection_dist_index_js-node_modules_github_session-resume_-054bff-311c04966bb2.js\n",
    "\n",
    "https://github.githubassets.com/assets/ui_packages_updatable-content_updatable-content_ts-62f3e9c52ece.js\n",
    "\n",
    "https://github.githubassets.com/assets/app_assets_modules_github_behaviors_task-list_ts-app_assets_modules_github_sso_ts-ui_packages-900dde-768abe60b1f8.js\n",
    "\n",
    "https://github.githubassets.com/assets/app_assets_modules_github_sticky-scroll-into-view_ts-3e000c5d31a9.js\n",
    "\n",
    "https://github.githubassets.com/assets/app_assets_modules_github_behaviors_ajax-error_ts-app_assets_modules_github_behaviors_include-d0d0a6-7cc66dc86dd7.js\n",
    "\n",
    "https://github.githubassets.com/assets/app_assets_modules_github_behaviors_commenting_edit_ts-app_assets_modules_github_behaviors_ht-83c235-4bcbbbfbe1d4.js\n",
    "\n",
    "https://github.githubassets.com/assets/ui_packages_alive_alive_ts-ui_packages_favicon_favicon_ts-ui_packages_hotkey_keyboard-shortcu-30cc64-4f2226f8b82b.js\n",
    "\n",
    "https://github.githubassets.com/assets/behaviors-de402eec99f7.js\n",
    "\n",
    "https://github.githubassets.com/assets/vendors-node_modules_delegated-events_dist_index_js-node_modules_github_catalyst_lib_index_js-f6223d90c7ba.js\n",
    "\n",
    "https://github.githubassets.com/assets/notifications-global-01e85cd1be94.js\n",
    "\n",
    "https://github.githubassets.com/assets/vendors-node_modules_github_mini-throttle_dist_index_js-node_modules_virtualized-list_es_inde-5cfb7e-e6b0d3ff3d24.js\n",
    "\n",
    "https://github.githubassets.com/assets/vendors-node_modules_github_remote-form_dist_index_js-node_modules_delegated-events_dist_inde-70450e-4b93df70b903.js\n",
    "\n",
    "https://github.githubassets.com/assets/app_assets_modules_github_ref-selector_ts-329b5696d03d.js\n",
    "\n",
    "https://github.githubassets.com/assets/codespaces-e047fb0a7326.js\n",
    "\n",
    "https://github.githubassets.com/assets/vendors-node_modules_github_filter-input-element_dist_index_js-node_modules_github_remote-inp-3eebbd-0763620ad7bf.js\n",
    "\n",
    "https://github.githubassets.com/assets/vendors-node_modules_github_mini-throttle_dist_decorators_js-node_modules_delegated-events_di-e161aa-9d41fb1b6c9e.js\n",
    "\n",
    "https://github.githubassets.com/assets/vendors-node_modules_github_file-attachment-element_dist_index_js-node_modules_github_remote--3c9c82-b71ef90fbdc7.js\n",
    "\n",
    "https://github.githubassets.com/assets/repositories-95c3ec3e0cb0.js\n",
    "\n",
    "https://github.githubassets.com/assets/vendors-node_modules_github_mini-throttle_dist_index_js-node_modules_github_catalyst_lib_inde-dbbea9-26cce2010167.js\n",
    "\n",
    "https://github.githubassets.com/assets/code-menu-e7766071917b.js\n",
    "\n",
    "https://github.githubassets.com/assets/primer-react-185cf474198e.js\n",
    "\n",
    "https://github.githubassets.com/assets/react-core-a06e8e45cc3d.js\n",
    "\n",
    "https://github.githubassets.com/assets/react-lib-80430c87778a.js\n",
    "\n",
    "https://github.githubassets.com/assets/octicons-react-cf2f2ab8dab4.js\n",
    "\n",
    "https://github.githubassets.com/assets/vendors-node_modules_emotion_is-prop-valid_dist_emotion-is-prop-valid_esm_js-node_modules_emo-b1c483-23083d170518.js\n",
    "\n",
    "https://github.githubassets.com/assets/vendors-node_modules_github_catalyst_lib_index_js-node_modules_tanstack_react-query_build_mod-3b1f5d-85b60118c668.js\n",
    "\n",
    "https://github.githubassets.com/assets/notifications-subscriptions-menu-8dc1c3ca4122.js\n",
    "\n",
    "https://github.githubassets.com/assets/ui_packages_ui-commands_ui-commands_ts-a5d129177860.js\n",
    "\n",
    "\n",
    "# CAPE Sandbox\n",
    "3e71d887b90afc8419491d3e094279f1\n",
    " \n",
    "# Zenbox\n",
    "4d5a16e4f722a42182e88b6e4be6a165\n",
    "\n",
    "# JA3 Digests\n",
    "\n",
    "56d36cb7475bfb78bc6c87f7fb603394\n",
    "\n",
    "862fb9b35c00aeb5ba5d199d6e88cf96\n",
    "\n",
    "91a7bbdd52b8f843ae981732f366278c\n",
    "\n",
    "a49c802a5789488825a95c1a166043e5\n",
    "\n",
    "b7fd507dbc59906f5d0305d63c3d8510\n",
    "\n",
    "dfd9f4274e5e48c9668c3bd3b633dab2\n",
    "\n",
    "e36135ae9564db4cede6c6f02850c6a7\n",
    "\n",
    "f64170e965ff100f63fe4003e180d3f1\n",
    "\n",
    "0d368413ba4ad413c0aa1ec054501a7c\n",
    "\n",
    "1bd4861aa236fda32fecd06a824c92f1\n",
    "\n",
    "27199abc680403d09cf55a47155a717b\n",
    "\n",
    "28a2c9bd18a11de089ef85a160da29e4\n",
    "\n",
    "29c21d1a811a0839cedcb6a308a20222\n",
    "\n",
    "3403e2319a292f74e8a8c3d6c6a08f3f\n",
    "\n",
    "37cc6b4a5448918c478473d46a3c61e8\n",
    "\n",
    "388dbcf7b39f3d4e705f8e1e7d43be64\n",
    "\n",
    "4b8845e88aff4243ed1f5c8d2d407ff9\n",
    "\n",
    "73a825b53e3ca5c7e297ee986f09904e\n",
    "\n",
    "8096912a3b2c74e38faa1b3b6fd6425a\n",
    "\n",
    "8a1fb0e0748f960a702bc44b2679bfec\n",
    "\n",
    "8a84dbf1959da2cf5499ecfa5e69524c\n",
    "\n",
    "903353e1100cdc25f7d89ef17bb447ce\n",
    "\n",
    "9ad858d28e1632e21bec1853f8c1d2f0\n",
    "\n",
    "a45d1284ca64036ce7b33b5e81f9bf73\n",
    "\n",
    "a5beb42caf8bc0b739c7b7c496e75bb9\n",
    "\n",
    "a71a00550c8bad326efcf6c23d19f0da\n",
    "\n",
    "a9914714b2e6e085de36460c217a4ab0\n",
    "\n",
    "b1ef78e80bb79bae6fb1b632af37cdef\n",
    "\n",
    "b81867ea10472d5524de9d292372c724\n",
    "\n",
    "c48f98bcfd5f0600e2e3661461ea48d1\n",
    "\n",
    "c5919445d89069396b16b594d6b63cf0\n",
    "\n",
    "c82d8fff1270de39ae8005ca86db1314\n",
    "\n",
    "cdc65be9ce095989beecc5f9b92e7da1\n",
    "\n",
    "cf38dfe69a5e872181a41767555bc931\n",
    "\n",
    "d2d441a8ae07d6ab5900719b67918447\n",
    "\n",
    "d9330c8e7ff443eee5aafa3cd22b828a\n",
    "\n",
    "e74c237cfc395b06474446ec37f5e033\n",
    "\n",
    "f6a78ce1b78ca8b3ba632562a7164d7e\n",
    "\n",
    "f9ffd2e13a2a3ed97a7d9efb7d8d1817\n",
    "\n",
    "\n",
    "\n",
    "\n"
   ]
  },
  {
   "cell_type": "markdown",
   "id": "c64ce017",
   "metadata": {
    "papermill": {
     "duration": null,
     "end_time": null,
     "exception": null,
     "start_time": null,
     "status": "pending"
    },
    "tags": []
   },
   "source": [
    "TryHackMe # allison Search\n",
    "https://github.com/voker2311/CaptureTheFlag-walkthroughs/tree/master  \n",
    "\n",
    "https://github.com/voker2311/CaptureTheFlag-walkthroughs/blob/master/Relevant%20Tryhackme%20walkthrough.txt#L2-L2 \n",
    "\n",
    "http://10.10.45.100\n",
    "\n",
    "https://akshaydeepakshinde.medium.com/tryhackme-cherryblossom-writeup-3c791b5f36f7\n",
    "\n",
    "http://10.10.105.134\n",
    "\n",
    "https://raw.githubusercontent.com/voker2311/CaptureTheFlag-walkthroughs/refs/heads/master/The%20Blob%20Blog%20Tryhackme%20Write-up\n",
    "\n",
    "http://10.10.92.220\n",
    "\n",
    "https://raw.githubusercontent.com/voker2311/CaptureTheFlag-walkthroughs\n",
    "\n",
    "https://raw.githubusercontent.com/voker2311/CaptureTheFlag-walkthroughs/actions\n",
    "\n",
    "https://raw.githubusercontent.com/voker2311/CaptureTheFlag-walkthroughs/activity\n",
    "\n",
    "https://raw.githubusercontent.com/voker2311/CaptureTheFlag-walkthroughs/blob/master/Anonforce%20Tryhackme%20Walkthrough\n",
    "\n",
    "https://raw.githubusercontent.com/voker2311/CaptureTheFlag-walkthroughs/blob/master/Anonymous%20Tryhackme%20Walkthrough.txt\n",
    "\n",
    "https://raw.githubusercontent.com/voker2311/CaptureTheFlag-walkthroughs/branches\n",
    "\n",
    "https://raw.githubusercontent.com/voker2311/CaptureTheFlag-walkthroughs/commits/master/\n",
    "\n",
    "https://raw.githubusercontent.com/voker2311/CaptureTheFlag-walkthroughs/forks\n",
    "\n",
    "https://raw.githubusercontent.com/voker2311/CaptureTheFlag-walkthroughs/issues\n",
    "\n",
    "https://raw.githubusercontent.com/voker2311/CaptureTheFlag-walkthroughs/projects\n",
    "\n",
    "https://raw.githubusercontent.com/voker2311/CaptureTheFlag-walkthroughs/pulls\n",
    "\n",
    "https://raw.githubusercontent.com/voker2311/CaptureTheFlag-walkthroughs/pulse\n",
    "\n",
    "https://raw.githubusercontent.com/voker2311/CaptureTheFlag-walkthroughs/security\n",
    "\n",
    "https://raw.githubusercontent.com/voker2311/CaptureTheFlag-walkthroughs/stargazers\n",
    "\n",
    "https://raw.githubusercontent.com/voker2311/CaptureTheFlag-walkthroughs/tags\n",
    "\n",
    "http://140.82.113.3\n",
    "\n",
    "b1e07a9fd8ff6d5f999f85f4dbecbebeb2bb072fd5ba895d7de4d20dcc075b1b\n",
    "\n",
    "54543ee41eac5bdea59755533a5ce6ad26b19028925b6ce1584a7b094b7d323a\n",
    "\n",
    "# Basic properties\n",
    "\n",
    "MD5\n",
    "504b20db228d085d99beca6e17b078cb \n",
    "\n",
    "SHA-1\n",
    "ea6669e20d9ee7b12d3f8e49649661b2ec4675cf \n",
    "\n",
    "SHA-256\n",
    "54543ee41eac5bdea59755533a5ce6ad26b19028925b6ce1584a7b094b7d323a \n",
    "\n",
    "Vhash\n",
    "3626e79b82faedc3201a43e08ca970fb \n",
    "\n",
    "SSDEEP\n",
    "6144:uo0+gp8c/saqkwV97HILqgIDSF/IV90vZJT3CqbMrhryf65NRPaCieMjAkvCJv1N:t0+gp8c/saqkwV97HILqgIDSF/IV90vq \n",
    "\n",
    "TLSH\n",
    "T15A84B560B17871AD0107569AB170A218E35FE36EF24D55E1B6BFE7E847E3CD4EA83018\n",
    "\n",
    "\n",
    "# Meta Tags\n",
    "\n",
    "octolytics-dimension-repository_network_root_nwo\n",
    "voker2311/CaptureTheFlag-walkthroughs \n",
    "color-scheme\n",
    "light dark \n",
    "\n",
    "twitter:image\n",
    "https://opengraph.githubassets.com/b7395a16cfd2981911f1422d70210113ea2d40035af5a5e1cfab947a7e69f39e/voker2311/CaptureTheFlag-walkthroughs \n",
    "\n",
    "visitor-hmac\n",
    "\n",
    "59720857f6351a5077a0d39b0e1facd29cc6333c63e12cf0ab5ac4864d1700ea \n",
    "\n",
    "turbo-body-classes\n",
    "logged-out env-production page-responsive \n",
    "hovercard-subject-tag\n",
    "repository:296372297 \n",
    "\n",
    "https://github.com/voker2311/CaptureTheFlag-walkthroughs/tree/master \n",
    "\n",
    "https://api.github.com/_private/browser/errors \n",
    "octolytics-dimension-user_loginvoker2311 \n",
    "\n",
    "html-safe-nonce\n",
    "\n",
    "0b2958f347d07a8723c809f82934ab3bc0d7226f748a7ca4cd0776420310e45f \n",
    "\n",
    "https://github.com/voker2311/CaptureTheFlag-walkthroughs.git \n",
    "visitor-payload\n",
    "\n",
    "eyJyZWZlcnJlciI6IiIsInJlcXVlc3RfaWQiOiI0MjAxOjM1OUUyNzpEMDFFM0U6MTEyQTg3RTo2ODBFRjVEQSIsInZpc2l0b3JfaWQiOiI4MDk4Mzg3MzYzNTE4OTM2NTM4IiwicmVnaW9uX2VkZ2UiOiJpYWQiLCJyZWdpb25fcmVuZGVyIjoiaWFkIn0= \n",
    "\n",
    "request-id\n",
    "4201:359E27:D01E3E:112A87E:680EF5DA \n",
    "\n",
    "current-catalog-service-hash\n",
    "f3abb0cc802f3d7b95fc8762b94bdcb13bf39634c40c357301c4aa1d67a256fb \n",
    "release\n",
    "6fe9bf6b21675f805d07597cdd260a718bc45dc2 \n",
    "\n",
    "google-site-verification\n",
    "Apib7-x98H0j5cPqHWwSMm6dNU4GmODRoqxLiDzdx9I \n",
    "\n",
    "octolytics-dimension-repository_nwo\n",
    "voker2311/CaptureTheFlag-walkthroughs \n",
    "octolytics-dimension-repository_id\n",
    "296372297"
   ]
  },
  {
   "cell_type": "markdown",
   "id": "c09f5ac8",
   "metadata": {
    "papermill": {
     "duration": null,
     "end_time": null,
     "exception": null,
     "start_time": null,
     "status": "pending"
    },
    "tags": []
   },
   "source": [
    "\n",
    "# Script Tags\n",
    "\n",
    "d4c87dc96512ffa58c3a16ee19ecd394892f8c91a2b2854c8ceb0137f50c770d\n",
    "\n",
    "https://github.githubassets.com/assets/wp-runtime-3ad9d9feeba9.js\n",
    "\n",
    "https://github.githubassets.com/assets/vendors-node_modules_oddbird_popover-polyfill_dist_popover-fn_js-81211bd82278.js\n",
    "\n",
    "https://github.githubassets.com/assets/vendors-node_modules_github_mini-throttle_dist_index_js-node_modules_stacktrace-parser_dist_s-1d3d52-4be8ffe9a34a.js\n",
    "\n",
    "https://github.githubassets.com/assets/ui_packages_failbot_failbot_ts-aed0572c1e67.js\n",
    "\n",
    "https://github.githubassets.com/assets/environment-1309ac7398f5.js\n",
    "\n",
    "https://github.githubassets.com/assets/vendors-node_modules_primer_behaviors_dist_esm_index_mjs-0dbb79f97f8f.js\n",
    "\n",
    "https://github.githubassets.com/assets/vendors-node_modules_github_selector-observer_dist_index_esm_js-f690fd9ae3d5.js\n",
    "\n",
    "https://github.githubassets.com/assets/vendors-node_modules_github_relative-time-element_dist_index_js-62d275b7ddd9.js\n",
    "\n",
    "https://github.githubassets.com/assets/vendors-node_modules_github_auto-complete-element_dist_index_js-node_modules_github_catalyst_-8e9f78-a90ac05d2469.js\n",
    "\n",
    "https://github.githubassets.com/assets/vendors-node_modules_github_text-expander-element_dist_index_js-78748950cb0c.js\n",
    "\n",
    "https://github.githubassets.com/assets/vendors-node_modules_github_filter-input-element_dist_index_js-node_modules_github_remote-inp-b5f1d7-a1760ffda83d.js\n",
    "\n",
    "https://github.githubassets.com/assets/vendors-node_modules_github_markdown-toolbar-element_dist_index_js-ceef33f593fa.js\n",
    "\n",
    "https://github.githubassets.com/assets/vendors-node_modules_github_file-attachment-element_dist_index_js-node_modules_primer_view-co-c44a69-08c257325fd3.js\n",
    "\n",
    "https://github.githubassets.com/assets/github-elements-c006416f1d14.js\n",
    "\n",
    "https://github.githubassets.com/assets/element-registry-c7475cff79ff.js\n",
    "\n",
    "https://github.githubassets.com/assets/vendors-node_modules_braintree_browser-detection_dist_browser-detection_js-node_modules_githu-2906d7-2a07a295af40.js\n",
    "\n",
    "https://github.githubassets.com/assets/vendors-node_modules_lit-html_lit-html_js-be8cb88f481b.js\n",
    "\n",
    "https://github.githubassets.com/assets/vendors-node_modules_morphdom_dist_morphdom-esm_js-0c08218c7d5f.js\n",
    "\n",
    "https://github.githubassets.com/assets/vendors-node_modules_github_turbo_dist_turbo_es2017-esm_js-a03ee12d659a.js\n",
    "\n",
    "https://github.githubassets.com/assets/vendors-node_modules_github_remote-form_dist_index_js-node_modules_delegated-events_dist_inde-893f9f-b6294cf703b7.js\n",
    "\n",
    "https://github.githubassets.com/assets/vendors-node_modules_color-convert_index_js-e3180fe3bcb3.js\n",
    "\n",
    "https://github.githubassets.com/assets/vendors-node_modules_github_quote-selection_dist_index_js-node_modules_github_session-resume_-054bff-311c04966bb2.js\n",
    "\n",
    "https://github.githubassets.com/assets/ui_packages_updatable-content_updatable-content_ts-62f3e9c52ece.js\n",
    "\n",
    "https://github.githubassets.com/assets/app_assets_modules_github_behaviors_task-list_ts-app_assets_modules_github_sso_ts-ui_packages-900dde-768abe60b1f8.js\n",
    "\n",
    "https://github.githubassets.com/assets/app_assets_modules_github_sticky-scroll-into-view_ts-3e000c5d31a9.js\n",
    "\n",
    "https://github.githubassets.com/assets/app_assets_modules_github_behaviors_ajax-error_ts-app_assets_modules_github_behaviors_include-d0d0a6-7cc66dc86dd7.js\n",
    "\n",
    "https://github.githubassets.com/assets/app_assets_modules_github_behaviors_commenting_edit_ts-app_assets_modules_github_behaviors_ht-83c235-4bcbbbfbe1d4.js\n",
    "\n",
    "https://github.githubassets.com/assets/ui_packages_alive_alive_ts-ui_packages_favicon_favicon_ts-ui_packages_hotkey_keyboard-shortcu-30cc64-4f2226f8b82b.js\n",
    "\n",
    "https://github.githubassets.com/assets/behaviors-de402eec99f7.js\n",
    "\n",
    "https://github.githubassets.com/assets/vendors-node_modules_delegated-events_dist_index_js-node_modules_github_catalyst_lib_index_js-f6223d90c7ba.js\n",
    "\n",
    "https://github.githubassets.com/assets/notifications-global-01e85cd1be94.js\n",
    "\n",
    "https://github.githubassets.com/assets/vendors-node_modules_github_mini-throttle_dist_index_js-node_modules_virtualized-list_es_inde-5cfb7e-e6b0d3ff3d24.js\n",
    "\n",
    "https://github.githubassets.com/assets/vendors-node_modules_github_remote-form_dist_index_js-node_modules_delegated-events_dist_inde-70450e-4b93df70b903.js\n",
    "\n",
    "https://github.githubassets.com/assets/app_assets_modules_github_ref-selector_ts-329b5696d03d.js\n",
    "\n",
    "https://github.githubassets.com/assets/codespaces-e047fb0a7326.js\n",
    "\n",
    "https://github.githubassets.com/assets/vendors-node_modules_github_filter-input-element_dist_index_js-node_modules_github_remote-inp-3eebbd-0763620ad7bf.js\n",
    "\n",
    "https://github.githubassets.com/assets/vendors-node_modules_github_mini-throttle_dist_decorators_js-node_modules_delegated-events_di-e161aa-9d41fb1b6c9e.js\n",
    "\n",
    "https://github.githubassets.com/assets/vendors-node_modules_github_file-attachment-element_dist_index_js-node_modules_github_remote--3c9c82-b71ef90fbdc7.js\n",
    "\n",
    "https://github.githubassets.com/assets/repositories-95c3ec3e0cb0.js\n",
    "\n",
    "https://github.githubassets.com/assets/vendors-node_modules_github_mini-throttle_dist_index_js-node_modules_github_catalyst_lib_inde-dbbea9-26cce2010167.js\n",
    "\n",
    "https://github.githubassets.com/assets/code-menu-e7766071917b.js\n",
    "\n",
    "https://github.githubassets.com/assets/primer-react-185cf474198e.js\n",
    "\n",
    "https://github.githubassets.com/assets/react-core-a06e8e45cc3d.js\n",
    "\n",
    "https://github.githubassets.com/assets/react-lib-80430c87778a.js\n",
    "\n",
    "https://github.githubassets.com/assets/octicons-react-cf2f2ab8dab4.js\n",
    "\n",
    "https://github.githubassets.com/assets/vendors-node_modules_emotion_is-prop-valid_dist_emotion-is-prop-valid_esm_js-node_modules_emo-b1c483-23083d170518.js\n",
    "\n",
    "https://github.githubassets.com/assets/vendors-node_modules_github_catalyst_lib_index_js-node_modules_tanstack_react-query_build_mod-3b1f5d-85b60118c668.js\n",
    "\n",
    "https://github.githubassets.com/assets/notifications-subscriptions-menu-8dc1c3ca4122.js\n",
    "\n",
    "https://github.githubassets.com/assets/ui_packages_ui-commands_ui-commands_ts-a5d129177860.js\n",
    "\n",
    "\n",
    "# CAPE Sandbox\n",
    "3e71d887b90afc8419491d3e094279f1\n",
    " \n",
    "# Zenbox\n",
    "4d5a16e4f722a42182e88b6e4be6a165\n",
    "\n",
    "# JA3 Digests\n",
    "\n",
    "56d36cb7475bfb78bc6c87f7fb603394\n",
    "\n",
    "862fb9b35c00aeb5ba5d199d6e88cf96\n",
    "\n",
    "91a7bbdd52b8f843ae981732f366278c\n",
    "\n",
    "a49c802a5789488825a95c1a166043e5\n",
    "\n",
    "b7fd507dbc59906f5d0305d63c3d8510\n",
    "\n",
    "dfd9f4274e5e48c9668c3bd3b633dab2\n",
    "\n",
    "e36135ae9564db4cede6c6f02850c6a7\n",
    "\n",
    "f64170e965ff100f63fe4003e180d3f1\n",
    "\n",
    "0d368413ba4ad413c0aa1ec054501a7c\n",
    "\n",
    "1bd4861aa236fda32fecd06a824c92f1\n",
    "\n",
    "27199abc680403d09cf55a47155a717b\n",
    "\n",
    "28a2c9bd18a11de089ef85a160da29e4\n",
    "\n",
    "29c21d1a811a0839cedcb6a308a20222\n",
    "\n",
    "3403e2319a292f74e8a8c3d6c6a08f3f\n",
    "\n",
    "37cc6b4a5448918c478473d46a3c61e8\n",
    "\n",
    "388dbcf7b39f3d4e705f8e1e7d43be64\n",
    "\n",
    "4b8845e88aff4243ed1f5c8d2d407ff9\n",
    "\n",
    "73a825b53e3ca5c7e297ee986f09904e\n",
    "\n",
    "8096912a3b2c74e38faa1b3b6fd6425a\n",
    "\n",
    "8a1fb0e0748f960a702bc44b2679bfec\n",
    "\n",
    "8a84dbf1959da2cf5499ecfa5e69524c\n",
    "\n",
    "903353e1100cdc25f7d89ef17bb447ce\n",
    "\n",
    "9ad858d28e1632e21bec1853f8c1d2f0\n",
    "\n",
    "a45d1284ca64036ce7b33b5e81f9bf73\n",
    "\n",
    "a5beb42caf8bc0b739c7b7c496e75bb9\n",
    "\n",
    "a71a00550c8bad326efcf6c23d19f0da\n",
    "\n",
    "a9914714b2e6e085de36460c217a4ab0\n",
    "\n",
    "b1ef78e80bb79bae6fb1b632af37cdef\n",
    "\n",
    "b81867ea10472d5524de9d292372c724\n",
    "\n",
    "c48f98bcfd5f0600e2e3661461ea48d1\n",
    "\n",
    "c5919445d89069396b16b594d6b63cf0\n",
    "\n",
    "c82d8fff1270de39ae8005ca86db1314\n",
    "\n",
    "cdc65be9ce095989beecc5f9b92e7da1\n",
    "\n",
    "cf38dfe69a5e872181a41767555bc931\n",
    "\n",
    "d2d441a8ae07d6ab5900719b67918447\n",
    "\n",
    "d9330c8e7ff443eee5aafa3cd22b828a\n",
    "\n",
    "e74c237cfc395b06474446ec37f5e033\n",
    "\n",
    "f6a78ce1b78ca8b3ba632562a7164d7e\n",
    "\n",
    "f9ffd2e13a2a3ed97a7d9efb7d8d1817\n",
    "\n",
    "\n",
    "\n",
    "\n"
   ]
  },
  {
   "cell_type": "code",
   "execution_count": null,
   "id": "ce49f1de",
   "metadata": {
    "papermill": {
     "duration": null,
     "end_time": null,
     "exception": null,
     "start_time": null,
     "status": "pending"
    },
    "tags": []
   },
   "outputs": [],
   "source": [
    "df1 = pd.read_csv('Train.csv'、区切り文字=','、nrows = nRows Read)\n",
    "df1.dataframeName = 'Train.csv'\n",
    "nRow,nCol = df1形状\n",
    "print(f)'{nRow)行と{nCol}列があります。)  \n"
   ]
  },
  {
   "cell_type": "code",
   "execution_count": null,
   "id": "f14b352d",
   "metadata": {
    "papermill": {
     "duration": null,
     "end_time": null,
     "exception": null,
     "start_time": null,
     "status": "pending"
    },
    "tags": []
   },
   "outputs": [],
   "source": [
    "dataset_df = pd.read_csv('ftp://0351555245\n",
    "/train.csv')print(\"Full train dataset shape is{}\".format(dataset_df.shape))\n"
   ]
  },
  {
   "cell_type": "markdown",
   "id": "51d6df34",
   "metadata": {
    "papermill": {
     "duration": null,
     "end_time": null,
     "exception": null,
     "start_time": null,
     "status": "pending"
    },
    "tags": []
   },
   "source": [
    "ftp://0351555245\n"
   ]
  },
  {
   "cell_type": "code",
   "execution_count": null,
   "id": "e696fc91",
   "metadata": {
    "papermill": {
     "duration": null,
     "end_time": null,
     "exception": null,
     "start_time": null,
     "status": "pending"
    },
    "tags": []
   },
   "outputs": [],
   "source": [
    "dataset_df = pd.read_csv('ftp://0359315920/train.csv) print(\"Full train dataset shape is {}\".format(dataset_df.shape))\n"
   ]
  },
  {
   "cell_type": "markdown",
   "id": "c1b0866d",
   "metadata": {
    "papermill": {
     "duration": null,
     "end_time": null,
     "exception": null,
     "start_time": null,
     "status": "pending"
    },
    "tags": []
   },
   "source": [
    "ftp://0359315920"
   ]
  },
  {
   "cell_type": "code",
   "execution_count": null,
   "id": "1bc66242",
   "metadata": {
    "papermill": {
     "duration": null,
     "end_time": null,
     "exception": null,
     "start_time": null,
     "status": "pending"
    },
    "tags": []
   },
   "outputs": [],
   "source": [
    "dataset_df = pd.read_csv('ftp://0528051036/train.csv) print(\"Full train dataset shape is {}\".format(dataset_df.shape))\n"
   ]
  },
  {
   "cell_type": "markdown",
   "id": "00174022",
   "metadata": {
    "papermill": {
     "duration": null,
     "end_time": null,
     "exception": null,
     "start_time": null,
     "status": "pending"
    },
    "tags": []
   },
   "source": [
    "ftp://0528051036"
   ]
  },
  {
   "cell_type": "code",
   "execution_count": null,
   "id": "67186686",
   "metadata": {
    "execution": {
     "iopub.execute_input": "2025-05-13T07:24:17.369377Z",
     "iopub.status.busy": "2025-05-13T07:24:17.368266Z",
     "iopub.status.idle": "2025-05-13T07:24:17.384043Z",
     "shell.execute_reply": "2025-05-13T07:24:17.376449Z"
    },
    "papermill": {
     "duration": null,
     "end_time": null,
     "exception": null,
     "start_time": null,
     "status": "pending"
    },
    "tags": []
   },
   "outputs": [],
   "source": [
    "dataset_df = pd.read_csv('ftp://0665612171/train.csv) print(\"Full train dataset shape is {}\".format(dataset_df.shape))"
   ]
  },
  {
   "cell_type": "markdown",
   "id": "024959a9",
   "metadata": {
    "papermill": {
     "duration": null,
     "end_time": null,
     "exception": null,
     "start_time": null,
     "status": "pending"
    },
    "tags": []
   },
   "source": [
    "ftp://0665612171"
   ]
  },
  {
   "cell_type": "code",
   "execution_count": null,
   "id": "0bf99df1",
   "metadata": {
    "papermill": {
     "duration": null,
     "end_time": null,
     "exception": null,
     "start_time": null,
     "status": "pending"
    },
    "tags": []
   },
   "outputs": [],
   "source": [
    "dataset_df = pd.read_csv('ftp://0359315929/train.csv) print(\"Full train dataset shape is {}\".format(dataset_df.shape))"
   ]
  },
  {
   "cell_type": "markdown",
   "id": "8b538af9",
   "metadata": {
    "papermill": {
     "duration": null,
     "end_time": null,
     "exception": null,
     "start_time": null,
     "status": "pending"
    },
    "tags": []
   },
   "source": [
    "ftp://0359315929"
   ]
  },
  {
   "cell_type": "code",
   "execution_count": null,
   "id": "dffa9672",
   "metadata": {
    "papermill": {
     "duration": null,
     "end_time": null,
     "exception": null,
     "start_time": null,
     "status": "pending"
    },
    "tags": []
   },
   "outputs": [],
   "source": [
    "dataset_df = pd.read_csv('ftp://0367567004/train.csv) print(\"Full train dataset shape is{}\".format(dataset_df.shape))"
   ]
  },
  {
   "cell_type": "markdown",
   "id": "1ad4bd57",
   "metadata": {
    "papermill": {
     "duration": null,
     "end_time": null,
     "exception": null,
     "start_time": null,
     "status": "pending"
    },
    "tags": []
   },
   "source": [
    "ftp://0367567004"
   ]
  },
  {
   "cell_type": "code",
   "execution_count": null,
   "id": "7cc5f2b4",
   "metadata": {
    "papermill": {
     "duration": null,
     "end_time": null,
     "exception": null,
     "start_time": null,
     "status": "pending"
    },
    "tags": []
   },
   "outputs": [],
   "source": [
    "dataset_df = pd.read_csv('ftp://0359315928/train.csv) print(\"Full train dataset shape is{}\".format(dataset_df.shape))"
   ]
  },
  {
   "cell_type": "markdown",
   "id": "fd357dad",
   "metadata": {
    "papermill": {
     "duration": null,
     "end_time": null,
     "exception": null,
     "start_time": null,
     "status": "pending"
    },
    "tags": []
   },
   "source": [
    "ftp://0359315928"
   ]
  },
  {
   "cell_type": "code",
   "execution_count": null,
   "id": "596e90dc",
   "metadata": {
    "execution": {
     "iopub.execute_input": "2025-05-13T07:24:17.393089Z",
     "iopub.status.busy": "2025-05-13T07:24:17.391977Z",
     "iopub.status.idle": "2025-05-13T07:24:17.409017Z",
     "shell.execute_reply": "2025-05-13T07:24:17.403556Z"
    },
    "papermill": {
     "duration": null,
     "end_time": null,
     "exception": null,
     "start_time": null,
     "status": "pending"
    },
    "tags": []
   },
   "outputs": [],
   "source": [
    "dataset_df = pd.read_csv('ftp://0426895166/train.csv) print(\"Full train dataset shape is{}\".format(dataset_df.shape))"
   ]
  },
  {
   "cell_type": "markdown",
   "id": "9e8e1f6b",
   "metadata": {
    "papermill": {
     "duration": null,
     "end_time": null,
     "exception": null,
     "start_time": null,
     "status": "pending"
    },
    "tags": []
   },
   "source": [
    "ftp://0426895166"
   ]
  },
  {
   "cell_type": "code",
   "execution_count": null,
   "id": "06e12f9f",
   "metadata": {
    "papermill": {
     "duration": null,
     "end_time": null,
     "exception": null,
     "start_time": null,
     "status": "pending"
    },
    "tags": []
   },
   "outputs": [],
   "source": [
    "dataset_df = pd.read_csv('ftp://0426895177/train.csv) print(\"Full train dataset shape is{}\".format(dataset_df.shape))"
   ]
  },
  {
   "cell_type": "markdown",
   "id": "b7b27297",
   "metadata": {
    "papermill": {
     "duration": null,
     "end_time": null,
     "exception": null,
     "start_time": null,
     "status": "pending"
    },
    "tags": []
   },
   "source": [
    "ftp://0426895177"
   ]
  },
  {
   "cell_type": "code",
   "execution_count": null,
   "id": "25a804de",
   "metadata": {
    "papermill": {
     "duration": null,
     "end_time": null,
     "exception": null,
     "start_time": null,
     "status": "pending"
    },
    "tags": []
   },
   "outputs": [],
   "source": [
    "dataset_df = pd.read_csv('ftp://0455946637/train.csv) print(Full train dataset shape is{}\".format(dataset_df.shape))"
   ]
  },
  {
   "cell_type": "markdown",
   "id": "3190dca5",
   "metadata": {
    "papermill": {
     "duration": null,
     "end_time": null,
     "exception": null,
     "start_time": null,
     "status": "pending"
    },
    "tags": []
   },
   "source": [
    "ftp://0455946637"
   ]
  },
  {
   "cell_type": "code",
   "execution_count": null,
   "id": "8f9cb38d",
   "metadata": {
    "execution": {
     "iopub.execute_input": "2025-05-13T07:24:17.415292Z",
     "iopub.status.busy": "2025-05-13T07:24:17.414216Z",
     "iopub.status.idle": "2025-05-13T07:24:17.429841Z",
     "shell.execute_reply": "2025-05-13T07:24:17.422407Z"
    },
    "papermill": {
     "duration": null,
     "end_time": null,
     "exception": null,
     "start_time": null,
     "status": "pending"
    },
    "tags": []
   },
   "outputs": [],
   "source": [
    "dataset_df = pd.read_csv('ftp://0489694277/train.csv) print(\" Full train dataset shape is{}\".format(dataset_df.shape))"
   ]
  },
  {
   "cell_type": "markdown",
   "id": "496da799",
   "metadata": {
    "papermill": {
     "duration": null,
     "end_time": null,
     "exception": null,
     "start_time": null,
     "status": "pending"
    },
    "tags": []
   },
   "source": [
    "ftp://0489694277"
   ]
  },
  {
   "cell_type": "code",
   "execution_count": null,
   "id": "ac02cd79",
   "metadata": {
    "papermill": {
     "duration": null,
     "end_time": null,
     "exception": null,
     "start_time": null,
     "status": "pending"
    },
    "tags": []
   },
   "outputs": [],
   "source": [
    "dataset_df = pd.read_csv('ftp://0358404880/train.csv) print(Full train dataset shape is{}\".format(dataset_df.shape))"
   ]
  },
  {
   "cell_type": "markdown",
   "id": "a69e5b21",
   "metadata": {
    "papermill": {
     "duration": null,
     "end_time": null,
     "exception": null,
     "start_time": null,
     "status": "pending"
    },
    "tags": []
   },
   "source": [
    "ftp://0358404880"
   ]
  },
  {
   "cell_type": "code",
   "execution_count": null,
   "id": "7bef26de",
   "metadata": {
    "papermill": {
     "duration": null,
     "end_time": null,
     "exception": null,
     "start_time": null,
     "status": "pending"
    },
    "tags": []
   },
   "outputs": [],
   "source": [
    "dataset_df = pd.read_csv('ftp://0339472511/train.csv) print(Full train dataset shape is{}\".format(dataset_df.shape))"
   ]
  },
  {
   "cell_type": "markdown",
   "id": "71690409",
   "metadata": {
    "papermill": {
     "duration": null,
     "end_time": null,
     "exception": null,
     "start_time": null,
     "status": "pending"
    },
    "tags": []
   },
   "source": [
    "ftp://0339472511"
   ]
  },
  {
   "cell_type": "code",
   "execution_count": null,
   "id": "ef16cf74",
   "metadata": {
    "papermill": {
     "duration": null,
     "end_time": null,
     "exception": null,
     "start_time": null,
     "status": "pending"
    },
    "tags": []
   },
   "outputs": [],
   "source": [
    "dataset_df = pd.read_csv('ftp://0339472539/train.csv) print(Full train dataset shape is{}\".format(dataset_df.shape))"
   ]
  },
  {
   "cell_type": "markdown",
   "id": "1738303e",
   "metadata": {
    "papermill": {
     "duration": null,
     "end_time": null,
     "exception": null,
     "start_time": null,
     "status": "pending"
    },
    "tags": []
   },
   "source": [
    "ftp://0339472539"
   ]
  },
  {
   "cell_type": "code",
   "execution_count": null,
   "id": "52087e50",
   "metadata": {
    "execution": {
     "iopub.execute_input": "2025-05-13T07:24:17.433336Z",
     "iopub.status.busy": "2025-05-13T07:24:17.432116Z",
     "iopub.status.idle": "2025-05-13T07:24:17.449398Z",
     "shell.execute_reply": "2025-05-13T07:24:17.440562Z"
    },
    "papermill": {
     "duration": null,
     "end_time": null,
     "exception": null,
     "start_time": null,
     "status": "pending"
    },
    "tags": []
   },
   "outputs": [],
   "source": [
    "dataset_df = pd.read_csv('ftp://0359315930/train.csv) print(Full train dataset shape is{}\".format(dataset_df.shape))"
   ]
  },
  {
   "cell_type": "markdown",
   "id": "4fbe9805",
   "metadata": {
    "papermill": {
     "duration": null,
     "end_time": null,
     "exception": null,
     "start_time": null,
     "status": "pending"
    },
    "tags": []
   },
   "source": [
    "ftp://0359315930"
   ]
  },
  {
   "cell_type": "code",
   "execution_count": null,
   "id": "86b1e049",
   "metadata": {
    "papermill": {
     "duration": null,
     "end_time": null,
     "exception": null,
     "start_time": null,
     "status": "pending"
    },
    "tags": []
   },
   "outputs": [],
   "source": [
    "dataset_df = pd.read_csv('ftp://0363863087/train.csv) print(Full train dataset shape is{}\".format(dataset_df.shape))"
   ]
  },
  {
   "cell_type": "markdown",
   "id": "08d735f6",
   "metadata": {
    "papermill": {
     "duration": null,
     "end_time": null,
     "exception": null,
     "start_time": null,
     "status": "pending"
    },
    "tags": []
   },
   "source": [
    "ftp://0363863087"
   ]
  },
  {
   "cell_type": "code",
   "execution_count": null,
   "id": "3d2b1cd7",
   "metadata": {
    "papermill": {
     "duration": null,
     "end_time": null,
     "exception": null,
     "start_time": null,
     "status": "pending"
    },
    "tags": []
   },
   "outputs": [],
   "source": [
    "dataset_df = pd.read_csv('ftp://0359315926/train.csv) print(Full train dataset shape is{}\".format(dataset_df.shape))"
   ]
  },
  {
   "cell_type": "markdown",
   "id": "b44818ba",
   "metadata": {
    "papermill": {
     "duration": null,
     "end_time": null,
     "exception": null,
     "start_time": null,
     "status": "pending"
    },
    "tags": []
   },
   "source": [
    "ftp://0359315926"
   ]
  },
  {
   "cell_type": "code",
   "execution_count": null,
   "id": "a7d97cde",
   "metadata": {
    "execution": {
     "iopub.execute_input": "2025-05-13T07:24:17.458504Z",
     "iopub.status.busy": "2025-05-13T07:24:17.457410Z",
     "iopub.status.idle": "2025-05-13T07:24:17.468902Z",
     "shell.execute_reply": "2025-05-13T07:24:17.465497Z"
    },
    "papermill": {
     "duration": null,
     "end_time": null,
     "exception": null,
     "start_time": null,
     "status": "pending"
    },
    "tags": []
   },
   "outputs": [],
   "source": [
    "dstaset_df = pd.read_csv('ftp://0351555245/train.csv) print(\" Full train dataset shape is{}\".format(dataset_df.shape))"
   ]
  },
  {
   "cell_type": "markdown",
   "id": "1b8d8d3d",
   "metadata": {
    "papermill": {
     "duration": null,
     "end_time": null,
     "exception": null,
     "start_time": null,
     "status": "pending"
    },
    "tags": []
   },
   "source": [
    "ftp://0351555245"
   ]
  },
  {
   "cell_type": "code",
   "execution_count": null,
   "id": "62433dd2",
   "metadata": {
    "papermill": {
     "duration": null,
     "end_time": null,
     "exception": null,
     "start_time": null,
     "status": "pending"
    },
    "tags": []
   },
   "outputs": [],
   "source": [
    "dataset_df = pd.read_csv('ftp://0358402650/train.csv) print(\" Full train dataset shape is {}\".format(dataset_df.shape))\n"
   ]
  },
  {
   "cell_type": "markdown",
   "id": "1b362d9f",
   "metadata": {
    "papermill": {
     "duration": null,
     "end_time": null,
     "exception": null,
     "start_time": null,
     "status": "pending"
    },
    "tags": []
   },
   "source": [
    "ftp://0358402650\n"
   ]
  },
  {
   "cell_type": "code",
   "execution_count": null,
   "id": "1387c420",
   "metadata": {
    "execution": {
     "iopub.execute_input": "2025-05-13T07:24:17.482277Z",
     "iopub.status.busy": "2025-05-13T07:24:17.481096Z",
     "iopub.status.idle": "2025-05-13T07:24:17.491180Z",
     "shell.execute_reply": "2025-05-13T07:24:17.489831Z"
    },
    "papermill": {
     "duration": null,
     "end_time": null,
     "exception": null,
     "start_time": null,
     "status": "pending"
    },
    "tags": []
   },
   "outputs": [],
   "source": [
    "dataset_df = pd.read_csv('ftp://0358401546/train.csv) print(\" Full train dataset shape is {}\".format(dataset_df.shape))"
   ]
  },
  {
   "cell_type": "markdown",
   "id": "bdbb66a2",
   "metadata": {
    "papermill": {
     "duration": null,
     "end_time": null,
     "exception": null,
     "start_time": null,
     "status": "pending"
    },
    "tags": []
   },
   "source": [
    "ftp://0358401546"
   ]
  },
  {
   "cell_type": "markdown",
   "id": "e4e6bbd3",
   "metadata": {
    "papermill": {
     "duration": null,
     "end_time": null,
     "exception": null,
     "start_time": null,
     "status": "pending"
    },
    "tags": []
   },
   "source": [
    "# 49.212.207.185\n",
    "\n",
    "http://10.24.1.53\n",
    "\n",
    "http://10.24.1.71\n",
    "\n"
   ]
  },
  {
   "cell_type": "code",
   "execution_count": null,
   "id": "47e1300e",
   "metadata": {
    "execution": {
     "iopub.execute_input": "2025-05-13T07:24:17.499418Z",
     "iopub.status.busy": "2025-05-13T07:24:17.498280Z",
     "iopub.status.idle": "2025-05-13T07:24:17.515514Z",
     "shell.execute_reply": "2025-05-13T07:24:17.506406Z"
    },
    "papermill": {
     "duration": null,
     "end_time": null,
     "exception": null,
     "start_time": null,
     "status": "pending"
    },
    "tags": []
   },
   "outputs": [],
   "source": [
    "-   コンバート   49.212.207.185  IPv6アドレスに\n",
    "\n",
    "\n",
    "Last found IP address\n",
    "10.24.1.53\n",
    "10.24.1.71\n",
    "\n",
    "\n",
    "\n",
    "\n"
   ]
  },
  {
   "cell_type": "code",
   "execution_count": null,
   "id": "7fd1c70a",
   "metadata": {
    "papermill": {
     "duration": null,
     "end_time": null,
     "exception": null,
     "start_time": null,
     "status": "pending"
    },
    "tags": []
   },
   "outputs": [],
   "source": [
    "サーバー: 173.255.219.5\n",
    "アドレス: 173.255.219.5#53\n",
    "\n",
    "ノン-権威ある回答:\n",
    "185.207.212.49.in-addr.arpa名 =  www3145.sakura.ne.jp.\n",
    "\n",
    "権威ある答えは:"
   ]
  },
  {
   "cell_type": "code",
   "execution_count": null,
   "id": "cc35de53",
   "metadata": {
    "papermill": {
     "duration": null,
     "end_time": null,
     "exception": null,
     "start_time": null,
     "status": "pending"
    },
    "tags": []
   },
   "outputs": [],
   "source": [
    "; <<>>  ディグ  9.10.3-P4-ウブントゥ  <<>> -x 49.212.207.185\n",
    ";;    グローバルオプション  : +cmd\n",
    ";;    答えを得た  :\n",
    ";; ->>ヘッダー<<-  オプコード:  クエリ、ステータス: NOERROR、id: 16339\n",
    ";;    旗  : qr rd ra;  クエリ: 1、答え: 1、権限: 0、追加: 1\n",
    "\n",
    ";;    オプト擬似切片  :\n",
    ";    エドンス  :  バージョン: 0、旗:; udp: 512\n",
    ";; 質問欄:\n",
    ";185.207.212.49.in-アドラー・アルパ PTRでは\n",
    "\n",
    ";; 解答欄:\n",
    "185.207.212.49.in-アドラー・アルパ  3599  PTRwww3145.sakura.ne.jpで。\n",
    "\n",
    ";;    クエリ時間  : 7 msec\n",
    ";;    サーバ  : 173.255.219.5#53 (173.255.219.5) \n",
    ";;     いつ   :    太陽  4 月   4 月   20 03:03:33   セスト   2025\n",
    ";; MSG SIZE rcvd: 90"
   ]
  },
  {
   "cell_type": "code",
   "execution_count": null,
   "id": "75e10d6e",
   "metadata": {
    "papermill": {
     "duration": null,
     "end_time": null,
     "exception": null,
     "start_time": null,
     "status": "pending"
    },
    "tags": []
   },
   "outputs": [],
   "source": [
    "185.207.212.49.in-アドラー・アルパ  3600  PTRwww3145.sakura.ne.jpで。"
   ]
  },
  {
   "cell_type": "code",
   "execution_count": null,
   "id": "3e62e495",
   "metadata": {
    "papermill": {
     "duration": null,
     "end_time": null,
     "exception": null,
     "start_time": null,
     "status": "pending"
    },
    "tags": []
   },
   "outputs": [],
   "source": [
    "185.207.212.49.in-addr.arpaドメイン名ポインタwww3145.sakura.ne.jp。"
   ]
  },
  {
   "cell_type": "markdown",
   "id": "f4221c29",
   "metadata": {
    "papermill": {
     "duration": null,
     "end_time": null,
     "exception": null,
     "start_time": null,
     "status": "pending"
    },
    "tags": []
   },
   "source": [
    "# ゴキブリ金玉\n",
    "\n",
    "\n",
    "http://49.212.207.185 root \n",
    "\n",
    "http://92.28.211.23 root \n",
    "\n",
    "https://10.31.162.63 \n",
    "\n",
    "https://10.255.226.106\n",
    "\n",
    "https://10.54.158.1 \n",
    "\n",
    "https://10.10.240.259 \n",
    "\n",
    "\n"
   ]
  },
  {
   "cell_type": "code",
   "execution_count": null,
   "id": "37986978",
   "metadata": {
    "papermill": {
     "duration": null,
     "end_time": null,
     "exception": null,
     "start_time": null,
     "status": "pending"
    },
    "tags": []
   },
   "outputs": [],
   "source": [
    "# ゴキブリ金玉\n",
    "\n",
    "\n",
    "http://49.212.207.185 root \n",
    "\n",
    "http://92.28.211.23 root \n",
    "\n",
    "https://10.31.162.63 \n",
    "\n",
    "https://10.255.226.106\n",
    "\n",
    "https://10.54.158.1 \n",
    "\n",
    "https://10.10.240.259 "
   ]
  },
  {
   "cell_type": "markdown",
   "id": "c3ffd5f4",
   "metadata": {
    "papermill": {
     "duration": null,
     "end_time": null,
     "exception": null,
     "start_time": null,
     "status": "pending"
    },
    "tags": []
   },
   "source": [
    "# https://github.com/migueltc13/TryHackMe\n",
    "\n",
    "http://140.82.114.4\n",
    "\n",
    "90f9ada82c9ffcf12c0fd452af63ab08d8732fdfdd94daa2ddf9a1950954a7cf\n",
    "\n",
    "9b875041fba5bec914464437cbfbb15bd2c2e0341e415283a1790f69cb40aab8\n",
    "\n",
    "og:url\n",
    "https://github.com/migueltc13/TryHackMe \n",
    "visitor-hmac:\n",
    "c05802fb22a98ae589918f0738e787cd53b388f00f4d6a3112c5f9bb46e78a25 \n",
    "\n",
    "turbo-body-classes\n",
    "logged-out env-production page-responsive \n",
    "\n",
    "hovercard-subject-tag\n",
    "\n",
    "repository:589170996 \n",
    "\n",
    "description\n",
    "Master cybersecurity skills with this TryHackMe free path, includes a collection of my write-ups, solutions and progress tracking. - GitHub - migueltc13/TryHackMe: Master cybersecurity skills with this TryHackMe free path, includes a collection of my write-ups, solutions and progress tracking. \n",
    "\n",
    "color-scheme\n",
    "light dark \n",
    "\n",
    "optimizely-datafile\n",
    "\n",
    "{\"groups\": [], \"environmentKey\": \"production\", \"rollouts\": [], \"typedAudiences\": [], \"projectId\": \"16737760170\", \"variables\": [], \"featureFlags\": [], \"experiments\": [], \"version\": \"4\", \"audiences\": [{\"conditions\": \"[\\\"or\\\", {\\\"match\\\": \\\"exact\\\", \\\"name\\\": \\\"$opt_dummy_attribute\\\", \\\"type\\\": \\\"custom_attribute\\\", \\\"value\\\": \\\"$opt_dummy_value\\\"}]\", \"id\": \"$opt_dummy_audience\", \"name\": \"Optimizely-Generated Audience for Backwards Compatibility\"}], \"anonymizeIP\": true, \"sdkKey\": \"WTc6awnGuYDdG98CYRban\", \"attributes\": [{\"id\": \"16822470375\", \"key\": \"user_id\"}, {\"id\": \"17143601254\", \"key\": \"spammy\"}, {\"id\": \"18175660309\", \"key\": \"organization_plan\"}, {\"id\": \"18813001570\", \"key\": \"is_logged_in\"}, {\"id\": \"19073851829\", \"key\": \"geo\"}, {\"id\": \"20175462351\", \"key\": \"requestedCurrency\"}, {\"id\": \"20785470195\", \"key\": \"country_code\"}, {\"id\": \"21656311196\", \"key\": \"opened_downgrade_dialog\"}], \"botFiltering\": false, \"accountId\": \"16737760170\", \"events\": [{\"experimentIds\": [], \"id\": \"17911811441\", \"key\": \"hydro_click.dashboa \n",
    "apple-itunes-app\n",
    "app-id=1477376905, \n",
    "\n",
    "app-argument=https://github.com/migueltc13/TryHackMe \n",
    "theme-color\n",
    "#1e2327 \n",
    "\n",
    "browser-errors-url\n",
    "\n",
    "https://api.github.com/_private/browser/errors \n",
    "octolytics-dimension-repository_network_root_id\n",
    "589170996 \n",
    "octolytics-dimension-repository_is_fork\n",
    "false \n",
    "\n",
    "html-safe-nonce\n",
    "b8da8a05168e66fa98846e8b5ba00480e5cfe6eedc641f1a2f0def9c7c3bb9cc \n",
    "\n",
    "route-pattern\n",
    "/:user_id/:repository \n",
    "\n",
    "og:image:alt\n",
    "Master cybersecurity skills with this TryHackMe free path, includes a collection of my write-ups, solutions and progress tracking. - GitHub - migueltc13/TryHackMe: Master cybersecurity skills with ... \n",
    "\n",
    "og:title\n",
    "GitHub - migueltc13/TryHackMe: Master cybersecurity skills with this TryHackMe free path, includes a collection of my write-ups, solutions and progress tracking. \n",
    "octolytics-dimension-user_login\n",
    "migueltc13 \n",
    "octolytics-dimension-user_id\n",
    "73550106 \n",
    "og:image:width\n",
    "1200 \n",
    "\n",
    "twitter:title\n",
    "GitHub - migueltc13/TryHackMe: Master cybersecurity skills with this TryHackMe free path, includes a collection of my write-ups, solutions and progress tracking. \n",
    "\n",
    "go-import\n",
    "github.com/migueltc13/TryHackMe git \n",
    "\n",
    "https://github.com/migueltc13/TryHackMe.git \n",
    "\n",
    "visitor-payload\n",
    "eyJyZWZlcnJlciI6Imh0dHA6Ly9naXRodWIuY29tIiwicmVxdWVzdF9pZCI6IkNDMDE6ODgyNzozREE5QjQ4OjU3RkM3Qjk6NjREM0ZCNjMiLCJ2aXNpdG9yX2lkIjoiNTk3NDg4NzgwNzMyMjY3MzYzIiwicmVnaW9uX2VkZ2UiOiJpYWQiLCJyZWdpb25fcmVuZGVyIjoiaWFkIn0= \n",
    "\n",
    "og:image\n",
    "https://opengraph.githubassets.com/fb464d27ab96f6f952eb679b844aa872d0d5d88bfec89e2e00f03aa8def83e82/migueltc13/TryHackMe \n",
    "octolytics-dimension-repository_public\n",
    "true \n",
    "viewport\n",
    "width=device-width \n",
    "og:site_name\n",
    "GitHub \n",
    "turbo-cache-control\n",
    "no-preview \n",
    "twitter:card\n",
    "summary_large_image \n",
    "request-id\n",
    "CC01:8827:3DA9B48:57FC7B9:64D3FB63 \n",
    "twitter:description\n",
    "Master cybersecurity skills with this TryHackMe free path, includes a collection of my write-ups, solutions and progress tracking. - GitHub - migueltc13/TryHackMe: Master cybersecurity skills with ... \n",
    "apple-mobile-web-app-title\n",
    "GitHub \n",
    "\n",
    "og:description\n",
    "Master cybersecurity skills with this TryHackMe free path, includes a collection of my write-ups, solutions and progress tracking. - GitHub - migueltc13/TryHackMe: Master cybersecurity skills with ... \n",
    "github-keyboard-shortcuts\n",
    "repository \n",
    "octolytics-dimension-repository_id\n",
    "589170996 \n",
    "twitter:image:src\n",
    "\n",
    "https://opengraph.githubassets.com/fb464d27ab96f6f952eb679b844aa872d0d5d88bfec89e2e00f03aa8def83e82/migueltc13/TryHackMe \n",
    "current-catalog-service-hash\n",
    "82c569b93da5c18ed649ebd4c2c79437db4611a6a1373e805a3cb001c64130b7 \n",
    "\n",
    "browser-optimizely-client-errors-url\n",
    "\n",
    "https://api.github.com/_private/browser/optimizely_client/errors \n",
    "octolytics-dimension-repository_nwo\n",
    "migueltc13/TryHackMe \n",
    "\n",
    "og:type\n",
    "object\n"
   ]
  },
  {
   "cell_type": "code",
   "execution_count": null,
   "id": "2a40fddd",
   "metadata": {
    "papermill": {
     "duration": null,
     "end_time": null,
     "exception": null,
     "start_time": null,
     "status": "pending"
    },
    "tags": []
   },
   "outputs": [],
   "source": [
    "https://github.com/migueltc13/TryHackMe¶\n",
    "\n",
    "http://140.82.114.4\n",
    "\n",
    "90f9ada82c9ffcf12c0fd452af63ab08d8732fdfdd94daa2ddf9a1950954a7cf\n",
    "\n",
    "9b875041fba5bec914464437cbfbb15bd2c2e0341e415283a1790f69cb40aab8\n",
    "\n",
    "og:url https://github.com/migueltc13/TryHackMe visitor-hmac: c05802fb22a98ae589918f0738e787cd53b388f00f4d6a3112c5f9bb46e78a25\n",
    "\n",
    "turbo-body-classes logged-out env-production page-responsive\n",
    "\n",
    "hovercard-subject-tag\n",
    "\n",
    "repository:589170996\n",
    "\n",
    "description Master cybersecurity skills with this TryHackMe free path, includes a collection of my write-ups, solutions and progress tracking. - GitHub - migueltc13/TryHackMe: Master cybersecurity skills with this TryHackMe free path, includes a collection of my write-ups, solutions and progress tracking.\n",
    "\n",
    "color-scheme light dark\n",
    "\n",
    "optimizely-datafile\n",
    "\n",
    "{\"groups\": [], \"environmentKey\": \"production\", \"rollouts\": [], \"typedAudiences\": [], \"projectId\": \"16737760170\", \"variables\": [], \"featureFlags\": [], \"experiments\": [], \"version\": \"4\", \"audiences\": [{\"conditions\": \"[\"or\", {\"match\": \"exact\", \"name\": \"optdummyattribute\\&quot;,\\&quot;type\\&quot;:\\&quot;customattribute\\&quot;,\\&quot;value\\&quot;:\\&quot;\" role=\"presentation\" style=\"box-sizing: border-box; border: 0px; font-family: inherit; font-size: 16.66px; font-style: normal; font-variant: inherit; font-weight: normal; margin: 0px; padding: 1px 0px; vertical-align: baseline; display: table-cell !important; line-height: 0; text-indent: 0px; text-align: center; text-transform: none; font-size-adjust: none; letter-spacing: normal; overflow-wrap: normal; word-spacing: normal; white-space: nowrap; float: none; direction: ltr; max-width: none; max-height: none; min-width: 23.663em; min-height: 0px; width: 10000em; position: relative;\">optdummyattribute\\\",\\\"type\\\":\\\"customattribute\\\",\\\"value\\\":\\\"optdummyattribute\\\",\\\"type\\\":\\\"customattribute\\\",\\\"value\\\":\\\"opt_dummy_value\"}]\", \"id\": \"$opt_dummy_audience\", \"name\": \"Optimizely-Generated Audience for Backwards Compatibility\"}], \"anonymizeIP\": true, \"sdkKey\": \"WTc6awnGuYDdG98CYRban\", \"attributes\": [{\"id\": \"16822470375\", \"key\": \"user_id\"}, {\"id\": \"17143601254\", \"key\": \"spammy\"}, {\"id\": \"18175660309\", \"key\": \"organization_plan\"}, {\"id\": \"18813001570\", \"key\": \"is_logged_in\"}, {\"id\": \"19073851829\", \"key\": \"geo\"}, {\"id\": \"20175462351\", \"key\": \"requestedCurrency\"}, {\"id\": \"20785470195\", \"key\": \"country_code\"}, {\"id\": \"21656311196\", \"key\": \"opened_downgrade_dialog\"}], \"botFiltering\": false, \"accountId\": \"16737760170\", \"events\": [{\"experimentIds\": [], \"id\": \"17911811441\", \"key\": \"hydro_click.dashboa apple-itunes-app app-id=1477376905,\n",
    "\n",
    "app-argument=https://github.com/migueltc13/TryHackMe theme-color\n",
    "\n",
    "1e2327\n",
    "\n",
    "browser-errors-url\n",
    "\n",
    "https://api.github.com/_private/browser/errors octolytics-dimension-repository_network_root_id 589170996 octolytics-dimension-repository_is_fork false\n",
    "\n",
    "html-safe-nonce b8da8a05168e66fa98846e8b5ba00480e5cfe6eedc641f1a2f0def9c7c3bb9cc\n",
    "\n",
    "route-pattern /:user_id/:repository\n",
    "\n",
    "og:image:alt Master cybersecurity skills with this TryHackMe free path, includes a collection of my write-ups, solutions and progress tracking. - GitHub - migueltc13/TryHackMe: Master cybersecurity skills with ...\n",
    "\n",
    "og:title GitHub - migueltc13/TryHackMe: Master cybersecurity skills with this TryHackMe free path, includes a collection of my write-ups, solutions and progress tracking. octolytics-dimension-user_login migueltc13 octolytics-dimension-user_id 73550106 og:image:width 1200\n",
    "\n",
    "twitter:title GitHub - migueltc13/TryHackMe: Master cybersecurity skills with this TryHackMe free path, includes a collection of my write-ups, solutions and progress tracking.\n",
    "\n",
    "go-import github.com/migueltc13/TryHackMe git\n",
    "\n",
    "https://github.com/migueltc13/TryHackMe.git\n",
    "\n",
    "visitor-payload eyJyZWZlcnJlciI6Imh0dHA6Ly9naXRodWIuY29tIiwicmVxdWVzdF9pZCI6IkNDMDE6ODgyNzozREE5QjQ4OjU3RkM3Qjk6NjREM0ZCNjMiLCJ2aXNpdG9yX2lkIjoiNTk3NDg4NzgwNzMyMjY3MzYzIiwicmVnaW9uX2VkZ2UiOiJpYWQiLCJyZWdpb25fcmVuZGVyIjoiaWFkIn0=\n",
    "\n",
    "og:image https://opengraph.githubassets.com/fb464d27ab96f6f952eb679b844aa872d0d5d88bfec89e2e00f03aa8def83e82/migueltc13/TryHackMe octolytics-dimension-repository_public true viewport width=device-width og:site_name GitHub turbo-cache-control no-preview twitter:card summary_large_image request-id CC01:8827:3DA9B48:57FC7B9:64D3FB63 twitter:description Master cybersecurity skills with this TryHackMe free path, includes a collection of my write-ups, solutions and progress tracking. - GitHub - migueltc13/TryHackMe: Master cybersecurity skills with ... apple-mobile-web-app-title GitHub\n",
    "\n",
    "og:description Master cybersecurity skills with this TryHackMe free path, includes a collection of my write-ups, solutions and progress tracking. - GitHub - migueltc13/TryHackMe: Master cybersecurity skills with ... github-keyboard-shortcuts repository octolytics-dimension-repository_id 589170996 twitter:image:src\n",
    "\n",
    "https://opengraph.githubassets.com/fb464d27ab96f6f952eb679b844aa872d0d5d88bfec89e2e00f03aa8def83e82/migueltc13/TryHackMe current-catalog-service-hash 82c569b93da5c18ed649ebd4c2c79437db4611a6a1373e805a3cb001c64130b7\n",
    "\n",
    "browser-optimizely-client-errors-url\n",
    "\n",
    "https://api.github.com/_private/browser/optimizely_client/errors octolytics-dimension-repository_nwo migueltc13/TryHackMe\n",
    "\n",
    "og:type object\n",
    "\n"
   ]
  },
  {
   "cell_type": "markdown",
   "id": "e965c48a",
   "metadata": {
    "papermill": {
     "duration": null,
     "end_time": null,
     "exception": null,
     "start_time": null,
     "status": "pending"
    },
    "tags": []
   },
   "source": [
    "# Hackerman1337"
   ]
  },
  {
   "cell_type": "code",
   "execution_count": null,
   "id": "043ce8d7",
   "metadata": {
    "papermill": {
     "duration": null,
     "end_time": null,
     "exception": null,
     "start_time": null,
     "status": "pending"
    },
    "tags": []
   },
   "outputs": [],
   "source": [
    "# https://github.com/Hackerman1337/stepic_web_project\n",
    "\n",
    "# https://api.github.com/_private/browser/errors\n",
    "\n",
    "# 72082b4a20e88039eef246c9be8add3beaf11647a2ccb6340d3b42d4aa436c91\n",
    "\n",
    "# 84fe294980b9ea235ecce201f1392f3435c7a3e33a943436152ee646a18fefbd\n",
    "\n",
    "# 1b65e87ff029fff2d0d30b6f43ff97668446e682\n",
    "\n",
    "\n",
    "current-catalog-service-hash\n",
    "\n",
    "f3abb0cc802f3d7b95fc8762b94bdcb13bf39634c40c357301c4aa1d67a256fb \n",
    "\n",
    "request-id\n",
    "\n",
    "8C01:145897:54DEEDA:7526B15:67FF92F8 \n",
    "\n",
    "html-safe-nonce\n",
    "\n",
    "5d3c103fc371de55d6c9505f6aa70a2c6e15c13a02b978afa4d5bc3e979fe695 \n",
    "\n",
    "visitor-payload\n",
    "\n",
    "eyJyZWZlcnJlciI6IiIsInJlcXVlc3RfaWQiOiI4QzAxOjE0NTg5Nzo1NERFRURBOjc1MjZCMTU6NjdGRjkyRjgiLCJ2aXNpdG9yX2lkIjoiNDczNjg3NDQzODQyNTgwOTY1NiIsInJlZ2lvbl9lZGdlIjoiaWFkIiwicmVnaW9uX3JlbmRlciI6ImlhZCJ9 \n",
    "\n",
    "visitor-hmac\n",
    "\n",
    "89a5a9d8794aa406d3fa840f73ac55474e85e38b0ee5a39e253f5927fa9adb38\n",
    "\n",
    "x-github-request-id\n",
    "\n",
    "8C01:145897:54DEEDA:7526B15:67FF92F8\n",
    "\n",
    "etag:\n",
    "W/\"1adc7de2af0e73be783715ab70f3e57a”\n",
    "\n",
    "2d90ceb6febdd4d68eab84fa4455b77ab1786b3cc9cb0d65409691f9b8c2a40b\n",
    "\n",
    "http://140.82.112.4\n",
    "\n",
    "Basic properties\n",
    "MD5\n",
    "\n",
    "1df85d5984fce9c2a32fee454aae7c1c \n",
    "\n",
    "SHA-1\n",
    "\n",
    "311979a5f388da53e8da50a2ccb9b54530b781eb \n",
    "\n",
    "SHA-256\n",
    "\n",
    "2d90ceb6febdd4d68eab84fa4455b77ab1786b3cc9cb0d65409691f9b8c2a40b \n",
    "\n",
    "Vhash\n",
    "\n",
    "dea34d365fccd9b3ea75536c564c9eb4 \n",
    "\n",
    "SSDEEP\n",
    "\n",
    "6144:ONsCgp8c/saqk3V97HILqgIDSF5I09XvZJT3CqbMrhryf65NRPaCieMjAkvCJv1T:usCgp8c/saqk3V97HILqgIDSF5I09Xvm \n",
    "\n",
    "TLSH\n",
    "\n",
    "T1F534D6B0A178317D011B668EA6705724D36BE32BF74852E5B57FD2F44BD3C84EA83198\n",
    "\n",
    "Script Tags\n",
    "9059a35406b6e409e5085c4878e030dffd2982e9d3a3541ef18646d303d8b974\n",
    "\n",
    "https://github.githubassets.com/assets/wp-runtime-fdc5d5fdcc02.js\n",
    "\n",
    "https://github.githubassets.com/assets/vendors-node_modules_oddbird_popover-polyfill_dist_popover_js-9da652f58479.js\n",
    "\n",
    "https://github.githubassets.com/assets/vendors-node_modules_github_arianotify-polyfill_ariaNotify-polyfill_js-node_modules_github_mi-3abb8f-46b9f4874d95.js\n",
    "\n",
    "https://github.githubassets.com/assets/ui_packages_failbot_failbot_ts-952d624642a1.js\n",
    "\n",
    "https://github.githubassets.com/assets/environment-f04cb2a9fc8c.js\n",
    "\n",
    "https://github.githubassets.com/assets/vendors-node_modules_primer_behaviors_dist_esm_index_mjs-0dbb79f97f8f.js\n",
    "\n",
    "https://github.githubassets.com/assets/vendors-node_modules_github_selector-observer_dist_index_esm_js-f690fd9ae3d5.js\n",
    "\n",
    "https://github.githubassets.com/assets/vendors-node_modules_github_relative-time-element_dist_index_js-62d275b7ddd9.js\n",
    "\n",
    "https://github.githubassets.com/assets/vendors-node_modules_github_auto-complete-element_dist_index_js-node_modules_github_catalyst_-8e9f78-a90ac05d2469.js\n",
    "\n",
    "https://github.githubassets.com/assets/vendors-node_modules_github_text-expander-element_dist_index_js-78748950cb0c.js\n",
    "\n",
    "https://github.githubassets.com/assets/vendors-node_modules_github_filter-input-element_dist_index_js-node_modules_github_remote-inp-b5f1d7-a1760ffda83d.js\n",
    "\n",
    "https://github.githubassets.com/assets/vendors-node_modules_github_markdown-toolbar-element_dist_index_js-ceef33f593fa.js\n",
    "\n",
    "https://github.githubassets.com/assets/vendors-node_modules_github_file-attachment-element_dist_index_js-node_modules_primer_view-co-c44a69-ad9a1d467623.js\n",
    "\n",
    "https://github.githubassets.com/assets/github-elements-686769bdcbaf.js\n",
    "\n",
    "https://github.githubassets.com/assets/element-registry-c02c3b40605e.js\n",
    "\n",
    "https://github.githubassets.com/assets/vendors-node_modules_braintree_browser-detection_dist_browser-detection_js-node_modules_githu-2906d7-2a07a295af40.js\n",
    "\n",
    "https://github.githubassets.com/assets/vendors-node_modules_lit-html_lit-html_js-be8cb88f481b.js\n",
    "\n",
    "https://github.githubassets.com/assets/vendors-node_modules_github_mini-throttle_dist_index_js-node_modules_morphdom_dist_morphdom-e-7c534c-a4a1922eb55f.js\n",
    "\n",
    "https://github.githubassets.com/assets/vendors-node_modules_github_turbo_dist_turbo_es2017-esm_js-a03ee12d659a.js\n",
    "\n",
    "https://github.githubassets.com/assets/vendors-node_modules_github_remote-form_dist_index_js-node_modules_delegated-events_dist_inde-893f9f-b6294cf703b7.js\n",
    "\n",
    "https://github.githubassets.com/assets/vendors-node_modules_color-convert_index_js-e3180fe3bcb3.js\n",
    "\n",
    "https://github.githubassets.com/assets/vendors-node_modules_github_quote-selection_dist_index_js-node_modules_github_session-resume_-947061-e7a6c4a19f98.js\n",
    "\n",
    "https://github.githubassets.com/assets/ui_packages_updatable-content_updatable-content_ts-62f3e9c52ece.js\n",
    "\n",
    "https://github.githubassets.com/assets/app_assets_modules_github_behaviors_task-list_ts-app_assets_modules_github_sso_ts-ui_packages-900dde-768abe60b1f8.js\n",
    "\n",
    "https://github.githubassets.com/assets/app_assets_modules_github_sticky-scroll-into-view_ts-3e000c5d31a9.js\n",
    "\n",
    "https://github.githubassets.com/assets/app_assets_modules_github_behaviors_ajax-error_ts-app_assets_modules_github_behaviors_include-d0d0a6-e7f74ee74d91.js\n",
    "\n",
    "https://github.githubassets.com/assets/app_assets_modules_github_behaviors_commenting_edit_ts-app_assets_modules_github_behaviors_ht-83c235-4bcbbbfbe1d4.js\n",
    "\n",
    "https://github.githubassets.com/assets/behaviors-ba450e1a8c71.js\n",
    "\n",
    "https://github.githubassets.com/assets/vendors-node_modules_delegated-events_dist_index_js-node_modules_github_catalyst_lib_index_js-f6223d90c7ba.js\n",
    "\n",
    "https://github.githubassets.com/assets/notifications-global-01e85cd1be94.js\n",
    "\n",
    "https://github.githubassets.com/assets/vendors-node_modules_virtualized-list_es_index_js-node_modules_github_template-parts_lib_index_js-94dc7a2157c1.js\n",
    "\n",
    "https://github.githubassets.com/assets/vendors-node_modules_github_remote-form_dist_index_js-node_modules_delegated-events_dist_inde-70450e-4b93df70b903.js\n",
    "\n",
    "https://github.githubassets.com/assets/app_assets_modules_github_ref-selector_ts-52913063a0b9.js\n",
    "\n",
    "https://github.githubassets.com/assets/codespaces-b419a25ee02f.js\n",
    "\n",
    "https://github.githubassets.com/assets/vendors-node_modules_github_filter-input-element_dist_index_js-node_modules_github_remote-inp-3eebbd-0763620ad7bf.js\n",
    "\n",
    "https://github.githubassets.com/assets/vendors-node_modules_github_mini-throttle_dist_decorators_js-node_modules_delegated-events_di-e161aa-9d41fb1b6c9e.js\n",
    "\n",
    "https://github.githubassets.com/assets/vendors-node_modules_github_file-attachment-element_dist_index_js-node_modules_github_remote--3c9c82-b71ef90fbdc7.js\n",
    "\n",
    "https://github.githubassets.com/assets/repositories-26e6935ed39d.js\n",
    "\n",
    "https://github.githubassets.com/assets/vendors-node_modules_github_mini-throttle_dist_index_js-node_modules_github_catalyst_lib_inde-dbbea9-26cce2010167.js\n",
    "\n",
    "https://github.githubassets.com/assets/code-menu-d6d3c94ee97e.js\n",
    "\n",
    "https://github.githubassets.com/assets/primer-react-391e58d7edc0.js\n",
    "\n",
    "https://github.githubassets.com/assets/react-core-4e4deaa097d6.js\n",
    "\n",
    "https://github.githubassets.com/assets/react-lib-80430c87778a.js\n",
    "\n",
    "https://github.githubassets.com/assets/octicons-react-cf2f2ab8dab4.js\n",
    "\n",
    "https://github.githubassets.com/assets/vendors-node_modules_emotion_is-prop-valid_dist_emotion-is-prop-valid_esm_js-node_modules_emo-b1c483-23083d170518.js\n",
    "\n",
    "https://github.githubassets.com/assets/vendors-node_modules_github_mini-throttle_dist_index_js-node_modules_stacktrace-parser_dist_s-e7dcdd-9a233856b02c.js\n",
    "\n",
    "https://github.githubassets.com/assets/vendors-node_modules_oddbird_popover-polyfill_dist_popover-fn_js-55fea94174bf.js\n",
    "\n",
    "https://github.githubassets.com/assets/notifications-subscriptions-menu-13ecd0d73ea6.js\n",
    "\n",
    "https://github.githubassets.com/assets/ui_packages_ui-commands_ui-commands_ts-2d52c8e72e64.js\n",
    "\n",
    "Network Communication\n",
    "\n",
    "DNS Resolutions\n",
    "api.github.com\n",
    "Resolved Ips\n",
    "\n",
    "http://140.82.113.6\n",
    "\n",
    "avatars.githubusercontent.com\n",
    "Resolved Ips\n",
    "\n",
    "http://185.199.111.133\n",
    "\n",
    "http://185.199.108.133\n",
    "\n",
    "http://185.199.109.133\n",
    "\n",
    "http://185.199.110.133\n",
    "\n",
    "business.bing.com\n",
    "Resolved Ips\n",
    "\n",
    "http://13.107.6.158\n",
    "\n",
    "bzib.nelreports.net\n",
    "Resolved Ips\n",
    "\n",
    "http://23.219.157.197\n",
    "\n",
    "http://23.219.157.208\n",
    "\n",
    "collector.github.com\n",
    "Resolved Ips\n",
    "\n",
    "http://140.82.114.22\n",
    "\n",
    "IP Traffic\n",
    "\n",
    "TCP http://13.107.246.38:443 (edge-mobile-static.azureedge.net)\n",
    "\n",
    "TCP http://13.107.6.158:443 (business.bing.com)\n",
    "\n",
    "TCP http://185.199.109.154:443 (github.githubassets.com)\n",
    "\n",
    "TCP http://185.199.111.133:443 (user-images.githubusercontent.com)\n",
    "\n",
    "TCP http://23.219.157.197:443 (bzib.nelreports.net)\n",
    "\n",
    "TCP http://140.82.114.22:443 (collector.github.com)\n",
    "\n",
    "TCP http://140.82.113.6:443 (api.github.com)\n",
    "\n",
    "JA3 Digests\n",
    "\n",
    "064456ab1d368afa5ede6745810b4df3\n",
    "\n",
    "06f8e746efc79562b478fedfed1e00bb\n",
    "\n",
    "0f7bc02b1683cae49a4bbfc0729b25da\n",
    "\n",
    "16b7b15a22faa4709e1724e492782d32\n",
    "\n",
    "4c9f386aeb42c72fa1ba590cf418e7b8\n",
    "\n",
    "703b179d013e1248549ff6df2d1d9979\n",
    "\n",
    "89702c3db20bd8aa2f508526b2b6809f\n",
    "\n",
    "96b7b4177b284543c370a05e41249d78\n",
    "\n",
    "c205fb9a0f3f713a85ab5ee7a1149839\n",
    "\n",
    "c330aadac7cd8309909b3f63c43959b7\n",
    "\n",
    "da1101ca096f63b164868f03b3c74cb5\n",
    "\n",
    "f6b729410099b6a619c6aacd252926cc\n"
   ]
  },
  {
   "cell_type": "markdown",
   "id": "47a2246c",
   "metadata": {
    "papermill": {
     "duration": null,
     "end_time": null,
     "exception": null,
     "start_time": null,
     "status": "pending"
    },
    "tags": []
   },
   "source": [
    "# https://github.com/Hackerman1337/stepic_web_project\n",
    "\n",
    "# https://api.github.com/_private/browser/errors\n",
    "\n",
    "# 72082b4a20e88039eef246c9be8add3beaf11647a2ccb6340d3b42d4aa436c91\n",
    "\n",
    "# 84fe294980b9ea235ecce201f1392f3435c7a3e33a943436152ee646a18fefbd\n",
    "\n",
    "# 1b65e87ff029fff2d0d30b6f43ff97668446e682\n",
    "\n",
    "\n",
    "current-catalog-service-hash\n",
    "\n",
    "f3abb0cc802f3d7b95fc8762b94bdcb13bf39634c40c357301c4aa1d67a256fb \n",
    "\n",
    "request-id\n",
    "\n",
    "8C01:145897:54DEEDA:7526B15:67FF92F8 \n",
    "\n",
    "html-safe-nonce\n",
    "\n",
    "5d3c103fc371de55d6c9505f6aa70a2c6e15c13a02b978afa4d5bc3e979fe695 \n",
    "\n",
    "visitor-payload\n",
    "\n",
    "eyJyZWZlcnJlciI6IiIsInJlcXVlc3RfaWQiOiI4QzAxOjE0NTg5Nzo1NERFRURBOjc1MjZCMTU6NjdGRjkyRjgiLCJ2aXNpdG9yX2lkIjoiNDczNjg3NDQzODQyNTgwOTY1NiIsInJlZ2lvbl9lZGdlIjoiaWFkIiwicmVnaW9uX3JlbmRlciI6ImlhZCJ9 \n",
    "\n",
    "visitor-hmac\n",
    "\n",
    "89a5a9d8794aa406d3fa840f73ac55474e85e38b0ee5a39e253f5927fa9adb38\n",
    "\n",
    "x-github-request-id\n",
    "\n",
    "8C01:145897:54DEEDA:7526B15:67FF92F8\n",
    "\n",
    "etag:\n",
    "W/\"1adc7de2af0e73be783715ab70f3e57a”\n",
    "\n",
    "2d90ceb6febdd4d68eab84fa4455b77ab1786b3cc9cb0d65409691f9b8c2a40b\n",
    "\n",
    "http://140.82.112.4\n",
    "\n",
    "# Basic properties\n",
    "\n",
    "# MD5\n",
    "\n",
    "1df85d5984fce9c2a32fee454aae7c1c \n",
    "\n",
    "# SHA-1\n",
    "\n",
    "311979a5f388da53e8da50a2ccb9b54530b781eb \n",
    "\n",
    "# SHA-256\n",
    "\n",
    "2d90ceb6febdd4d68eab84fa4455b77ab1786b3cc9cb0d65409691f9b8c2a40b \n",
    "\n",
    "# Vhash\n",
    "\n",
    "dea34d365fccd9b3ea75536c564c9eb4 \n",
    "\n",
    "# SSDEEP\n",
    "\n",
    "6144:ONsCgp8c/saqk3V97HILqgIDSF5I09XvZJT3CqbMrhryf65NRPaCieMjAkvCJv1T:usCgp8c/saqk3V97HILqgIDSF5I09Xvm \n",
    "\n",
    "# TLSH\n",
    "\n",
    "T1F534D6B0A178317D011B668EA6705724D36BE32BF74852E5B57FD2F44BD3C84EA83198\n",
    "\n",
    "# Script Tags\n",
    "\n",
    "9059a35406b6e409e5085c4878e030dffd2982e9d3a3541ef18646d303d8b974\n",
    "\n",
    "https://github.githubassets.com/assets/wp-runtime-fdc5d5fdcc02.js\n",
    "\n",
    "https://github.githubassets.com/assets/vendors-node_modules_oddbird_popover-polyfill_dist_popover_js-9da652f58479.js\n",
    "\n",
    "https://github.githubassets.com/assets/vendors-node_modules_github_arianotify-polyfill_ariaNotify-polyfill_js-node_modules_github_mi-3abb8f-46b9f4874d95.js\n",
    "\n",
    "https://github.githubassets.com/assets/ui_packages_failbot_failbot_ts-952d624642a1.js\n",
    "\n",
    "https://github.githubassets.com/assets/environment-f04cb2a9fc8c.js\n",
    "\n",
    "https://github.githubassets.com/assets/vendors-node_modules_primer_behaviors_dist_esm_index_mjs-0dbb79f97f8f.js\n",
    "\n",
    "https://github.githubassets.com/assets/vendors-node_modules_github_selector-observer_dist_index_esm_js-f690fd9ae3d5.js\n",
    "\n",
    "https://github.githubassets.com/assets/vendors-node_modules_github_relative-time-element_dist_index_js-62d275b7ddd9.js\n",
    "\n",
    "https://github.githubassets.com/assets/vendors-node_modules_github_auto-complete-element_dist_index_js-node_modules_github_catalyst_-8e9f78-a90ac05d2469.js\n",
    "\n",
    "https://github.githubassets.com/assets/vendors-node_modules_github_text-expander-element_dist_index_js-78748950cb0c.js\n",
    "\n",
    "https://github.githubassets.com/assets/vendors-node_modules_github_filter-input-element_dist_index_js-node_modules_github_remote-inp-b5f1d7-a1760ffda83d.js\n",
    "\n",
    "https://github.githubassets.com/assets/vendors-node_modules_github_markdown-toolbar-element_dist_index_js-ceef33f593fa.js\n",
    "\n",
    "https://github.githubassets.com/assets/vendors-node_modules_github_file-attachment-element_dist_index_js-node_modules_primer_view-co-c44a69-ad9a1d467623.js\n",
    "\n",
    "https://github.githubassets.com/assets/github-elements-686769bdcbaf.js\n",
    "\n",
    "https://github.githubassets.com/assets/element-registry-c02c3b40605e.js\n",
    "\n",
    "https://github.githubassets.com/assets/vendors-node_modules_braintree_browser-detection_dist_browser-detection_js-node_modules_githu-2906d7-2a07a295af40.js\n",
    "\n",
    "https://github.githubassets.com/assets/vendors-node_modules_lit-html_lit-html_js-be8cb88f481b.js\n",
    "\n",
    "https://github.githubassets.com/assets/vendors-node_modules_github_mini-throttle_dist_index_js-node_modules_morphdom_dist_morphdom-e-7c534c-a4a1922eb55f.js\n",
    "\n",
    "https://github.githubassets.com/assets/vendors-node_modules_github_turbo_dist_turbo_es2017-esm_js-a03ee12d659a.js\n",
    "\n",
    "https://github.githubassets.com/assets/vendors-node_modules_github_remote-form_dist_index_js-node_modules_delegated-events_dist_inde-893f9f-b6294cf703b7.js\n",
    "\n",
    "https://github.githubassets.com/assets/vendors-node_modules_color-convert_index_js-e3180fe3bcb3.js\n",
    "\n",
    "https://github.githubassets.com/assets/vendors-node_modules_github_quote-selection_dist_index_js-node_modules_github_session-resume_-947061-e7a6c4a19f98.js\n",
    "\n",
    "https://github.githubassets.com/assets/ui_packages_updatable-content_updatable-content_ts-62f3e9c52ece.js\n",
    "\n",
    "https://github.githubassets.com/assets/app_assets_modules_github_behaviors_task-list_ts-app_assets_modules_github_sso_ts-ui_packages-900dde-768abe60b1f8.js\n",
    "\n",
    "https://github.githubassets.com/assets/app_assets_modules_github_sticky-scroll-into-view_ts-3e000c5d31a9.js\n",
    "\n",
    "https://github.githubassets.com/assets/app_assets_modules_github_behaviors_ajax-error_ts-app_assets_modules_github_behaviors_include-d0d0a6-e7f74ee74d91.js\n",
    "\n",
    "https://github.githubassets.com/assets/app_assets_modules_github_behaviors_commenting_edit_ts-app_assets_modules_github_behaviors_ht-83c235-4bcbbbfbe1d4.js\n",
    "\n",
    "https://github.githubassets.com/assets/behaviors-ba450e1a8c71.js\n",
    "\n",
    "https://github.githubassets.com/assets/vendors-node_modules_delegated-events_dist_index_js-node_modules_github_catalyst_lib_index_js-f6223d90c7ba.js\n",
    "\n",
    "https://github.githubassets.com/assets/notifications-global-01e85cd1be94.js\n",
    "\n",
    "https://github.githubassets.com/assets/vendors-node_modules_virtualized-list_es_index_js-node_modules_github_template-parts_lib_index_js-94dc7a2157c1.js\n",
    "\n",
    "https://github.githubassets.com/assets/vendors-node_modules_github_remote-form_dist_index_js-node_modules_delegated-events_dist_inde-70450e-4b93df70b903.js\n",
    "\n",
    "https://github.githubassets.com/assets/app_assets_modules_github_ref-selector_ts-52913063a0b9.js\n",
    "\n",
    "https://github.githubassets.com/assets/codespaces-b419a25ee02f.js\n",
    "\n",
    "https://github.githubassets.com/assets/vendors-node_modules_github_filter-input-element_dist_index_js-node_modules_github_remote-inp-3eebbd-0763620ad7bf.js\n",
    "\n",
    "https://github.githubassets.com/assets/vendors-node_modules_github_mini-throttle_dist_decorators_js-node_modules_delegated-events_di-e161aa-9d41fb1b6c9e.js\n",
    "\n",
    "https://github.githubassets.com/assets/vendors-node_modules_github_file-attachment-element_dist_index_js-node_modules_github_remote--3c9c82-b71ef90fbdc7.js\n",
    "\n",
    "https://github.githubassets.com/assets/repositories-26e6935ed39d.js\n",
    "\n",
    "https://github.githubassets.com/assets/vendors-node_modules_github_mini-throttle_dist_index_js-node_modules_github_catalyst_lib_inde-dbbea9-26cce2010167.js\n",
    "\n",
    "https://github.githubassets.com/assets/code-menu-d6d3c94ee97e.js\n",
    "\n",
    "https://github.githubassets.com/assets/primer-react-391e58d7edc0.js\n",
    "\n",
    "https://github.githubassets.com/assets/react-core-4e4deaa097d6.js\n",
    "\n",
    "https://github.githubassets.com/assets/react-lib-80430c87778a.js\n",
    "\n",
    "https://github.githubassets.com/assets/octicons-react-cf2f2ab8dab4.js\n",
    "\n",
    "https://github.githubassets.com/assets/vendors-node_modules_emotion_is-prop-valid_dist_emotion-is-prop-valid_esm_js-node_modules_emo-b1c483-23083d170518.js\n",
    "\n",
    "https://github.githubassets.com/assets/vendors-node_modules_github_mini-throttle_dist_index_js-node_modules_stacktrace-parser_dist_s-e7dcdd-9a233856b02c.js\n",
    "\n",
    "https://github.githubassets.com/assets/vendors-node_modules_oddbird_popover-polyfill_dist_popover-fn_js-55fea94174bf.js\n",
    "\n",
    "https://github.githubassets.com/assets/notifications-subscriptions-menu-13ecd0d73ea6.js\n",
    "\n",
    "https://github.githubassets.com/assets/ui_packages_ui-commands_ui-commands_ts-2d52c8e72e64.js\n",
    "\n",
    "# Network Communication\n",
    "\n",
    "DNS Resolutions\n",
    "api.github.com\n",
    "Resolved Ips\n",
    "\n",
    "http://140.82.113.6\n",
    "\n",
    "avatars.githubusercontent.com\n",
    "Resolved Ips\n",
    "\n",
    "http://185.199.111.133\n",
    "\n",
    "http://185.199.108.133\n",
    "\n",
    "http://185.199.109.133\n",
    "\n",
    "http://185.199.110.133\n",
    "\n",
    "business.bing.com\n",
    "Resolved Ips\n",
    "\n",
    "http://13.107.6.158\n",
    "\n",
    "bzib.nelreports.net\n",
    "Resolved Ips\n",
    "\n",
    "http://23.219.157.197\n",
    "\n",
    "http://23.219.157.208\n",
    "\n",
    "collector.github.com\n",
    "Resolved Ips\n",
    "\n",
    "http://140.82.114.22\n",
    "\n",
    "# IP Traffic\n",
    "\n",
    "TCP http://13.107.246.38:443 (edge-mobile-static.azureedge.net)\n",
    "\n",
    "TCP http://13.107.6.158:443 (business.bing.com)\n",
    "\n",
    "TCP http://185.199.109.154:443 (github.githubassets.com)\n",
    "\n",
    "TCP http://185.199.111.133:443 (user-images.githubusercontent.com)\n",
    "\n",
    "TCP http://23.219.157.197:443 (bzib.nelreports.net)\n",
    "\n",
    "TCP http://140.82.114.22:443 (collector.github.com)\n",
    "\n",
    "TCP http://140.82.113.6:443 (api.github.com)\n",
    "\n",
    "# JA3 Digests\n",
    "\n",
    "064456ab1d368afa5ede6745810b4df3\n",
    "\n",
    "06f8e746efc79562b478fedfed1e00bb\n",
    "\n",
    "0f7bc02b1683cae49a4bbfc0729b25da\n",
    "\n",
    "16b7b15a22faa4709e1724e492782d32\n",
    "\n",
    "4c9f386aeb42c72fa1ba590cf418e7b8\n",
    "\n",
    "703b179d013e1248549ff6df2d1d9979\n",
    "\n",
    "89702c3db20bd8aa2f508526b2b6809f\n",
    "\n",
    "96b7b4177b284543c370a05e41249d78\n",
    "\n",
    "c205fb9a0f3f713a85ab5ee7a1149839\n",
    "\n",
    "c330aadac7cd8309909b3f63c43959b7\n",
    "\n",
    "da1101ca096f63b164868f03b3c74cb5\n",
    "\n",
    "f6b729410099b6a619c6aacd252926cc\n"
   ]
  },
  {
   "cell_type": "markdown",
   "id": "aab7a842",
   "metadata": {
    "papermill": {
     "duration": null,
     "end_time": null,
     "exception": null,
     "start_time": null,
     "status": "pending"
    },
    "tags": []
   },
   "source": [
    "# 45"
   ]
  },
  {
   "cell_type": "code",
   "execution_count": null,
   "id": "e0a1baed",
   "metadata": {
    "papermill": {
     "duration": null,
     "end_time": null,
     "exception": null,
     "start_time": null,
     "status": "pending"
    },
    "tags": []
   },
   "outputs": [],
   "source": [
    "\n",
    "\n",
    "あなたのIP: Click to reveal 146.70.201.135\n",
    "\n",
    "\n",
    "\n",
    "b9551a182909990b92393b975c68e46728c30c78b74ca447bb8cd68efca12d42\n",
    "\n",
    "http://198.190.14.13\n",
    "\n",
    "ENtrata:\n",
    "d30b4ea6f68456672f5abb35e9dcf7d54226372b66e9d60a7ee26b7a52568e74\n",
    "\n",
    "?https://www.speedguide.net/ip/146.70.201.135\n",
    "Ray ID: mac://929516d39e66ebf9\n",
    "\n",
    "b9551a182909990b92393b975c68e46728c30c78b74ca447bb8cd68efca12d42\n",
    "ENtrata:\n",
    "d30b4ea6f68456672f5abb35e9dcf7d54226372b66e9d60a7ee26b7a52568e74\n",
    "\n",
    "http://AS16844 \n",
    "AS://16844\n",
    "\n",
    "\n",
    "\n"
   ]
  },
  {
   "cell_type": "markdown",
   "id": "dbc60340",
   "metadata": {
    "papermill": {
     "duration": null,
     "end_time": null,
     "exception": null,
     "start_time": null,
     "status": "pending"
    },
    "tags": []
   },
   "source": [
    "http://198.190.14.13\n",
    "\n",
    "ENtrata:\n",
    "d30b4ea6f68456672f5abb35e9dcf7d54226372b66e9d60a7ee26b7a52568e74\n",
    "\n",
    "?https://www.speedguide.net/ip/146.70.201.135\n",
    "Ray ID: mac://929516d39e66ebf9\n",
    "\n",
    "b9551a182909990b92393b975c68e46728c30c78b74ca447bb8cd68efca12d42\n",
    "ENtrata:\n",
    "d30b4ea6f68456672f5abb35e9dcf7d54226372b66e9d60a7ee26b7a52568e74\n",
    "\n",
    "http://AS16844 \n",
    "AS://16844\n"
   ]
  },
  {
   "cell_type": "code",
   "execution_count": null,
   "id": "5116eb88",
   "metadata": {
    "papermill": {
     "duration": null,
     "end_time": null,
     "exception": null,
     "start_time": null,
     "status": "pending"
    },
    "tags": []
   },
   "outputs": [],
   "source": [
    " データセット_df   = pd.read_csv('ftp:%2f%2f192.168.0.100:2121%2f/train.csv') print(\"Full train dataset shape is {}\".format(dataset_df.shape))\n",
    "\n"
   ]
  },
  {
   "cell_type": "markdown",
   "id": "73b6aa43",
   "metadata": {
    "papermill": {
     "duration": null,
     "end_time": null,
     "exception": null,
     "start_time": null,
     "status": "pending"
    },
    "tags": []
   },
   "source": [
    "ftp:%2f%2f192.168.0.100:2121%2f"
   ]
  },
  {
   "cell_type": "code",
   "execution_count": null,
   "id": "a5d03ed8",
   "metadata": {
    "papermill": {
     "duration": null,
     "end_time": null,
     "exception": null,
     "start_time": null,
     "status": "pending"
    },
    "tags": []
   },
   "outputs": [],
   "source": [
    " データセット_df   = pd.read_csv('http://192.168.7.221/web/train.csv') print(\"Full train dataset shape is {}\".format(dataset_df.shape))"
   ]
  },
  {
   "cell_type": "markdown",
   "id": "b2de0241",
   "metadata": {
    "papermill": {
     "duration": null,
     "end_time": null,
     "exception": null,
     "start_time": null,
     "status": "pending"
    },
    "tags": []
   },
   "source": [
    "http://192.168.7.221/web"
   ]
  },
  {
   "cell_type": "code",
   "execution_count": null,
   "id": "0d350d72",
   "metadata": {
    "papermill": {
     "duration": null,
     "end_time": null,
     "exception": null,
     "start_time": null,
     "status": "pending"
    },
    "tags": []
   },
   "outputs": [],
   "source": [
    "  データセット_df    = pd.read_csv('http://192.168.1.174:8888/train.csv')プリント(\"フルトレインデータセット形状は{}\"です。.format(dataset_df.shape))"
   ]
  },
  {
   "cell_type": "markdown",
   "id": "dc7cc306",
   "metadata": {
    "papermill": {
     "duration": null,
     "end_time": null,
     "exception": null,
     "start_time": null,
     "status": "pending"
    },
    "tags": []
   },
   "source": [
    "http://192.168.1.174:8888\n"
   ]
  },
  {
   "cell_type": "code",
   "execution_count": null,
   "id": "a37d60e6",
   "metadata": {
    "papermill": {
     "duration": null,
     "end_time": null,
     "exception": null,
     "start_time": null,
     "status": "pending"
    },
    "tags": []
   },
   "outputs": [],
   "source": [
    "  データセット_df    = pd.read_csv('http://192.168.0.223.101/train.csv')プリント(\"フルトレインデータセット形状は{}\"です。.format(dataset_df.shape))\n"
   ]
  },
  {
   "cell_type": "markdown",
   "id": "df4e1eeb",
   "metadata": {
    "papermill": {
     "duration": null,
     "end_time": null,
     "exception": null,
     "start_time": null,
     "status": "pending"
    },
    "tags": []
   },
   "source": [
    "http://192.168.0.223.101"
   ]
  },
  {
   "cell_type": "code",
   "execution_count": null,
   "id": "ffd1dce7",
   "metadata": {
    "papermill": {
     "duration": null,
     "end_time": null,
     "exception": null,
     "start_time": null,
     "status": "pending"
    },
    "tags": []
   },
   "outputs": [],
   "source": [
    "  データセット_df    = pd.read_csv('http://192.168.128.45:8888/train.csv')プリント(\"フルトレインデータセット形状は{}\"です。.format(dataset_df.shape))"
   ]
  },
  {
   "cell_type": "markdown",
   "id": "bfb8abc8",
   "metadata": {
    "papermill": {
     "duration": null,
     "end_time": null,
     "exception": null,
     "start_time": null,
     "status": "pending"
    },
    "tags": []
   },
   "source": [
    "http://192.168.128.45:8888"
   ]
  },
  {
   "cell_type": "code",
   "execution_count": null,
   "id": "d4418e28",
   "metadata": {
    "papermill": {
     "duration": null,
     "end_time": null,
     "exception": null,
     "start_time": null,
     "status": "pending"
    },
    "tags": []
   },
   "outputs": [],
   "source": [
    "  データセット_df    = pd.read_csv('http://192.168.1.26:9000/train.csv')プリント(\"フルトレインデータセット形状は{}\"です。.format(dataset_df.shape))"
   ]
  },
  {
   "cell_type": "markdown",
   "id": "75ae3680",
   "metadata": {
    "papermill": {
     "duration": null,
     "end_time": null,
     "exception": null,
     "start_time": null,
     "status": "pending"
    },
    "tags": []
   },
   "source": [
    "http://192.168.1.26:9000"
   ]
  },
  {
   "cell_type": "code",
   "execution_count": null,
   "id": "ae61ace7",
   "metadata": {
    "papermill": {
     "duration": null,
     "end_time": null,
     "exception": null,
     "start_time": null,
     "status": "pending"
    },
    "tags": []
   },
   "outputs": [],
   "source": [
    "  データセット_df    = pd.read_csv('https://router-network.com/ip/192-168-1-26/train.csv')プリント(\"Full train dataset shape is {}\".format(dataset_df.shape))"
   ]
  },
  {
   "cell_type": "markdown",
   "id": "aedd09c1",
   "metadata": {
    "papermill": {
     "duration": null,
     "end_time": null,
     "exception": null,
     "start_time": null,
     "status": "pending"
    },
    "tags": []
   },
   "source": [
    "https://router-network.com/ip/192-168-1-26"
   ]
  },
  {
   "cell_type": "code",
   "execution_count": null,
   "id": "f935ece7",
   "metadata": {
    "papermill": {
     "duration": null,
     "end_time": null,
     "exception": null,
     "start_time": null,
     "status": "pending"
    },
    "tags": []
   },
   "outputs": [],
   "source": [
    "  データセット_df    = pd.read_csv('https://www.2121columbiapike.com//train.csv')プリント(\"フルトレインデータセット形状は{}\"です。.format(dataset_df.shape))\n",
    "\n"
   ]
  },
  {
   "cell_type": "markdown",
   "id": "0e3ec562",
   "metadata": {
    "papermill": {
     "duration": null,
     "end_time": null,
     "exception": null,
     "start_time": null,
     "status": "pending"
    },
    "tags": []
   },
   "source": [
    "https://www.2121columbiapike.com/"
   ]
  },
  {
   "cell_type": "code",
   "execution_count": null,
   "id": "24ba7463",
   "metadata": {
    "papermill": {
     "duration": null,
     "end_time": null,
     "exception": null,
     "start_time": null,
     "status": "pending"
    },
    "tags": []
   },
   "outputs": [],
   "source": [
    "  データセット_df    = pd.read_csv('http://198.190.14.13/train.csv')プリント(\"フルトレインデータセット形状は{}\"です。.format(dataset_df.shape))\n",
    "\n"
   ]
  },
  {
   "cell_type": "markdown",
   "id": "bb2ebbf3",
   "metadata": {
    "papermill": {
     "duration": null,
     "end_time": null,
     "exception": null,
     "start_time": null,
     "status": "pending"
    },
    "tags": []
   },
   "source": [
    "http://198.190.14.13"
   ]
  },
  {
   "cell_type": "code",
   "execution_count": null,
   "id": "831baa45",
   "metadata": {
    "papermill": {
     "duration": null,
     "end_time": null,
     "exception": null,
     "start_time": null,
     "status": "pending"
    },
    "tags": []
   },
   "outputs": [],
   "source": [
    "データセット_df  = pd.read_csv('http://as16844/train.csv) プリント(「全列車データセット形状は{}.format(dataset_df.shape))\n",
    "\n"
   ]
  },
  {
   "cell_type": "markdown",
   "id": "dbea96f8",
   "metadata": {
    "papermill": {
     "duration": null,
     "end_time": null,
     "exception": null,
     "start_time": null,
     "status": "pending"
    },
    "tags": []
   },
   "source": [
    "http://as16844"
   ]
  },
  {
   "cell_type": "code",
   "execution_count": null,
   "id": "8278b595",
   "metadata": {
    "papermill": {
     "duration": null,
     "end_time": null,
     "exception": null,
     "start_time": null,
     "status": "pending"
    },
    "tags": []
   },
   "outputs": [],
   "source": [
    "データセット_df  = pd.read_csv('https://bgpview.io/asn/16844/train.csv')プリント(\"フルトレインデータセット形状は{}\"です。.format(dataset_df.shape))\n",
    "\n"
   ]
  },
  {
   "cell_type": "markdown",
   "id": "e9c790e7",
   "metadata": {
    "papermill": {
     "duration": null,
     "end_time": null,
     "exception": null,
     "start_time": null,
     "status": "pending"
    },
    "tags": []
   },
   "source": [
    "https://bgpview.io/asn/16844"
   ]
  },
  {
   "cell_type": "markdown",
   "id": "216e084f",
   "metadata": {
    "papermill": {
     "duration": null,
     "end_time": null,
     "exception": null,
     "start_time": null,
     "status": "pending"
    },
    "tags": []
   },
   "source": [
    "# Emiri"
   ]
  },
  {
   "cell_type": "markdown",
   "id": "9d486e05",
   "metadata": {
    "papermill": {
     "duration": null,
     "end_time": null,
     "exception": null,
     "start_time": null,
     "status": "pending"
    },
    "tags": []
   },
   "source": [
    "http://0351555245\n",
    "\n",
    "ftp://0351555245\n",
    "\n",
    "ftp:%2f%2f192.168.0.100:2121%2f\n",
    "\n",
    "？http://%2f%2f192.168.0.100:2121%2f\n",
    "\n",
    "ftp:192.168.172121?\n",
    "\n",
    "http://softonic14091.rssing.com？\n",
    "\n",
    "https://website.informer.com/search.php?query=ftp%3A%252f%252f192.168.0.100%3A2121%252f \n",
    "\n",
    "http://blog.charchub.com/Sitemap.php?letter=%E1%B0%B3%2F%2F%2A%2A%2FAND%2F%2A%2F7526%3D3225--%2F%2A%2A%2FCwyj-48dd433a4a69e8c7a2c696567df00b35sitemap.php?letter=y%20ORDER%20BY%206461%23the-book-of-supreme-memes-contains-over…\n",
    "\n",
    "http://blog.charchub.com/48dd433a4a69e8c7a2c696567df00b35sitemap.php?letter=y%20ORDER%20BY%206461%23the-book-of-supreme-memes-contains-over-100-hilarious-roblox-memes-and-jokes-roblox-memes-memes-for-kids-roblox-books.pdfquality-manual-145.pdfsitemap.php?letter=-7668%22%29%20or%201935=3901%20and%20%28%22zrza%22=%22zrza0d2defa11fe51a00660faf39dce0b2f848b1c0e87e0e6e1ab26d9a7c01b1a14902c1c3fd4f67ff20fc3cbcd93756247862c1c9fb472f6e6928b38c2a19e304e1sitemap.php?letter=X%29%20W…\n",
    "\n",
    "http://2f-online.activoforo.com\n",
    "\n",
    "http://2f-online.activoforo.com&pageviewId=desktop-302e3435343535313030203137343332353436343520313939303831303331\n",
    "\n",
    "http://2fmcg.com/\n",
    "\n",
    "http://154.62.106.153 \n",
    "\n",
    "アパートメント\n",
    "\n",
    "https://www.2121columbiapike.com/\n",
    "\n",
    "http://198.190.14.13\n",
    "\n",
    "https://urlscan.io/result/0195ef73-7f5f-75c8-bd93-6777a06e13f2/ \n",
    "\n",
    "Ray ID: mac://929516d39e66ebf9\n",
    "\n",
    "\n",
    "https://urlscan.io/api/v1/result/0195ef73-7f5f-75c8-bd93-6777a06e13f2/ \n",
    "\n",
    "b9551a182909990b92393b975c68e46728c30c78b74ca447bb8cd68efca12d42\n",
    "\n",
    "http://198.190.14.13/cdn-cgi/styles/main.css\n",
    "\n",
    "ENtrata:\n",
    "d30b4ea6f68456672f5abb35e9dcf7d54226372b66e9d60a7ee26b7a52568e74\n",
    "\n",
    "?https://www.speedguide.net/ip/146.70.201.135\n",
    "\n",
    "http://AS16844 \n",
    "\n",
    "AS://16844\n",
    "\n",
    "https://bgp.tools/as/16844\n",
    "\n",
    "https://ipinfo.io/AS16844 \n",
    "\n",
    "https://bgpview.io/asn/16844 \n",
    "\n",
    "https://bgpview.io/asn/13335 \n",
    "\n",
    "コンタクト・プライバシー 顧客0136502643\n",
    "レジストリドメインID\n",
    "184818407_DOMAIN_COM-VRSN\n",
    "\n",
    "http://184818407_domain.com\n",
    "\n",
    "→http://192.168.0.223.101\n",
    "\n",
    "→http://192.168.1.174:8888\n",
    "\n",
    "→http://192.168.7.221/web\n",
    "\n",
    "→http://168.192 10.2\n",
    "\n",
    "→http://192.168.1.26:9000\n",
    "****\n",
    "→https://router-network.com/ip/192-168-1-26\n",
    "\n"
   ]
  },
  {
   "cell_type": "markdown",
   "id": "4d928bfb",
   "metadata": {
    "papermill": {
     "duration": null,
     "end_time": null,
     "exception": null,
     "start_time": null,
     "status": "pending"
    },
    "tags": []
   },
   "source": [
    "# vila"
   ]
  },
  {
   "cell_type": "markdown",
   "id": "4f7d45cf",
   "metadata": {
    "papermill": {
     "duration": null,
     "end_time": null,
     "exception": null,
     "start_time": null,
     "status": "pending"
    },
    "tags": []
   },
   "source": [
    "# 03-3876-1400\n",
    "\n",
    "http://0338761400 \n",
    "\n",
    "ftp://0338761400 \n",
    "\n",
    "https://www.housebric.com/033/033876/\n",
    "\n",
    "172.217.26.227\n",
    "\n",
    "http://192.0.76.3\n",
    "\n",
    "http://192.0.77.32\n",
    "\n",
    "http://199.188.206.16\n",
    "\n",
    "https://urlscan.io/result/01962ec2-6664-70ea-b638-6ff508ada47d/#indicators\n",
    "\n",
    "f3a8992acb9ab911e0fa4ae12f4b85ef8e61008619f13ee51c7a121ff87f63b1\n",
    "\n",
    "e93e9f28c6e8c3ed7f642e1a7a67a4a294ffabbc49909ae5d8bbaa48238ba3e9\n",
    "\n",
    "https://urlscan.io/api/v1/result/01962ec2-6664-70ea-b638-6ff508ada47d/ \n",
    "\n",
    "https://urlscan.io/result/01962ec2-6664-70ea-b638-6ff508ada47d/ \n",
    "\n",
    "https://www.virustotal.com/gui/domain/www.housebric.com/details \n",
    "\n",
    "https://www.virustotal.com/gui/domain/www.housebric.com/relations\n",
    "\n",
    "7669ff40aee11f69\n",
    "\n",
    "b3e8b765589988d9\n",
    "\n",
    "37bfbc24cafea5d2\n",
    "\n",
    "f0f410892ab4e519d0bd9f512b22bf44b0a4eb51\n",
    "\n",
    "a59909c2850218b94554c9db7a26cb88d8aa066d\n",
    "\n",
    "5732e1eb646e7660e007fdce89277ff61cdbd927\n",
    "\n",
    "332510e313e86d9772ef62b66d890864eb8a4ee5\n",
    "|\n",
    "https://0119576915.privatepeople.info/\n",
    "\n",
    "https://urlscan.io/api/v1/result/01962ebe-a572-7639-8155-e1d954427b46/\n"
   ]
  },
  {
   "cell_type": "markdown",
   "id": "800be89a",
   "metadata": {
    "papermill": {
     "duration": null,
     "end_time": null,
     "exception": null,
     "start_time": null,
     "status": "pending"
    },
    "tags": []
   },
   "source": [
    "\n",
    "Tcp://192.0.76.3\n",
    "\n",
    "Tcp://192.0.77.32\n",
    "\n",
    "Tcp://199.188.206.16\n"
   ]
  },
  {
   "cell_type": "code",
   "execution_count": null,
   "id": "5ffc7709",
   "metadata": {
    "papermill": {
     "duration": null,
     "end_time": null,
     "exception": null,
     "start_time": null,
     "status": "pending"
    },
    "tags": []
   },
   "outputs": [],
   "source": [
    "03-3876-1400\n",
    "http:// http.aspエルメス:// http.aspエルメス:// http.aspエルメス:// http.aspエルメス://  http.aspエルメス:// http.aspエルメス://  http.aspエルメス://  http.aspエルメス://  http.aspエルメス://  http.aspエルメス://  http.aspエルメス://  http.aspエルメス://  http.aspエルメス://  http.aspエルメス://  http.aspエルメス://  http.aspエルメス://  http.aspエルメス://0338761400 \n",
    "ftp://0338761400 \n",
    "https://www.housebric.com/033/033876/\n",
    "172.217.26.227\n",
    "http:// http.aspエルメス:// http.aspエルメス:// http.aspエルメス:// http.aspエルメス://  http.aspエルメス:// http.aspエルメス://  http.aspエルメス://  http.aspエルメス://  http.aspエルメス://  http.aspエルメス://  http.aspエルメス://  http.aspエルメス://  http.aspエルメス://  http.aspエルメス://  http.aspエルメス://  http.aspエルメス://  http.aspエルメス://192.0.76.3\n",
    "http:// http.aspエルメス:// http.aspエルメス:// http.aspエルメス:// http.aspエルメス://  http.aspエルメス:// http.aspエルメス://  http.aspエルメス://  http.aspエルメス://  http.aspエルメス://  http.aspエルメス://  http.aspエルメス://  http.aspエルメス://  http.aspエルメス://  http.aspエルメス://  http.aspエルメス://  http.aspエルメス://  http.aspエルメス://192.0.77.32\n",
    "http:// http.aspエルメス:// http.aspエルメス:// http.aspエルメス:// http.aspエルメス://  http.aspエルメス:// http.aspエルメス://  http.aspエルメス://  http.aspエルメス://  http.aspエルメス://  http.aspエルメス://  http.aspエルメス://  http.aspエルメス://  http.aspエルメス://  http.aspエルメス://  http.aspエルメス://  http.aspエルメス://  http.aspエルメス://199.188.206.16\n",
    "\n",
    "\n",
    "Tcp://192.0.76.3\n",
    "\n",
    "Tcp://192.0.77.32\n",
    "\n",
    "Tcp://199.188.206.16\n",
    "\n",
    "https://urlscan.io/結果/01962ec2-6664-70えー-b638-6ff508ada47d/#指標\n",
    "f3a8992acb9ab911e0fa4ae12f4b85ef8e61008619f13ee51c7a121ff87f63b1\n",
    "e93e9f28c6e8c3ed7f642e1a7a67a4a294ffabbc49909ae5d8bbaa48238ba3e9\n",
    "https://urlscan.io/アピ/v1/結果/01962ec2-6664-70えー-b638-6ff508ada47d/ \n",
    "https://urlscan.io/結果/01962ec2-6664-70えー-b638-6ff508ada47d/ \n",
    "https://www.virustotal.com/グイ/ドメイン/www.housebric.com/詳細 \n",
    "https://www.virustotal.com/グイ/ドメイン/www.housebric.com/関係\n",
    "7669ff40aee11f69\n",
    "b3e8b765589988d9\n",
    "37bfbc24cafea5d2\n",
    "f0f410892ab4e519d0bd9f512b22bf44b0a4eb51\n",
    "a59909c2850218b94554c9db7a26cb88d8aa066d\n",
    "5732e1eb646e7660e007fdce89277ff61cdbd927\n",
    "332510e313e86d9772ef62b66d890864eb8a4ee5\n",
    "|\n",
    "https://0119576915.privatepeople.info/\n",
    "https://urlscan.io/アピ/v1/結果/01962エベ-a572-7639-8155-e1d954427b46/\n"
   ]
  },
  {
   "cell_type": "markdown",
   "id": "60e284d7",
   "metadata": {
    "papermill": {
     "duration": null,
     "end_time": null,
     "exception": null,
     "start_time": null,
     "status": "pending"
    },
    "tags": []
   },
   "source": [
    "# kintama"
   ]
  },
  {
   "cell_type": "markdown",
   "id": "9f965b3d",
   "metadata": {
    "papermill": {
     "duration": null,
     "end_time": null,
     "exception": null,
     "start_time": null,
     "status": "pending"
    },
    "tags": []
   },
   "source": [
    "ftp://0359315920\n",
    "\n",
    "http://0359315920\n",
    "\n",
    "https://maporg.ru/revda/359315920-retma/\n",
    "\n",
    "https://urlscan.io/api/v1/result/019632e4-320d-76ee-8ddf-80a5a9c4df34/\n",
    "\n",
    "https://www.virustotal.com/gui/domain/maporg.ru/details \n",
    "\n",
    "https://www.virustotal.com/gui/domain/maporg.ru/relations\n",
    "\n",
    "https://vk.com/id359315920\n",
    "\n",
    "https://telefonico-elenco.com/phone/390359315920\n",
    "\n",
    "debf1de9aeb602b5f3a7daa6ea535f73184030a79dcda06d7e4eff5f8b2f737e\n",
    "\n",
    "https://www.virustotal.com/gui/file/debf1de9aeb602b5f3a7daa6ea535f73184030a79dcda06d7e4eff5f8b2f737e/details\n",
    "\n",
    "https://www.virustotal.com/gui/file/debf1de9aeb602b5f3a7daa6ea535f73184030a79dcda06d7e4eff5f8b2f737e/behavior\n",
    "\n",
    "https://www.virustotal.com/gui/url/da5767bd5378092050f8f62a59c3fdebc343a253f5a95a32147cd868c34561a3/details\n",
    "\n",
    "http://5.45.76.88\n",
    "Basic properties\n",
    "\n",
    "MD5\n",
    "9533ce054a58340edde5bc97bcdd48a4 \n",
    "\n",
    "SHA-1\n",
    "fb52bacdae070920d5d0f7a08a9e9b7a1ee2a535 \n",
    "\n",
    "SHA-256\n",
    "debf1de9aeb602b5f3a7daa6ea535f73184030a79dcda06d7e4eff5f8b2f737e \n",
    "\n",
    "Vhash\n",
    "5dd7845c588b98247209164e3274ba90 \n",
    "\n",
    "SSDEEP\n",
    "384:hW/AmuRx6MYtNLais1xAUZyZYzSPCqHEyZG2mHFX5VKDsfsWwRxVq4tyiBp:klS6S1xnZh2PCqHEyM2jEsIiBp \n",
    "\n",
    "TLSH\n",
    "T10CB2F97392E0486712D2619469B0B7077EB2A14FE5638948B3DD0B973FC3F92DC136A9\n",
    "\n",
    "Script Tags\n",
    "\n",
    "c52d0a401b221d40b8f203b444376b798dbdafc245aaeaba9b8848daf150e71e\n",
    "\n",
    "d28200608d488343db70528edb63286c9cf3cb68f3eb82a9ec21754b8ca18206\n",
    "\n",
    "0e6a1220fcde423454970163dce28a1bc18927a24c106600ad6b04e94dbb454b\n",
    "\n",
    "//pagead2.googlesyndication.com/pagead/js/adsbygoogle.js\n",
    "https://www.google.com/recaptcha/api.js?hl=it\n",
    "/js/build/app.min.js?revision=1689778933\n",
    "\n"
   ]
  },
  {
   "cell_type": "code",
   "execution_count": null,
   "id": "e1e78373",
   "metadata": {
    "papermill": {
     "duration": null,
     "end_time": null,
     "exception": null,
     "start_time": null,
     "status": "pending"
    },
    "tags": []
   },
   "outputs": [],
   "source": [
    "ftp://0359315920\n",
    "\n",
    "http:// http.aspエルメス:// http.aspエルメス:// http.aspエルメス:// http.aspエルメス:// http.aspエルメス://  http.aspエルメス://  http.aspエルメス://  http.aspエルメス://  http.aspエルメス:// http.aspエルメス://  http.aspエルメス://  http.aspエルメス://  http.aspエルメス://  http.aspエルメス://  http.aspエルメス://   http.aspエルメス ://   http.aspエルメス ://    http.aspエルメス  ://    http.aspエルメス  ://     http.aspエルメス   ://     http.aspエルメス   ://     http.aspエルメス   ://     http.aspエルメス   ://     http.aspエルメス   ://     http.aspエルメス   ://     http.aspエルメス   ://     http.aspエルメス   ://0359315920\n",
    "\n",
    "https://maporg.ru/レヴダ/359315920-レトマ/\n",
    "\n",
    "https://urlscan.io/アピ/v1/結果/019632e4-320d-76ee-8ddf-80a5a9c4df34/\n",
    "\n",
    "https://www.virustotal.com/グイ/ドメイン/maporg.ru/詳細 \n",
    "\n",
    "https://www.virustotal.com/グイ/ドメイン/maporg.ru/関係\n",
    "\n",
    "https://vk.com/id359315920\n",
    "\n",
    "https://テレフォニコ-elenco.com/電話/390359315920\n",
    "\n",
    "debf1de9aeb602b5f3a7daa6ea535f73184030a79dcda06d7e4eff5f8b2f737e\n",
    "\n",
    "https://www.virustotal.com/グイ/ファイル/debf1de9aeb602b5f3a7daa6ea535f73184030a79dcda06d7e4eff5f8b2f737e/詳細\n",
    "\n",
    "https://www.virustotal.com/グイ/ファイル/debf1de9aeb602b5f3a7daa6ea535f73184030a79dcda06d7e4eff5f8b2f737e/行動\n",
    "\n",
    "https://www.virustotal.com/グイ/url/da5767bd5378092050f8f62a59c3fdebc343a253f5a95a32147cd868c34561a3/詳細\n",
    "\n",
    "http:// http.aspエルメス:// http.aspエルメス:// http.aspエルメス:// http.aspエルメス:// http.aspエルメス://  http.aspエルメス://  http.aspエルメス://  http.aspエルメス://  http.aspエルメス:// http.aspエルメス://  http.aspエルメス://  http.aspエルメス://  http.aspエルメス://  http.aspエルメス://  http.aspエルメス://   http.aspエルメス ://   http.aspエルメス ://    http.aspエルメス  ://    http.aspエルメス  ://     http.aspエルメス   ://     http.aspエルメス   ://     http.aspエルメス   ://     http.aspエルメス   ://     http.aspエルメス   ://     http.aspエルメス   ://     http.aspエルメス   ://     http.aspエルメス   ://5.45.76.88\n",
    "Basic properties\n",
    "\n",
    "MD5\n",
    "9533ce054a58340edde5bc97bcdd48a4 \n",
    "\n",
    "シャー-1\n",
    "fb52bacdae070920d5d0f7a08a9e9b7a1ee2a535 \n",
    "\n",
    "シャー-256\n",
    "debf1de9aeb602b5f3a7daa6ea535f73184030a79dcda06d7e4eff5f8b2f737e \n",
    "\n",
    "ヴァシュ\n",
    "5dd7845c588b98247209164e3274ba90 \n",
    "\n",
    "Ssdeep\n",
    "384:Hw/AmuRx6MYtNLais1xAUZyZYzSPCqHEyZG2mHFX5VKDsfsWwRxVq4tyiBp:klS6S1xnZh2PCqHEyM2jEsIiBp \n",
    "\n",
    "Tlsh\n",
    "T10CB2F97392E0486712D2619469B0B7077EB2A14FE5638948B3DD0B973FC3F92DC136A9\n",
    "\n",
    "スクリプトタグ\n",
    "\n",
    "c52d0a401b221d40b8f203b444376b798dbdafc245aaeaba9b8848daf150e71e\n",
    "\n",
    "d28200608d488343db70528edb63286c9cf3cb68f3eb82a9ec21754b8ca18206\n",
    "\n",
    "0e6a1220fcde423454970163dce28a1bc18927a24c106600ad6b04e94dbb454b\n",
    "\n",
    "//pagead2.googlesyndication.com/ペーガド/js/広告bygoogle.js\n",
    "https://www.google.com/再キャプチャ/api.js?hl=それ\n",
    "/js/ビルド/app.min.js?revision=1689778933\n",
    "\n"
   ]
  },
  {
   "cell_type": "markdown",
   "id": "fcc2122c",
   "metadata": {
    "papermill": {
     "duration": null,
     "end_time": null,
     "exception": null,
     "start_time": null,
     "status": "pending"
    },
    "tags": []
   },
   "source": [
    "# 後藤祐介"
   ]
  },
  {
   "cell_type": "markdown",
   "id": "0e4587af",
   "metadata": {
    "papermill": {
     "duration": null,
     "end_time": null,
     "exception": null,
     "start_time": null,
     "status": "pending"
    },
    "tags": []
   },
   "source": [
    "http://157.205.7.124"
   ]
  },
  {
   "cell_type": "markdown",
   "id": "8738ec58",
   "metadata": {
    "papermill": {
     "duration": null,
     "end_time": null,
     "exception": null,
     "start_time": null,
     "status": "pending"
    },
    "tags": []
   },
   "source": [
    "http://172.217.16.206\n",
    "\n",
    "http://153.121.2.34"
   ]
  },
  {
   "cell_type": "markdown",
   "id": "3d88c85d",
   "metadata": {
    "papermill": {
     "duration": null,
     "end_time": null,
     "exception": null,
     "start_time": null,
     "status": "pending"
    },
    "tags": []
   },
   "source": [
    "http://52.69.131.137\n",
    "\n",
    "http://133.167.7.22\n",
    "\n",
    "http://172.217.31.164\n",
    "\n",
    "http://104.17.246.203\n",
    "\n",
    "http://142.250.199.110\n",
    "\n",
    "http://142.250.207.40\n",
    "\n",
    "https://tsukulink.net/tokyo/city_131059/440677\n",
    "\n",
    "https://www.kensetumap.com/company/26278/profile.php\n",
    "\n",
    "http://www.shintou.co.jp/office/access.html\n",
    "\n",
    "http://www.shintou.co.jp/office/index.html\n"
   ]
  },
  {
   "cell_type": "code",
   "execution_count": null,
   "id": "095ff077",
   "metadata": {
    "papermill": {
     "duration": null,
     "end_time": null,
     "exception": null,
     "start_time": null,
     "status": "pending"
    },
    "tags": []
   },
   "outputs": [],
   "source": [
    "\n",
    "\n",
    "http:// http.aspエルメス:// http.aspエルメス:// http.aspエルメス:// http.aspエルメス:// http.aspエルメス:// http.aspエルメス:// http.aspエルメス:// http.aspエルメス:// http.aspエルメス:// http.aspエルメス:// http.aspエルメス:// http.aspエルメス:// http.aspエルメス:// http.aspエルメス:// http.aspエルメス:// http.aspエルメス:// http.aspエルメス:// http.aspエルメス://52.69.131.137\n",
    "http:// http.aspエルメス:// http.aspエルメス:// http.aspエルメス:// http.aspエルメス:// http.aspエルメス:// http.aspエルメス:// http.aspエルメス:// http.aspエルメス:// http.aspエルメス:// http.aspエルメス:// http.aspエルメス:// http.aspエルメス:// http.aspエルメス:// http.aspエルメス:// http.aspエルメス:// http.aspエルメス:// http.aspエルメス:// http.aspエルメス://133.167.7.22\n",
    "http:// http.aspエルメス:// http.aspエルメス:// http.aspエルメス:// http.aspエルメス:// http.aspエルメス:// http.aspエルメス:// http.aspエルメス:// http.aspエルメス:// http.aspエルメス:// http.aspエルメス:// http.aspエルメス:// http.aspエルメス:// http.aspエルメス:// http.aspエルメス:// http.aspエルメス:// http.aspエルメス:// http.aspエルメス:// http.aspエルメス://157.205.7.124\n",
    "http:// http.aspエルメス:// http.aspエルメス:// http.aspエルメス:// http.aspエルメス:// http.aspエルメス:// http.aspエルメス:// http.aspエルメス:// http.aspエルメス:// http.aspエルメス:// http.aspエルメス:// http.aspエルメス:// http.aspエルメス:// http.aspエルメス:// http.aspエルメス:// http.aspエルメス:// http.aspエルメス:// http.aspエルメス:// http.aspエルメス://172.217.31.164\n",
    "http:// http.aspエルメス:// http.aspエルメス:// http.aspエルメス:// http.aspエルメス:// http.aspエルメス:// http.aspエルメス:// http.aspエルメス:// http.aspエルメス:// http.aspエルメス:// http.aspエルメス:// http.aspエルメス:// http.aspエルメス:// http.aspエルメス:// http.aspエルメス:// http.aspエルメス:// http.aspエルメス:// http.aspエルメス:// http.aspエルメス://172.217.16.206\n",
    "http:// http.aspエルメス:// http.aspエルメス:// http.aspエルメス:// http.aspエルメス:// http.aspエルメス:// http.aspエルメス:// http.aspエルメス:// http.aspエルメス:// http.aspエルメス:// http.aspエルメス:// http.aspエルメス:// http.aspエルメス:// http.aspエルメス:// http.aspエルメス:// http.aspエルメス:// http.aspエルメス:// http.aspエルメス:// http.aspエルメス://153.121.2.34\n",
    "http:// http.aspエルメス:// http.aspエルメス:// http.aspエルメス:// http.aspエルメス:// http.aspエルメス:// http.aspエルメス:// http.aspエルメス:// http.aspエルメス:// http.aspエルメス:// http.aspエルメス:// http.aspエルメス:// http.aspエルメス:// http.aspエルメス:// http.aspエルメス:// http.aspエルメス:// http.aspエルメス:// http.aspエルメス:// http.aspエルメス://104.17.246.203\n",
    "http:// http.aspエルメス:// http.aspエルメス:// http.aspエルメス:// http.aspエルメス:// http.aspエルメス:// http.aspエルメス:// http.aspエルメス:// http.aspエルメス:// http.aspエルメス:// http.aspエルメス:// http.aspエルメス:// http.aspエルメス:// http.aspエルメス:// http.aspエルメス:// http.aspエルメス:// http.aspエルメス:// http.aspエルメス:// http.aspエルメス://142.250.199.110\n",
    "http:// http.aspエルメス:// http.aspエルメス:// http.aspエルメス:// http.aspエルメス:// http.aspエルメス:// http.aspエルメス:// http.aspエルメス:// http.aspエルメス:// http.aspエルメス:// http.aspエルメス:// http.aspエルメス:// http.aspエルメス:// http.aspエルメス:// http.aspエルメス:// http.aspエルメス:// http.aspエルメス:// http.aspエルメス:// http.aspエルメス://142.250.207.40\n",
    "\n",
    "https://tsukulink.net/tokyo/city_131059/440677\n",
    "https://www.kensetumap.com/company/26278/profile.php\n",
    "http:// http.aspエルメス:// http.aspエルメス:// http.aspエルメス:// http.aspエルメス:// http.aspエルメス:// http.aspエルメス:// http.aspエルメス:// http.aspエルメス:// http.aspエルメス:// http.aspエルメス:// http.aspエルメス:// http.aspエルメス:// http.aspエルメス:// http.aspエルメス:// http.aspエルメス:// http.aspエルメス:// http.aspエルメス:// http.aspエルメス://www.shintou.co.jp/office/access.html\n",
    "http:// http.aspエルメス:// http.aspエルメス:// http.aspエルメス:// http.aspエルメス:// http.aspエルメス:// http.aspエルメス:// http.aspエルメス:// http.aspエルメス:// http.aspエルメス:// http.aspエルメス:// http.aspエルメス:// http.aspエルメス:// http.aspエルメス:// http.aspエルメス:// http.aspエルメス:// http.aspエルメス:// http.aspエルメス:// http.aspエルメス://www.shintou.co.jp/office/index.html\n"
   ]
  },
  {
   "cell_type": "markdown",
   "id": "50e154dc",
   "metadata": {
    "papermill": {
     "duration": null,
     "end_time": null,
     "exception": null,
     "start_time": null,
     "status": "pending"
    },
    "tags": []
   },
   "source": [
    "# https://pastebin.com/6FNiVLh5/80c3fe2ae1062abf56456f52518bd670f9ec3917b7f85e152b347ac6b6faf880"
   ]
  },
  {
   "cell_type": "markdown",
   "id": "e8013ece",
   "metadata": {
    "papermill": {
     "duration": null,
     "end_time": null,
     "exception": null,
     "start_time": null,
     "status": "pending"
    },
    "tags": []
   },
   "source": [
    "Try me hac\n",
    "https://pastebin.com/6FNiVLh5\n",
    "hash:80c3fe2ae1062abf56456f52518bd670f9ec3917b7f85e152b347ac6b6faf880\n",
    "https://pastebin.com/6FNiVLh5/80c3fe2ae1062abf56456f52\n",
    "\n",
    "# https://pastebin.com/6FNiVLh5/b83599f746f540a3dc53d90939b586938730a9c49100d712df6e001752343efe\n",
    "\n",
    "# MD5\n",
    "\n",
    "https://pastebin.com/6FNiVLh5/21b876e78f381ca94822332225283b69\n",
    "\n",
    "21b876e78f381ca94822332225283b69 \n",
    "\n",
    "# SHA-1\n",
    "\n",
    "https://pastebin.com/6FNiVLh5/4b80eccee27c4566a7a66f1550197dc81b57a734\n",
    "\n",
    "4b80eccee27c4566a7a66f1550197dc81b57a734 \n",
    "\n",
    "# SHA-256\n",
    "\n",
    "https://pastebin.com/6FNiVLh5/b83599f746f540a3dc53d90939b586938730a9c49100d712df6e001752343efe\n",
    "\n",
    "b83599f746f540a3dc53d90939b586938730a9c49100d712df6e001752343efe \n",
    "\n",
    "# Vhash\n",
    "\n",
    "https://pastebin.com/6FNiVLh5/2d64ff3f514c99a40bb23a30227feff3\n",
    "\n",
    "2d64ff3f514c99a40bb23a30227feff3 \n",
    "\n",
    "# SSDEEP\n",
    "\n",
    "https://pastebin.com/6FNiVLh5/384:CFVFR+5M+7kbBkc0g9MpMpZ9OO06Cwf5JlQsWYfw56YoR2ghX18xNObUtGRzsg2j:U3RYR7kbB9N9MqnzfusVYposTSpF6\n",
    "\n",
    "\n",
    "384:CFVFR+5M+7kbBkc0g9MpMpZ9OO06Cwf5JlQsWYfw56YoR2ghX18xNObUtGRzsg2j:U3RYR7kbB9N9MqnzfusVYposTSpF6 \n",
    "\n",
    "# TLSH\n",
    "\n",
    "https://pastebin.com/6FNiVLh5/T135F25231E2852237C17391E179285FAA7FD2856FE62349053EFC93612FD3D22AD27099\n",
    "\n",
    "T135F25231E2852237C17391E179285FAA7FD2856FE62349053EFC93612FD3D22AD27099 \n",
    "\n",
    "\n",
    "\n",
    "\n",
    "\n",
    "\n"
   ]
  },
  {
   "cell_type": "markdown",
   "id": "d94143c0",
   "metadata": {
    "papermill": {
     "duration": null,
     "end_time": null,
     "exception": null,
     "start_time": null,
     "status": "pending"
    },
    "tags": []
   },
   "source": [
    "https://sa-pictures.com/04:82:ba:f41c165ed1dbe7:72\n",
    "\n",
    "http://49.212.207.185\n",
    "\n",
    "http://185.230.60.102\t\n",
    "\n",
    "http://185.230.60.161\n",
    "\n",
    "DNS\n",
    "\n",
    "http://185.230.63.186\n",
    "\n",
    "http://185.230.63.107\n",
    "\n",
    "http://185.230.63.171\n",
    "\n",
    "http://23.236.62.147 \n",
    "\n",
    "http://49.212.207.185 \n",
    "\n",
    "http://157.7.189.61\n",
    "\n",
    "http://203.180.182.155\n",
    "\n",
    "http://163.49.19.118\n",
    "\n",
    "http://150.249.222.113\n",
    "\n",
    "http://203.180.183.68\n",
    "\n",
    "http://61.200.49.121\n",
    "\n",
    "http://202.214.160.62\n",
    "\n",
    "http://203.180.183.78\n",
    "\n",
    "http://104.21.36.93\n",
    "\n",
    "http://142.251.167.84\n",
    "\n",
    "\n",
    "\n"
   ]
  },
  {
   "cell_type": "markdown",
   "id": "9f57ce41",
   "metadata": {
    "papermill": {
     "duration": null,
     "end_time": null,
     "exception": null,
     "start_time": null,
     "status": "pending"
    },
    "tags": []
   },
   "source": [
    "# http://nanahack.com\n",
    "\n",
    "# https://nanahack.com\n",
    "\n",
    "# http://hackmd.io\n",
    "\n",
    "# https://hackmd.io\n",
    "\n",
    "\n",
    "# https://www.hackthebox.com\n",
    "\n",
    "# http://hvac-hacks.com\n",
    "\n",
    "# http://ww38.dnsleaktes.com\n",
    "\n",
    "# https://dnsleak.com\n",
    "\n",
    "# https://ipleak.org\n",
    "\n",
    "# https://ipleak.com\n",
    "\n",
    "# https://ipleak.net\n",
    "\n",
    "# https://ipv6.ipleak.net:62222\n",
    "\n",
    "# https://ipv6.ipleak.net:8000\n",
    "\n",
    "# https://ipleak.net:62222\n",
    "\n",
    "# https://ipleak.net:8000\n",
    "\n",
    "https://gist.githubusercontent.com/schacon/4277/raw/6bd41ad0fef9f4b9a0747a401d9c653d5efddfd4/example_gist_create.rb\n",
    "\n",
    "https://codemirror.net/5/doc/manual.html#option_keyMap\n",
    "\n",
    "https://codemirror.net/5/doc/manual.html#keymaps\n",
    "\n",
    "https://codemirror.net/5/keymap/sublime.js\n",
    "\n",
    "https://codemirror.net/5/demo/sublime.html\n",
    "\n",
    "https://hackmd.io/s/features?utm_source=home&utm_medium=footer\n",
    "\n",
    "|\n",
    "\n",
    "https://hackmd.io/s/\n",
    "\n",
    "https://hackmd.io/yaml-metadata\n",
    "\n",
    "# https://github.com/yaml/yamlscript\n",
    "\n",
    "\n",
    "\n",
    "\n",
    "<iframe width=\"100%\" height=\"500\" src=\"https://hackmd.io/features\" frameborder=\"0\"></iframe>\n",
    "----------------------------------\n",
    "# +\n",
    "\n",
    "https://raw.githubusercontent.com/yaml/yamlscript/refs/heads/main/Changes\n",
    "\n",
    "https://github.com/ingydotnet/json-bash\n",
    "\n",
    "https://github.com/yaml/yamlscript/tree/76ab9e25ce86882b57b16cd46104fda38f964c8a\n",
    "\n",
    "-----------------------------------\n",
    "\n",
    "\n",
    "https://github.com/yaml/yamlscript/blob/main/doc/chain\n",
    "\n",
    "https://raw.githubusercontent.com/yaml/yamlscript/refs/heads/main/perl-alien/doc/Alien/YAMLScript.md\n",
    "https://raw.githubusercontent.com/yaml/yamlscript/refs/heads/main/perl-alien/Meta\n",
    "\n",
    "\n",
    "# https://raw.githubusercontent.com/yaml/yamlscript/d5ca52578d66402ccdb61fd46b66f679dc68f1ce/Changes\n",
    "\n",
    "https://raw.githubusercontent.com/yaml/yamlscript/6a5adc63e6e294c964a94c6f3e4794214aab8a01/perl-alien/test/ffi.t\n",
    "\n",
    "https://raw.githubusercontent.com/yaml/yamlscript/refs/heads/main/yamltest/src/yamltest/core.clj\n",
    "\n",
    "https://raw.githubusercontent.com/yaml/yamlscript/6a5adc63e6e294c964a94c6f3e4794214aab8a01/libyamlscript/src/libyamlscript/core.clj\n",
    "\n",
    "https://raw.githubusercontent.com/yaml/yamlscript/refs/heads/main/clojure/test/yamlscript/main_test.clj\n",
    "\n",
    "https://raw.githubusercontent.com/yaml/yamlscript/6a5adc63e6e294c964a94c6f3e4794214aab8a01/rust/tests/load.rs\n",
    "\n",
    "https://raw.githubusercontent.com/yaml/yamlscript/refs/heads/main/perl-alien/alienfile\n",
    "\n",
    "https://github.com/yaml/yamlscript/tree/main/perl-alien\n",
    "\n",
    "https://github.com/yaml/yamlscript/blob/main/doc/ys-taptest\n",
    "\n",
    "https://github.com/yaml/yamlscript/blob/main/doc/modes\n",
    "\n",
    "https://raw.githubusercontent.com/yaml/yamlscript/refs/heads/main/rust/Cargo.lock\n",
    "\n",
    "https://raw.githubusercontent.com/yaml/yamlscript/refs/heads/main/rust/Cargo.toml\n",
    "\n",
    "https://raw.githubusercontent.com/yaml/yamlscript/refs/heads/main/elixir/mix.lock\n",
    "\n",
    "https://raw.githubusercontent.com/yaml/yamlscript/refs/heads/main/elixir/mix.exs\n",
    "\n",
    "https://raw.githubusercontent.com/yaml/yamlscript/refs/heads/main/rust/tests/load.rs\n",
    "\n",
    "https://raw.githubusercontent.com/yaml/yamlscript/refs/heads/main/rust/.gitignore\n",
    "\n",
    "https://raw.githubusercontent.com/yaml/yamlscript/refs/heads/main/julia/test/runtests.jl\n",
    "\n",
    "https://raw.githubusercontent.com/yaml/yamlscript/refs/heads/main/nodejs/ReadMe.md\n",
    "\n",
    "https://raw.githubusercontent.com/yaml/yamlscript/refs/heads/main/rust/doc/authors.md\n",
    "\n",
    "https://raw.githubusercontent.com/yaml/yamlscript/refs/heads/main/rust/examples/eval_ys_to_json.rs\n",
    "\n",
    "-----------------------------------\n",
    "\n",
    "# https://www.hackerrank.com:443\n",
    "\n",
    "https://hackaday.com\n",
    "\n",
    "# http://hvac-hacks.com\n",
    "\n",
    "# https://hvac-hacks.com\n",
    "\n",
    "# http://hackerslist.co\n",
    "\n",
    "# https://hackerslist.co\n",
    "\n",
    "https://www.hackthebox.com\n",
    "\n",
    "https://hackernoon.com\n",
    "\n",
    "# https://hackstore.rs\n",
    "\n",
    "# https://www.hackster.io\n",
    "\n",
    "http://toubibpc.info\n",
    "\n",
    "https://toubibpc.info\n",
    "\n",
    "# https://www.hackread.com\n",
    "\n",
    "http://jiligame.com\n",
    "\n",
    "https://jiligame.com\n",
    "\n",
    "# https://hacg.sbs\n",
    "\n",
    "http://hacg.be\n",
    "\n",
    "https://hacg.be\n",
    "\n",
    "http://llss.app\n",
    "\n",
    "http://ww25.liuli.se\n",
    "\n",
    "# http://hacg.pro\n",
    "\n",
    "# https://hacg.pro\n",
    "\n",
    "http://ww1.acg18.moe\n",
    "\n",
    "# http://hacgapp.net\n",
    "\n",
    "https://hacgapp.net\n",
    "\n",
    "http://ww6.hacg.tw\n",
    "\n",
    "# http://ww25.hacg.mom\n",
    "\n",
    "https://www.yeah.com\n",
    "\n",
    "# http://10.200.2.259\n",
    "\n",
    "http://10.10.118.47:56779\n",
    "\n",
    "http://10.33.82.75:50129\n",
    "\n",
    "http://10.20.12.29:63805\n",
    "\n",
    "# https://ui-Login.oss.go.id/login\n",
    "\n",
    "http://10.100.10.60:59923\n",
    "\n",
    "http://10.10.10.231:61551\n",
    "\n",
    "http://10.10.10.231:7680\n",
    "\n",
    "http://10.10.12.195:54083\n",
    "\n",
    "# https://www.reverse.net \n",
    "\n",
    "https://jpnic.rdap.apnic.net/ip/2001:448A:2032:1A85:4859:46C8:9Df2:75Ab:62308\n",
    "\n",
    "https://jpnic.rdap.apnic.net/ip/2001:448A:2032:1A85:4859:46C8:9Df2:75Ab:62272\n",
    "\n",
    "https://jpnic.rdap.apnic.net/ip/2001:448A:2032:1A85:4859:46C8:9Df2:75Ab:62264\n",
    "\n",
    "https://jpnic.rdap.apnic.net/ip/2001:448A:2032:1A85:4859:46C8:9Df2:75Ab:62336\n",
    "\n",
    "https://jpnic.rdap.apnic.net/ip/2001:448A:2032:1A85:4859:46C8:9Df2:75Ab:62333\n",
    "\n",
    "https://jpnic.rdap.apnic.net/ip/2404:8000:1005:15D6:c884:e5Cb:c433:f35F:1743\n",
    "\n",
    "https://jpnic.rdap.apnic.net/ip/240:3A80:4246:dc18:e6B8:c08F:dffb:df25\n",
    "\n",
    "https://dte.tn.gov.in/diploma/Results\n",
    "\n",
    "# https://subnet-calculator.org\n",
    "\n",
    "http://10.0.0.176:61562\n",
    "\n",
    "https://ipcalculator.com\n",
    "\n",
    "http://10.0.0.129:8009\n",
    "\n",
    "http://10.0.36.80:49957\n",
    "\n",
    "# http://10.200.2.259\n",
    "\n",
    "http://10.10.118.47:56779\n",
    "\n",
    "# https://dnsleak.com\n",
    "\n",
    "https://dnslaw.com\n",
    "\n",
    "https://dnsle.com\n",
    "\n",
    "# http://ww38.dnsleaktes.com\n",
    "\n",
    "# https://dnsleaktest.com\n",
    "\n",
    "http://10.142.4.99:5357\n",
    "\n",
    "http://10.26.20.179:49408\n",
    "\n",
    "http://10.10.44.92:55734\n",
    "\n",
    "http://10.10.44.234:8008\n",
    "\n",
    "http://10.30.66.99:53893\n",
    "\n",
    "http://10.142.4.99:61782\n",
    "\n",
    "http://10.5.26.38:51912\n",
    "\n",
    "http://10.18.1.62:49419\n",
    "\n",
    "http://10.160.13.255:51461\n",
    "\n",
    "http://10.0.22631.3296\n",
    "\n",
    "http://10.2.3.181:59081\n",
    "\n",
    "http://10.0.0.127:58169\n",
    "\n",
    "http://10.10.10.224:58960\n",
    "\n",
    "http://10.2.129.113:51744\n",
    "\n",
    "https://www.hac.hr\n",
    "\n",
    "https://hac.gov.tr\n",
    "\n",
    "https://hac-wien.at\n",
    "\n",
    "https://sell.sawbrokers.com\n",
    "\n",
    "# https://hac-salon.com\n",
    "\n",
    "# https://hach2c.fr\n",
    "\n",
    "# https://hac.info\n",
    "\n",
    "https://monroe14oo.de\n",
    "\n",
    "# https://ipleak.org\n",
    "\n",
    "# https://ipleak.com\n",
    "\n",
    "# https://ipleak.net\n",
    "\n",
    "# https://www.reverse.net\n",
    "\n",
    "# https://dnslookup.info\n",
    "\n",
    "# http://ww25.lookup.com\n",
    "\n",
    "# https://dns-lookup.com\n",
    "\n",
    "# http://dnslookup.com\n",
    "\n",
    "# https://www.hac.hr\n",
    "\n",
    "http://10.10.106.75:7680\n",
    "\n",
    "# http://hach.com\n",
    "\n",
    "\n",
    "http://10.21.1.196:57820\n",
    "\n",
    "http://10.10.150.66:61386\n",
    "\n",
    "http://10.20.51.43:49742\n",
    "\n",
    "http://10.10.44.92:55734\n",
    "\n",
    "http://10.206.32.110.206.32.1\n",
    "\n",
    "http://10.20.51.43:49699\n",
    "\n",
    "http://10.26.20.179:49408\n",
    "\n",
    "http://10.5.26.38:51912\n",
    "\n",
    "https://10.18.1.62:49419\n",
    "\n",
    "http://10.30.0.91:57063\n",
    "\n",
    "https://10.10.44.92:55734\n",
    "\n",
    "https://10.10.44.234:8008\n",
    "\n",
    "https://10.142.4.99:5357\n",
    "\n",
    "https://10.142.4.99:61782\n",
    "\n",
    "https://10.24.104.210:49340\n",
    "\n",
    "https://10.102.10.77:57911\n",
    "\n",
    "http://10.30.0.91:57063\n",
    "\n",
    "http://10.30.66.99:53893\n",
    "\n",
    "# https://www.monkey.app\n",
    "\n",
    "http://10.142.4.99:5357\n",
    "\n",
    "http://10.142.4.99:61782\n",
    "\n",
    "http://10.5.26.38:51912\n",
    "\n",
    "http://10.18.1.62:49419\n",
    "\n",
    "http://10.10.44.92:55734\n",
    "\n",
    "http://10.10.44.234:8008\n",
    "\n",
    "http://10.10.44.92:55734\n",
    "\n",
    "http://10.10.44.234:8008\n",
    "\n",
    "http://10.30.66.99:53893\n",
    "\n",
    "\n",
    "# https://ipcalculator.com\n",
    "\n",
    "\n"
   ]
  },
  {
   "cell_type": "markdown",
   "id": "dfd2dddd",
   "metadata": {
    "papermill": {
     "duration": null,
     "end_time": null,
     "exception": null,
     "start_time": null,
     "status": "pending"
    },
    "tags": []
   },
   "source": [
    "http://10.10.44.92:55734\n",
    "\n",
    "https://10.10.44.92:55734\n",
    "\n",
    "http://10.142.4.99:61782\n",
    "\n",
    "https://10.142.4.99:61782\n",
    "\n"
   ]
  },
  {
   "cell_type": "markdown",
   "id": "781321b9",
   "metadata": {
    "papermill": {
     "duration": null,
     "end_time": null,
     "exception": null,
     "start_time": null,
     "status": "pending"
    },
    "tags": []
   },
   "source": [
    "# Try me hac\n",
    "\n",
    "https://pastebin.com/6FNiVLh5\n",
    "hash:80c3fe2ae1062abf56456f52518bd670f9ec3917b7f85e152b347ac6b6faf880\n",
    "\n",
    "https://pastebin.com/6FNiVLh5/80c3fe2ae1062abf56456f52\n",
    "\n",
    "# https://pastebin.com/6FNiVLh5/b83599f746f540a3dc53d90939b586938730a9c49100d712df6e001752343efe\n",
    "\n",
    "# MD5\n",
    "\n",
    "https://pastebin.com/6FNiVLh5/21b876e78f381ca94822332225283b69\n",
    "\n",
    "21b876e78f381ca94822332225283b69 \n",
    "\n",
    "# SHA-1\n",
    "\n",
    "https://pastebin.com/6FNiVLh5/4b80eccee27c4566a7a66f1550197dc81b57a734\n",
    "\n",
    "4b80eccee27c4566a7a66f1550197dc81b57a734 \n",
    "\n",
    "# SHA-256\n",
    "\n",
    "https://pastebin.com/6FNiVLh5/b83599f746f540a3dc53d90939b586938730a9c49100d712df6e001752343efe\n",
    "\n",
    "b83599f746f540a3dc53d90939b586938730a9c49100d712df6e001752343efe \n",
    "\n",
    "# Vhash\n",
    "\n",
    "https://pastebin.com/6FNiVLh5/2d64ff3f514c99a40bb23a30227feff3\n",
    "\n",
    "2d64ff3f514c99a40bb23a30227feff3 \n",
    "\n",
    "# SSDEEP\n",
    "\n",
    "https://pastebin.com/6FNiVLh5/384:CFVFR+5M+7kbBkc0g9MpMpZ9OO06Cwf5JlQsWYfw56YoR2ghX18xNObUtGRzsg2j:U3RYR7kbB9N9MqnzfusVYposTSpF6\n",
    "\n",
    "\n",
    "384:CFVFR+5M+7kbBkc0g9MpMpZ9OO06Cwf5JlQsWYfw56YoR2ghX18xNObUtGRzsg2j:U3RYR7kbB9N9MqnzfusVYposTSpF6 \n",
    "\n",
    "# TLSH\n",
    "\n",
    "https://pastebin.com/6FNiVLh5/T135F25231E2852237C17391E179285FAA7FD2856FE62349053EFC93612FD3D22AD27099\n",
    "\n",
    "T135F25231E2852237C17391E179285FAA7FD2856FE62349053EFC93612FD3D22AD27099 \n"
   ]
  },
  {
   "cell_type": "markdown",
   "id": "291ed090",
   "metadata": {
    "papermill": {
     "duration": null,
     "end_time": null,
     "exception": null,
     "start_time": null,
     "status": "pending"
    },
    "tags": []
   },
   "source": [
    "# hac reverse"
   ]
  },
  {
   "cell_type": "code",
   "execution_count": null,
   "id": "306185d0",
   "metadata": {
    "papermill": {
     "duration": null,
     "end_time": null,
     "exception": null,
     "start_time": null,
     "status": "pending"
    },
    "tags": []
   },
   "outputs": [],
   "source": [
    "データセット_df = pd.read_csv('https://www.cfr21.org/train.csv') print(\"Full train dataset shape is {}\".format(dataset_df.shape))\n"
   ]
  },
  {
   "cell_type": "code",
   "execution_count": null,
   "id": "5b13e2f8",
   "metadata": {
    "papermill": {
     "duration": null,
     "end_time": null,
     "exception": null,
     "start_time": null,
     "status": "pending"
    },
    "tags": []
   },
   "outputs": [],
   "source": [
    "データセット_df = pd.read_csv('https://www.cfr38.org/train.csv') print(\"Full train dataset shape is {}\".format(dataset_df.shape))\n"
   ]
  },
  {
   "cell_type": "code",
   "execution_count": null,
   "id": "10a99ee8",
   "metadata": {
    "papermill": {
     "duration": null,
     "end_time": null,
     "exception": null,
     "start_time": null,
     "status": "pending"
    },
    "tags": []
   },
   "outputs": [],
   "source": [
    "印刷物('https://106590.s3.ap-northeast-1.amazonaws.com/49316.html')"
   ]
  },
  {
   "cell_type": "markdown",
   "id": "d549bf37",
   "metadata": {
    "papermill": {
     "duration": null,
     "end_time": null,
     "exception": null,
     "start_time": null,
     "status": "pending"
    },
    "tags": []
   },
   "source": [
    "https://106590.s3.ap-northeast-1.amazonaws.com/49316.html"
   ]
  },
  {
   "cell_type": "code",
   "execution_count": null,
   "id": "04da5aa0",
   "metadata": {
    "papermill": {
     "duration": null,
     "end_time": null,
     "exception": null,
     "start_time": null,
     "status": "pending"
    },
    "tags": []
   },
   "outputs": [],
   "source": [
    "印刷物('http://13.112.84.82')"
   ]
  },
  {
   "cell_type": "markdown",
   "id": "a5b52a27",
   "metadata": {
    "papermill": {
     "duration": null,
     "end_time": null,
     "exception": null,
     "start_time": null,
     "status": "pending"
    },
    "tags": []
   },
   "source": [
    "http://13.112.84.82"
   ]
  },
  {
   "cell_type": "code",
   "execution_count": null,
   "id": "30164b59",
   "metadata": {
    "papermill": {
     "duration": null,
     "end_time": null,
     "exception": null,
     "start_time": null,
     "status": "pending"
    },
    "tags": []
   },
   "outputs": [],
   "source": [
    "印刷物('http://13.107.6.158')"
   ]
  },
  {
   "cell_type": "markdown",
   "id": "5bcf6376",
   "metadata": {
    "papermill": {
     "duration": null,
     "end_time": null,
     "exception": null,
     "start_time": null,
     "status": "pending"
    },
    "tags": []
   },
   "source": [
    "http://13.107.6.158"
   ]
  },
  {
   "cell_type": "code",
   "execution_count": null,
   "id": "53822bda",
   "metadata": {
    "papermill": {
     "duration": null,
     "end_time": null,
     "exception": null,
     "start_time": null,
     "status": "pending"
    },
    "tags": []
   },
   "outputs": [],
   "source": [
    "印刷物('http://13.107.6.158:443')"
   ]
  },
  {
   "cell_type": "markdown",
   "id": "b4248fab",
   "metadata": {
    "papermill": {
     "duration": null,
     "end_time": null,
     "exception": null,
     "start_time": null,
     "status": "pending"
    },
    "tags": []
   },
   "source": [
    "http://13.107.6.158:443"
   ]
  },
  {
   "cell_type": "code",
   "execution_count": null,
   "id": "96eced0d",
   "metadata": {
    "papermill": {
     "duration": null,
     "end_time": null,
     "exception": null,
     "start_time": null,
     "status": "pending"
    },
    "tags": []
   },
   "outputs": [],
   "source": [
    "印刷物('https://api.github.com/_private/browser/errors')"
   ]
  },
  {
   "cell_type": "markdown",
   "id": "bf7dcd92",
   "metadata": {
    "papermill": {
     "duration": null,
     "end_time": null,
     "exception": null,
     "start_time": null,
     "status": "pending"
    },
    "tags": []
   },
   "source": [
    "https://api.github.com/_private/browser/errors"
   ]
  },
  {
   "cell_type": "code",
   "execution_count": null,
   "id": "404d858a",
   "metadata": {
    "papermill": {
     "duration": null,
     "end_time": null,
     "exception": null,
     "start_time": null,
     "status": "pending"
    },
    "tags": []
   },
   "outputs": [],
   "source": [
    "印刷物('http://10.200.2.259')"
   ]
  },
  {
   "cell_type": "markdown",
   "id": "9fa2f087",
   "metadata": {
    "papermill": {
     "duration": null,
     "end_time": null,
     "exception": null,
     "start_time": null,
     "status": "pending"
    },
    "tags": []
   },
   "source": [
    "http://10.200.2.259"
   ]
  },
  {
   "cell_type": "code",
   "execution_count": null,
   "id": "0a4fbc16",
   "metadata": {
    "papermill": {
     "duration": null,
     "end_time": null,
     "exception": null,
     "start_time": null,
     "status": "pending"
    },
    "tags": []
   },
   "outputs": [],
   "source": [
    "印刷物('https://www.cfr.org')\n",
    "印刷物('https://www.cfr21.org')\n",
    "印刷物('https://www.cfr38.org')\n",
    "印刷物('https://en.asuka.io/whois/ncbank.co.jp')"
   ]
  },
  {
   "cell_type": "markdown",
   "id": "feec9dd5",
   "metadata": {
    "papermill": {
     "duration": null,
     "end_time": null,
     "exception": null,
     "start_time": null,
     "status": "pending"
    },
    "tags": []
   },
   "source": [
    "https://www.cfr.org\n",
    "\n",
    "https://www.cfr21.org\n",
    "\n",
    "https://www.cfr38.org\n",
    "\n",
    "https://en.asuka.io/whois/ncbank.co.jp"
   ]
  },
  {
   "cell_type": "code",
   "execution_count": null,
   "id": "e8596da2",
   "metadata": {
    "papermill": {
     "duration": null,
     "end_time": null,
     "exception": null,
     "start_time": null,
     "status": "pending"
    },
    "tags": []
   },
   "outputs": [],
   "source": [
    "印刷物('https://ws.formzu.net/fgen/S16965542/')"
   ]
  },
  {
   "cell_type": "markdown",
   "id": "c6964a18",
   "metadata": {
    "papermill": {
     "duration": null,
     "end_time": null,
     "exception": null,
     "start_time": null,
     "status": "pending"
    },
    "tags": []
   },
   "source": [
    "https://ws.formzu.net/fgen/S16965542/"
   ]
  },
  {
   "cell_type": "code",
   "execution_count": null,
   "id": "072aa37e",
   "metadata": {
    "papermill": {
     "duration": null,
     "end_time": null,
     "exception": null,
     "start_time": null,
     "status": "pending"
    },
    "tags": []
   },
   "outputs": [],
   "source": [
    "印刷物('http://10.0.22631.3296')\n",
    "印刷物('http://10.2.3.181:59081/')\n",
    "印刷物('http://10.2.129.113:51744/')\n",
    "印刷物('http://10.10.10.224:58960/')\n",
    "印刷物('http://10.0.0.127:58169/')\n",
    "印刷物('http://10.160.13.255:51461/')\n",
    "印刷物('http://10.26.20.179:49408/')\n",
    "印刷物('http://10.142.4.99:5357/')"
   ]
  },
  {
   "cell_type": "markdown",
   "id": "73d105ef",
   "metadata": {
    "papermill": {
     "duration": null,
     "end_time": null,
     "exception": null,
     "start_time": null,
     "status": "pending"
    },
    "tags": []
   },
   "source": [
    "http://10.0.22631.3296\n",
    "\n",
    "http://10.2.3.181:59081/\n",
    "\n",
    "http://10.2.129.113:51744/\n",
    "\n",
    "http://10.10.10.224:58960/\n",
    "\n",
    "http://10.0.0.127:58169/\n",
    "\n",
    "http://10.160.13.255:51461/\n",
    "\n",
    "http://10.26.20.179:49408/\n",
    "\n",
    "http://10.142.4.99:5357/\n",
    "\n"
   ]
  },
  {
   "cell_type": "markdown",
   "id": "fda0f9bf",
   "metadata": {
    "papermill": {
     "duration": null,
     "end_time": null,
     "exception": null,
     "start_time": null,
     "status": "pending"
    },
    "tags": []
   },
   "source": [
    "\n",
    "https://api.github.com/_private/browser/errors\n",
    "\n",
    "# |\n",
    "\n",
    "https://github.githubassets.com/assets/wp-runtime-974ee7f34645.js\n",
    "\n",
    "https://github.githubassets.com/assets/vendors-node_modules_dompurify_dist_purify_js-b73fdff77a4e.js\n",
    "\n",
    "https://github.githubassets.com/assets/vendors-node_modules_oddbird_popover-polyfill_dist_popover_js-56729c905fe2.js\n",
    "\n",
    "https://github.githubassets.com/assets/vendors-node_modules_github_arianotify-polyfill_ariaNotify-polyfill_js-node_modules_github_mi-247092-76666ec8c39f.js\n",
    "\n",
    "https://github.githubassets.com/assets/ui_packages_failbot_failbot_ts-aabfa4ec15fe.js\n",
    "\n",
    "https://github.githubassets.com/assets/environment-d0410c4d2a74.js\n",
    "\n",
    "https://github.githubassets.com/assets/vendors-node_modules_primer_behaviors_dist_esm_index_mjs-4aa4b0e95669.js\n",
    "\n",
    "https://github.githubassets.com/assets/vendors-node_modules_github_selector-observer_dist_index_esm_js-f690fd9ae3d5.js\n",
    "\n",
    "https://github.githubassets.com/assets/vendors-node_modules_github_relative-time-element_dist_index_js-6d3967acd51c.js\n",
    "\n",
    "\n"
   ]
  },
  {
   "cell_type": "code",
   "execution_count": null,
   "id": "91d7686e",
   "metadata": {
    "papermill": {
     "duration": null,
     "end_time": null,
     "exception": null,
     "start_time": null,
     "status": "pending"
    },
    "tags": []
   },
   "outputs": [],
   "source": [
    "印刷物 ('\"C:\\pログラムファイル(x86)\\mマイクロソフト\\edge\\a複製\\msedge.exe\" \"C:\\uセルス\\<使用者>\\desktop\\document.html\"') "
   ]
  },
  {
   "cell_type": "markdown",
   "id": "4b266f70",
   "metadata": {
    "papermill": {
     "duration": null,
     "end_time": null,
     "exception": null,
     "start_time": null,
     "status": "pending"
    },
    "tags": []
   },
   "source": [
    "\"C:\\Program Files (x86)\\Microsoft\\Edge\\Application\\msedge.exe\" \"C:\\Users\\<USER>\\Desktop\\document.html\""
   ]
  },
  {
   "cell_type": "code",
   "execution_count": null,
   "id": "999bc347",
   "metadata": {
    "papermill": {
     "duration": null,
     "end_time": null,
     "exception": null,
     "start_time": null,
     "status": "pending"
    },
    "tags": []
   },
   "outputs": [],
   "source": [
    "印刷物 ('https://recruit@fourty-five.com') "
   ]
  },
  {
   "cell_type": "markdown",
   "id": "a980013d",
   "metadata": {
    "papermill": {
     "duration": null,
     "end_time": null,
     "exception": null,
     "start_time": null,
     "status": "pending"
    },
    "tags": []
   },
   "source": [
    "https://recruit@fourty-five.com"
   ]
  },
  {
   "cell_type": "code",
   "execution_count": null,
   "id": "123955fe",
   "metadata": {
    "papermill": {
     "duration": null,
     "end_time": null,
     "exception": null,
     "start_time": null,
     "status": "pending"
    },
    "tags": []
   },
   "outputs": [],
   "source": [
    "印刷物 ('https://corosuke.kite@gmail.com') "
   ]
  },
  {
   "cell_type": "markdown",
   "id": "3ed062c2",
   "metadata": {
    "papermill": {
     "duration": null,
     "end_time": null,
     "exception": null,
     "start_time": null,
     "status": "pending"
    },
    "tags": []
   },
   "source": [
    "https://corosuke.kite@gmail.com"
   ]
  },
  {
   "cell_type": "code",
   "execution_count": null,
   "id": "fddc66f6",
   "metadata": {
    "papermill": {
     "duration": null,
     "end_time": null,
     "exception": null,
     "start_time": null,
     "status": "pending"
    },
    "tags": []
   },
   "outputs": [],
   "source": [
    "印刷物 ('https://iponedougafilenavigator@gmail.com') "
   ]
  },
  {
   "cell_type": "markdown",
   "id": "850cdce4",
   "metadata": {
    "papermill": {
     "duration": null,
     "end_time": null,
     "exception": null,
     "start_time": null,
     "status": "pending"
    },
    "tags": []
   },
   "source": [
    "https://iponedougafilenavigator@gmail.com"
   ]
  },
  {
   "cell_type": "code",
   "execution_count": null,
   "id": "a9de24c0",
   "metadata": {
    "papermill": {
     "duration": null,
     "end_time": null,
     "exception": null,
     "start_time": null,
     "status": "pending"
    },
    "tags": []
   },
   "outputs": [],
   "source": [
    "印刷物 ('https://mail.shikorina@gmail.com') "
   ]
  },
  {
   "cell_type": "markdown",
   "id": "a68d8463",
   "metadata": {
    "papermill": {
     "duration": null,
     "end_time": null,
     "exception": null,
     "start_time": null,
     "status": "pending"
    },
    "tags": []
   },
   "source": [
    "https://mail.shikorina@gmail.com"
   ]
  },
  {
   "cell_type": "markdown",
   "id": "64ff0163",
   "metadata": {
    "papermill": {
     "duration": null,
     "end_time": null,
     "exception": null,
     "start_time": null,
     "status": "pending"
    },
    "tags": []
   },
   "source": [
    "https://www.reverse.net"
   ]
  },
  {
   "cell_type": "code",
   "execution_count": null,
   "id": "625592c1",
   "metadata": {
    "papermill": {
     "duration": null,
     "end_time": null,
     "exception": null,
     "start_time": null,
     "status": "pending"
    },
    "tags": []
   },
   "outputs": [],
   "source": [
    "印刷物 ('https://www.reverse.net') "
   ]
  },
  {
   "cell_type": "markdown",
   "id": "d8d4e8b8",
   "metadata": {
    "papermill": {
     "duration": null,
     "end_time": null,
     "exception": null,
     "start_time": null,
     "status": "pending"
    },
    "tags": []
   },
   "source": [
    "https://subnet-calculator.org\n",
    "\n",
    "https://subnet-calculator.org/download.html\n"
   ]
  },
  {
   "cell_type": "code",
   "execution_count": null,
   "id": "3d1235be",
   "metadata": {
    "papermill": {
     "duration": null,
     "end_time": null,
     "exception": null,
     "start_time": null,
     "status": "pending"
    },
    "tags": []
   },
   "outputs": [],
   "source": [
    "印刷物 ('https://subnet-calculator.org') "
   ]
  },
  {
   "cell_type": "code",
   "execution_count": null,
   "id": "59734fe7",
   "metadata": {
    "papermill": {
     "duration": null,
     "end_time": null,
     "exception": null,
     "start_time": null,
     "status": "pending"
    },
    "tags": []
   },
   "outputs": [],
   "source": [
    "印刷物 ('https://subnet-calculator.org/download.html') "
   ]
  },
  {
   "cell_type": "markdown",
   "id": "b84b4af6",
   "metadata": {
    "papermill": {
     "duration": null,
     "end_time": null,
     "exception": null,
     "start_time": null,
     "status": "pending"
    },
    "tags": []
   },
   "source": [
    "http://hach.com\n"
   ]
  },
  {
   "cell_type": "code",
   "execution_count": null,
   "id": "b56fc873",
   "metadata": {
    "papermill": {
     "duration": null,
     "end_time": null,
     "exception": null,
     "start_time": null,
     "status": "pending"
    },
    "tags": []
   },
   "outputs": [],
   "source": [
    "印刷物 ('http://hach.com') "
   ]
  },
  {
   "cell_type": "markdown",
   "id": "8ae3f4cb",
   "metadata": {
    "papermill": {
     "duration": null,
     "end_time": null,
     "exception": null,
     "start_time": null,
     "status": "pending"
    },
    "tags": []
   },
   "source": [
    "https://ipcalculator.com"
   ]
  },
  {
   "cell_type": "code",
   "execution_count": null,
   "id": "3f43c50d",
   "metadata": {
    "papermill": {
     "duration": null,
     "end_time": null,
     "exception": null,
     "start_time": null,
     "status": "pending"
    },
    "tags": []
   },
   "outputs": [],
   "source": [
    "印刷物 ('https://ipcalculator.com') "
   ]
  },
  {
   "cell_type": "markdown",
   "id": "6c14f8bd",
   "metadata": {
    "papermill": {
     "duration": null,
     "end_time": null,
     "exception": null,
     "start_time": null,
     "status": "pending"
    },
    "tags": []
   },
   "source": [
    "https://dns-lookup.com\n"
   ]
  },
  {
   "cell_type": "code",
   "execution_count": null,
   "id": "b8c6d6c7",
   "metadata": {
    "papermill": {
     "duration": null,
     "end_time": null,
     "exception": null,
     "start_time": null,
     "status": "pending"
    },
    "tags": []
   },
   "outputs": [],
   "source": [
    "印刷物 ('https://dns-lookup.com') \n"
   ]
  },
  {
   "cell_type": "markdown",
   "id": "013b2abe",
   "metadata": {
    "papermill": {
     "duration": null,
     "end_time": null,
     "exception": null,
     "start_time": null,
     "status": "pending"
    },
    "tags": []
   },
   "source": [
    "http://dnslookup.com\n"
   ]
  },
  {
   "cell_type": "code",
   "execution_count": null,
   "id": "58b62906",
   "metadata": {
    "papermill": {
     "duration": null,
     "end_time": null,
     "exception": null,
     "start_time": null,
     "status": "pending"
    },
    "tags": []
   },
   "outputs": [],
   "source": [
    "印刷物 ('http://dnslookup.com') "
   ]
  },
  {
   "cell_type": "markdown",
   "id": "991cabad",
   "metadata": {
    "papermill": {
     "duration": null,
     "end_time": null,
     "exception": null,
     "start_time": null,
     "status": "pending"
    },
    "tags": []
   },
   "source": [
    "https://www.monkey.app"
   ]
  },
  {
   "cell_type": "code",
   "execution_count": null,
   "id": "cb4d1a77",
   "metadata": {
    "papermill": {
     "duration": null,
     "end_time": null,
     "exception": null,
     "start_time": null,
     "status": "pending"
    },
    "tags": []
   },
   "outputs": [],
   "source": [
    "印刷物 ('https://www.monkey.app') "
   ]
  },
  {
   "cell_type": "markdown",
   "id": "48986221",
   "metadata": {
    "papermill": {
     "duration": null,
     "end_time": null,
     "exception": null,
     "start_time": null,
     "status": "pending"
    },
    "tags": []
   },
   "source": [
    "https://leak.sx\n"
   ]
  },
  {
   "cell_type": "code",
   "execution_count": null,
   "id": "8e9d0a41",
   "metadata": {
    "papermill": {
     "duration": null,
     "end_time": null,
     "exception": null,
     "start_time": null,
     "status": "pending"
    },
    "tags": []
   },
   "outputs": [],
   "source": [
    "印刷物 ('https://leak.sx') "
   ]
  },
  {
   "cell_type": "markdown",
   "id": "35bb8f21",
   "metadata": {
    "papermill": {
     "duration": null,
     "end_time": null,
     "exception": null,
     "start_time": null,
     "status": "pending"
    },
    "tags": []
   },
   "source": [
    "http://ww25.lookup.com"
   ]
  },
  {
   "cell_type": "code",
   "execution_count": null,
   "id": "8fee6eaf",
   "metadata": {
    "papermill": {
     "duration": null,
     "end_time": null,
     "exception": null,
     "start_time": null,
     "status": "pending"
    },
    "tags": []
   },
   "outputs": [],
   "source": [
    "印刷物 ('http://ww25.lookup.com') "
   ]
  },
  {
   "cell_type": "markdown",
   "id": "76b60c62",
   "metadata": {
    "papermill": {
     "duration": null,
     "end_time": null,
     "exception": null,
     "start_time": null,
     "status": "pending"
    },
    "tags": []
   },
   "source": [
    "Rolls-Royce\n",
    "\n",
    "品川342 ゆ55-55\n",
    "\n",
    "http://10.25.104.238:50318\n",
    "\n",
    "\n",
    "\n"
   ]
  },
  {
   "cell_type": "code",
   "execution_count": null,
   "id": "adb5af52",
   "metadata": {
    "papermill": {
     "duration": null,
     "end_time": null,
     "exception": null,
     "start_time": null,
     "status": "pending"
    },
    "tags": []
   },
   "outputs": [],
   "source": [
    "印刷物 (' 「http://10.25.104.238:50318」) "
   ]
  },
  {
   "cell_type": "markdown",
   "id": "68ddb48b",
   "metadata": {
    "papermill": {
     "duration": null,
     "end_time": null,
     "exception": null,
     "start_time": null,
     "status": "pending"
    },
    "tags": []
   },
   "source": [
    "**LAMBORGHINI**\n",
    "\n",
    "品川344て55-55\n",
    "\n",
    "https://Laboratory.stolendata.net/174.36.228.136:56\n",
    "\n",
    "https://laboratory.stolendata.net/174.36.228.136%20:%2056 \n",
    "\n"
   ]
  },
  {
   "cell_type": "code",
   "execution_count": null,
   "id": "ee21149a",
   "metadata": {
    "papermill": {
     "duration": null,
     "end_time": null,
     "exception": null,
     "start_time": null,
     "status": "pending"
    },
    "tags": []
   },
   "outputs": [],
   "source": [
    "print (' 「https://laboratory.stolendata.net/174.36.228.136%20:%2056」) "
   ]
  },
  {
   "cell_type": "markdown",
   "id": "19c88eb2",
   "metadata": {
    "papermill": {
     "duration": null,
     "end_time": null,
     "exception": null,
     "start_time": null,
     "status": "pending"
    },
    "tags": []
   },
   "source": [
    "d465172175d35d493fb1633e237700022bd849fa123164790b168b8318acb090\n",
    "\n",
    "Basic properties\n",
    "\n",
    "MD5\n",
    "\n",
    "370e16c3b7dba286cff055f93b9a94d8\n",
    "\n",
    " \n",
    "\n",
    "SHA-1\n",
    "\n",
    "65f3537c3c798f7da146c55aef536f7b5d0cb943\n",
    "\n",
    " \n",
    "\n",
    "SHA-256\n",
    "\n",
    "d465172175d35d493fb1633e237700022bd849fa123164790b168b8318acb090\n",
    "\n",
    " \n",
    "\n",
    "Vhash\n",
    "\n",
    "81dc9bdb52d04dc20036dbd8313ed055\n",
    "\n",
    " \n",
    "\n",
    "SSDEEP\n",
    "\n",
    "12:TjeRHVIdtklI5r8INGlTF5TF5TF5TF5TF5TFK:neRH68DTPTPTPTPTPTc\n",
    "\n",
    " \n",
    "\n",
    "TLSH\n",
    "\n",
    "T102F0909F5F12287F2E238571F4C35169CF680A57FB9925E28748011F7ACA04549F1FAD\n",
    "\n",
    " \n",
    "\n",
    "khbb8ehxllb_3o.jpg9683459a-02fa-4bd6-9ae6-af8ddfbeef3510800iframe_widget_multi_slide.jsscreenrec-v3-beta-win64-5.0.1.0.zipoorder.hotnspicy.aePixologic_Zbrush_2025.1.2.rarKRubuntu-b.ttfua-ms32f303tas-mg23f302tas-ua-464324234.jpg);queryConfigforgotPasswordfavicon.icomain.htmlhome-benefit-index.htmlclickqgV9consulter-profilplaylist-toho.collection-poster.xxxDigiCertGlobalR&(yLWKdiscord%20soft%20set%20up.exeimage_2023_09_19t10_03_36_041z.pngeval-stdin.phpegain-logo-purple-1.pngprivacy.htmlhexin.csvwish_indexhelpcenter.7f309b616709b4c7.jsrepayment.abd4591cfbbea503.jsc2ccollection.83031c410ee10326.jsv-t-silk-flower-plants-incprinterlistc2cbuy.8d28c0f45b9e67fa.jstermsofservice.bf94ac3c14e39489.jsadvancedctf.5cc2d4fcdeb32587.jsrunadminwan.htmautodiscover.xmlclarkes-lawn-careshowenvcreatepage-entervariables.actionma_in1s2_icon6.pngt01d2dd9fa8b5997763.pngaccountchange.50e332e6b2267bfc.jswebui_wsma_httpbackupsettings.datrechargewithdrawrecord.865b2ef39aa6603e.jslatofonts.csssavead.6a61f4a650f29989.jsresetpassword.de0d61bdb3ee59c5.jsfundbuy.b606283f36fd3e84.jsbankcardetail.298bbfa1362ced6b.jsmain.jshappy-jojo-flower-shopj-s-nurserylander56d5c46f-dd65-4579-b29e-4866dfa29055main.zip%253247471716701572.htmli4crr.llnnnn.xyztmh7bj55xyt+kvhdyhxvsswd35nvtijlnszydspnbbpp3mow3nix+ysk0ixklvrnlxarwpc1kxazwnujvwkcybhxkyhvlmwa==&ef=judzwmvq==DigiCertGlobalRootG2.crl2Ie20bd6540-41c5-4c53-a184-ea4bac2d1433.jpg);GmNVDigiCerb-7_b1500m0Pg7XRAN_CampusActionHandbook.pdf1032win30.phpnorton_private_browser_setup.exe%25Assistant_118.0.5461.41_Setup.exeAbvergwvn.jpgcl2vus5hocflvql_3454812376download_25_10_5.shlogo.pnggetadsmetadata5eb52c68d9b6bfe97e9614827f446fb9.pngBiucrt.msi(CQlist.jpgnetc14153.0$versionFolder50px-Spiderstep_Boots_Unfadede9efee9984f4850e74ea128462a1bc16706c0e94.stl;Yjump118.tlib_d.msiOblankPNSE3_mesures_phares-1.pdf1553358.htmllatin-sex-in-the-morning\n",
    "\n",
    "\n",
    "\n"
   ]
  },
  {
   "cell_type": "code",
   "execution_count": null,
   "id": "eab241cb",
   "metadata": {
    "papermill": {
     "duration": null,
     "end_time": null,
     "exception": null,
     "start_time": null,
     "status": "pending"
    },
    "tags": []
   },
   "outputs": [],
   "source": [
    "d465172175d35d493fb1633e237700022bd849fa123164790b168b8318acb090\n",
    "\n",
    "Basic properties\n",
    "\n",
    "MD5\n",
    "\n",
    "370e16c3b7dba286cff055f93b9a94d8\n",
    "\n",
    " \n",
    "\n",
    "SHA-1\n",
    "\n",
    "65f3537c3c798f7da146c55aef536f7b5d0cb943\n",
    "\n",
    " \n",
    "\n",
    "SHA-256\n",
    "\n",
    "d465172175d35d493fb1633e237700022bd849fa123164790b168b8318acb090\n",
    "\n",
    " \n",
    "\n",
    "Vhash\n",
    "\n",
    "81dc9bdb52d04dc20036dbd8313ed055\n",
    "\n",
    " \n",
    "\n",
    "SSDEEP\n",
    "\n",
    "12:TjeRHVIdtklI5r8INGlTF5TF5TF5TF5TF5TFK:neRH68DTPTPTPTPTPTc\n",
    "\n",
    " \n",
    "\n",
    "TLSH\n",
    "\n",
    "T102F0909F5F12287F2E238571F4C35169CF680A57FB9925E28748011F7ACA04549F1FAD\n",
    "\n",
    " \n",
    "\n",
    "khbb8ehxllb_3o.jpg9683459a-02fa-4bd6-9ae6-af8ddfbeef3510800iframe_widget_multi_slide.jsscreenrec-v3-beta-win64-5.0.1.0.zipoorder.hotnspicy.aePixologic_Zbrush_2025.1.2.rarKRubuntu-b.ttfua-ms32f303tas-mg23f302tas-ua-464324234.jpg);queryConfigforgotPasswordfavicon.icomain.htmlhome-benefit-index.htmlclickqgV9consulter-profilplaylist-toho.collection-poster.xxxDigiCertGlobalR&(yLWKdiscord%20soft%20set%20up.exeimage_2023_09_19t10_03_36_041z.pngeval-stdin.phpegain-logo-purple-1.pngprivacy.htmlhexin.csvwish_indexhelpcenter.7f309b616709b4c7.jsrepayment.abd4591cfbbea503.jsc2ccollection.83031c410ee10326.jsv-t-silk-flower-plants-incprinterlistc2cbuy.8d28c0f45b9e67fa.jstermsofservice.bf94ac3c14e39489.jsadvancedctf.5cc2d4fcdeb32587.jsrunadminwan.htmautodiscover.xmlclarkes-lawn-careshowenvcreatepage-entervariables.actionma_in1s2_icon6.pngt01d2dd9fa8b5997763.pngaccountchange.50e332e6b2267bfc.jswebui_wsma_httpbackupsettings.datrechargewithdrawrecord.865b2ef39aa6603e.jslatofonts.csssavead.6a61f4a650f29989.jsresetpassword.de0d61bdb3ee59c5.jsfundbuy.b606283f36fd3e84.jsbankcardetail.298bbfa1362ced6b.jsmain.jshappy-jojo-flower-shopj-s-nurserylander56d5c46f-dd65-4579-b29e-4866dfa29055main.zip%253247471716701572.htmli4crr.llnnnn.xyztmh7bj55xyt+kvhdyhxvsswd35nvtijlnszydspnbbpp3mow3nix+ysk0ixklvrnlxarwpc1kxazwnujvwkcybhxkyhvlmwa==&ef=judzwmvq==DigiCertGlobalRootG2.crl2Ie20bd6540-41c5-4c53-a184-ea4bac2d1433.jpg);GmNVDigiCerb-7_b1500m0Pg7XRAN_CampusActionHandbook.pdf1032win30.phpnorton_private_browser_setup.exe%25Assistant_118.0.5461.41_Setup.exeAbvergwvn.jpgcl2vus5hocflvql_3454812376download_25_10_5.shlogo.pnggetadsmetadata5eb52c68d9b6bfe97e9614827f446fb9.pngBiucrt.msi(CQlist.jpgnetc14153.0$versionFolder50px-Spiderstep_Boots_Unfadede9efee9984f4850e74ea128462a1bc16706c0e94.stl;Yjump118.tlib_d.msiOblankPNSE3_mesures_phares-1.pdf1553358.htmllatin-sex-in-the-morning\n"
   ]
  },
  {
   "cell_type": "markdown",
   "id": "ca034825",
   "metadata": {
    "papermill": {
     "duration": null,
     "end_time": null,
     "exception": null,
     "start_time": null,
     "status": "pending"
    },
    "tags": []
   },
   "source": [
    "品川399ゆ55-55\n",
    "\n"
   ]
  },
  {
   "cell_type": "code",
   "execution_count": null,
   "id": "55567190",
   "metadata": {
    "papermill": {
     "duration": null,
     "end_time": null,
     "exception": null,
     "start_time": null,
     "status": "pending"
    },
    "tags": []
   },
   "outputs": [],
   "source": [
    "print (' http://10.88.158.17:7680 ') "
   ]
  },
  {
   "cell_type": "markdown",
   "id": "e10046e3",
   "metadata": {
    "papermill": {
     "duration": null,
     "end_time": null,
     "exception": null,
     "start_time": null,
     "status": "pending"
    },
    "tags": []
   },
   "source": [
    "http://10.88.158.17:7680"
   ]
  },
  {
   "cell_type": "markdown",
   "id": "6305d8ea",
   "metadata": {
    "papermill": {
     "duration": null,
     "end_time": null,
     "exception": null,
     "start_time": null,
     "status": "pending"
    },
    "tags": []
   },
   "source": [
    "# emiria 45 5P pointer\n",
    "\n",
    "# 03-5155-5245\n",
    "\n",
    "http://10.50.185.203:7680\n",
    "\n",
    "http://10.50.185.203:49181\n",
    "\n",
    "http://10.112.3.325\n",
    "\n",
    "http://10.50.185.203:49957\n",
    "\n",
    "http://10.1080/15548627.2024.2325297\n",
    "\n",
    "http://10.45.159.18.2409.4072:69B:1732::20D1:f0A4\n",
    "\n",
    "\n",
    "\n",
    "norm他\n",
    "\n",
    "\n",
    "\n",
    "http://10.54.157.249:8080\n",
    "\n",
    "\n",
    "\n",
    "http://10.54.157.249\n",
    "\n",
    "\n",
    "\n",
    "\n"
   ]
  },
  {
   "cell_type": "code",
   "execution_count": null,
   "id": "738081ab",
   "metadata": {
    "papermill": {
     "duration": null,
     "end_time": null,
     "exception": null,
     "start_time": null,
     "status": "pending"
    },
    "tags": []
   },
   "outputs": [],
   "source": [
    "print (' http://10.3.35.67:49410 ') "
   ]
  },
  {
   "cell_type": "markdown",
   "id": "bb169b59",
   "metadata": {
    "papermill": {
     "duration": null,
     "end_time": null,
     "exception": null,
     "start_time": null,
     "status": "pending"
    },
    "tags": []
   },
   "source": [
    "http://10.3.35.67:49410"
   ]
  },
  {
   "cell_type": "code",
   "execution_count": null,
   "id": "90f73191",
   "metadata": {
    "papermill": {
     "duration": null,
     "end_time": null,
     "exception": null,
     "start_time": null,
     "status": "pending"
    },
    "tags": []
   },
   "outputs": [],
   "source": [
    "print (' http://10.3.35.67:52842 ') "
   ]
  },
  {
   "cell_type": "markdown",
   "id": "f6e50aec",
   "metadata": {
    "papermill": {
     "duration": null,
     "end_time": null,
     "exception": null,
     "start_time": null,
     "status": "pending"
    },
    "tags": []
   },
   "source": [
    "http://10.3.35.67:52842"
   ]
  },
  {
   "cell_type": "code",
   "execution_count": null,
   "id": "9f4de2c1",
   "metadata": {
    "papermill": {
     "duration": null,
     "end_time": null,
     "exception": null,
     "start_time": null,
     "status": "pending"
    },
    "tags": []
   },
   "outputs": [],
   "source": [
    "print (' http://10.200.175.55:60319 ') "
   ]
  },
  {
   "cell_type": "markdown",
   "id": "5c36bce3",
   "metadata": {
    "papermill": {
     "duration": null,
     "end_time": null,
     "exception": null,
     "start_time": null,
     "status": "pending"
    },
    "tags": []
   },
   "source": [
    "http://10.200.175.55:60319"
   ]
  },
  {
   "cell_type": "code",
   "execution_count": null,
   "id": "185e95ca",
   "metadata": {
    "papermill": {
     "duration": null,
     "end_time": null,
     "exception": null,
     "start_time": null,
     "status": "pending"
    },
    "tags": []
   },
   "outputs": [],
   "source": [
    "print (' http://10.200.175.55:60315 ') "
   ]
  },
  {
   "cell_type": "markdown",
   "id": "5e932ca1",
   "metadata": {
    "papermill": {
     "duration": null,
     "end_time": null,
     "exception": null,
     "start_time": null,
     "status": "pending"
    },
    "tags": []
   },
   "source": [
    "http://10.200.175.55:60315"
   ]
  },
  {
   "cell_type": "code",
   "execution_count": null,
   "id": "102f3437",
   "metadata": {
    "papermill": {
     "duration": null,
     "end_time": null,
     "exception": null,
     "start_time": null,
     "status": "pending"
    },
    "tags": []
   },
   "outputs": [],
   "source": [
    "print (' http://10.185.201.16:55129 ' ) "
   ]
  },
  {
   "cell_type": "markdown",
   "id": "52797551",
   "metadata": {
    "papermill": {
     "duration": null,
     "end_time": null,
     "exception": null,
     "start_time": null,
     "status": "pending"
    },
    "tags": []
   },
   "source": [
    "http://10.185.201.16:55129"
   ]
  },
  {
   "cell_type": "code",
   "execution_count": null,
   "id": "fc12db09",
   "metadata": {
    "papermill": {
     "duration": null,
     "end_time": null,
     "exception": null,
     "start_time": null,
     "status": "pending"
    },
    "tags": []
   },
   "outputs": [],
   "source": [
    "print (' http://10.236.239.92:49702 ') "
   ]
  },
  {
   "cell_type": "markdown",
   "id": "e7bb677f",
   "metadata": {
    "papermill": {
     "duration": null,
     "end_time": null,
     "exception": null,
     "start_time": null,
     "status": "pending"
    },
    "tags": []
   },
   "source": [
    "http://10.236.239.92:49702"
   ]
  },
  {
   "cell_type": "code",
   "execution_count": null,
   "id": "8c0c8589",
   "metadata": {
    "papermill": {
     "duration": null,
     "end_time": null,
     "exception": null,
     "start_time": null,
     "status": "pending"
    },
    "tags": []
   },
   "outputs": [],
   "source": [
    "print (' http://10.236.239.92:49309 ') "
   ]
  },
  {
   "cell_type": "markdown",
   "id": "c8cb0676",
   "metadata": {
    "papermill": {
     "duration": null,
     "end_time": null,
     "exception": null,
     "start_time": null,
     "status": "pending"
    },
    "tags": []
   },
   "source": [
    "http://10.236.239.92:49309"
   ]
  },
  {
   "cell_type": "code",
   "execution_count": null,
   "id": "d4b0d1d7",
   "metadata": {
    "papermill": {
     "duration": null,
     "end_time": null,
     "exception": null,
     "start_time": null,
     "status": "pending"
    },
    "tags": []
   },
   "outputs": [],
   "source": [
    "print (' http://10.245.135.217 ') "
   ]
  },
  {
   "cell_type": "markdown",
   "id": "fdb2aeb0",
   "metadata": {
    "papermill": {
     "duration": null,
     "end_time": null,
     "exception": null,
     "start_time": null,
     "status": "pending"
    },
    "tags": []
   },
   "source": [
    "http://10.245.135.217"
   ]
  },
  {
   "cell_type": "code",
   "execution_count": null,
   "id": "1b5a7777",
   "metadata": {
    "papermill": {
     "duration": null,
     "end_time": null,
     "exception": null,
     "start_time": null,
     "status": "pending"
    },
    "tags": []
   },
   "outputs": [],
   "source": [
    "print (' http://10.192.168.1.0 ') "
   ]
  },
  {
   "cell_type": "markdown",
   "id": "0697e74c",
   "metadata": {
    "papermill": {
     "duration": null,
     "end_time": null,
     "exception": null,
     "start_time": null,
     "status": "pending"
    },
    "tags": []
   },
   "source": [
    "http://10.192.168.1.0"
   ]
  },
  {
   "cell_type": "code",
   "execution_count": null,
   "id": "ac78d622",
   "metadata": {
    "papermill": {
     "duration": null,
     "end_time": null,
     "exception": null,
     "start_time": null,
     "status": "pending"
    },
    "tags": []
   },
   "outputs": [],
   "source": [
    "print(' http://10.118.100.762600:380:4B2C:b7C8:36F6:5942:abcc:256D ')"
   ]
  },
  {
   "cell_type": "markdown",
   "id": "e359b27d",
   "metadata": {
    "papermill": {
     "duration": null,
     "end_time": null,
     "exception": null,
     "start_time": null,
     "status": "pending"
    },
    "tags": []
   },
   "source": [
    "http://10.118.100.762600:380:4B2C:b7C8:36F6:5942:abcc:256D"
   ]
  },
  {
   "cell_type": "code",
   "execution_count": null,
   "id": "dbe0e43b",
   "metadata": {
    "papermill": {
     "duration": null,
     "end_time": null,
     "exception": null,
     "start_time": null,
     "status": "pending"
    },
    "tags": []
   },
   "outputs": [],
   "source": [
    "print(' http://10.7.75.249:8080 ')"
   ]
  },
  {
   "cell_type": "markdown",
   "id": "7f7f36fb",
   "metadata": {
    "papermill": {
     "duration": null,
     "end_time": null,
     "exception": null,
     "start_time": null,
     "status": "pending"
    },
    "tags": []
   },
   "source": [
    "http://10.7.75.249:8080"
   ]
  },
  {
   "cell_type": "markdown",
   "id": "d1ea7800",
   "metadata": {
    "papermill": {
     "duration": null,
     "end_time": null,
     "exception": null,
     "start_time": null,
     "status": "pending"
    },
    "tags": []
   },
   "source": [
    "2024/02/26更新\n",
    "\n",
    "\n",
    "\n",
    "\n",
    "http://10.0.14.209:7680\n",
    "\n",
    "http://10.2.1.115:49794\n",
    "\n",
    "http://10.2.1.115:49810\n",
    "\n",
    "http://10.2.1.115:49814\n",
    "\n"
   ]
  },
  {
   "cell_type": "code",
   "execution_count": null,
   "id": "1d5fb946",
   "metadata": {
    "papermill": {
     "duration": null,
     "end_time": null,
     "exception": null,
     "start_time": null,
     "status": "pending"
    },
    "tags": []
   },
   "outputs": [],
   "source": [
    "print('http://10.2.1.115:49794')"
   ]
  },
  {
   "cell_type": "code",
   "execution_count": null,
   "id": "2f682c7f",
   "metadata": {
    "papermill": {
     "duration": null,
     "end_time": null,
     "exception": null,
     "start_time": null,
     "status": "pending"
    },
    "tags": []
   },
   "outputs": [],
   "source": [
    "print('http://10.0.14.209:7680')"
   ]
  },
  {
   "cell_type": "code",
   "execution_count": null,
   "id": "4d750e3e",
   "metadata": {
    "papermill": {
     "duration": null,
     "end_time": null,
     "exception": null,
     "start_time": null,
     "status": "pending"
    },
    "tags": []
   },
   "outputs": [],
   "source": [
    "print('http://10.2.1.115:49810')"
   ]
  },
  {
   "cell_type": "code",
   "execution_count": null,
   "id": "070c36c9",
   "metadata": {
    "papermill": {
     "duration": null,
     "end_time": null,
     "exception": null,
     "start_time": null,
     "status": "pending"
    },
    "tags": []
   },
   "outputs": [],
   "source": [
    "print('http://10.2.1.115:49814')"
   ]
  },
  {
   "cell_type": "markdown",
   "id": "4bf79509",
   "metadata": {
    "papermill": {
     "duration": null,
     "end_time": null,
     "exception": null,
     "start_time": null,
     "status": "pending"
    },
    "tags": []
   },
   "source": [
    "2024/03/03更新\n",
    "\n",
    "http://10.2.1.115:49794\n",
    "\n",
    "http://192.168.1.7:2121\n",
    "\n",
    "http://10.22.234.84:49961\n",
    "\n",
    "http://10.14.69.224:62344\n",
    "\n",
    "http://10.0.25398.3491\n",
    "\n",
    "\n",
    "\n",
    "http://10.0.19045.4046\n",
    "\n",
    "http://10.19.73.90:8009\n",
    "\n",
    "http://10.14.69.224:62344\n",
    "\n",
    "\n",
    "\n",
    "\n",
    "\n",
    "http://10.26.22.64:53027\n",
    "\n",
    "http://10.26.22.64:52656\n",
    "\n",
    "http://10.26.22.64:53053\n",
    "\n",
    "http://10.26.22.64:52636\n",
    "\n",
    "http://10.1.9.114:57691\n",
    "\n",
    "http://10.192.168.1.0\n",
    "\n",
    "http://10.0103.10.12\n",
    "\n",
    "http://10.16.100.244\n",
    "\n",
    "\n",
    "http://10.42.2.90:58068\n",
    "\n",
    "\n",
    "\n",
    "\n",
    "\n",
    "\n",
    "\n"
   ]
  },
  {
   "cell_type": "markdown",
   "id": "deeb0686",
   "metadata": {
    "papermill": {
     "duration": null,
     "end_time": null,
     "exception": null,
     "start_time": null,
     "status": "pending"
    },
    "tags": []
   },
   "source": [
    "\n",
    "\n",
    "http://10.110.82.17:7680\n",
    "\n",
    "http://10.200.111.61:60444\n",
    "\n",
    "http://10.42.2.90:58068\n",
    "\n",
    "\n",
    "\n"
   ]
  },
  {
   "cell_type": "markdown",
   "id": "5100c30b",
   "metadata": {
    "papermill": {
     "duration": null,
     "end_time": null,
     "exception": null,
     "start_time": null,
     "status": "pending"
    },
    "tags": []
   },
   "source": [
    "# KINTAMA BANK IOS？\n",
    "\n",
    "\n",
    "\n",
    "\n",
    "http://10.31.162.63"
   ]
  },
  {
   "cell_type": "code",
   "execution_count": null,
   "id": "ddfb7f00",
   "metadata": {
    "papermill": {
     "duration": null,
     "end_time": null,
     "exception": null,
     "start_time": null,
     "status": "pending"
    },
    "tags": []
   },
   "outputs": [],
   "source": [
    "print('http://10.31.162.63')"
   ]
  },
  {
   "cell_type": "markdown",
   "id": "64fa0b88",
   "metadata": {
    "papermill": {
     "duration": null,
     "end_time": null,
     "exception": null,
     "start_time": null,
     "status": "pending"
    },
    "tags": []
   },
   "source": [
    "http://10.255.226.106"
   ]
  },
  {
   "cell_type": "code",
   "execution_count": null,
   "id": "aaec93eb",
   "metadata": {
    "papermill": {
     "duration": null,
     "end_time": null,
     "exception": null,
     "start_time": null,
     "status": "pending"
    },
    "tags": []
   },
   "outputs": [],
   "source": [
    "print('http://10.255.226.106')"
   ]
  },
  {
   "cell_type": "markdown",
   "id": "5f3e58f2",
   "metadata": {
    "papermill": {
     "duration": null,
     "end_time": null,
     "exception": null,
     "start_time": null,
     "status": "pending"
    },
    "tags": []
   },
   "source": [
    "http://10.54.158.1"
   ]
  },
  {
   "cell_type": "code",
   "execution_count": null,
   "id": "c3e271c6",
   "metadata": {
    "papermill": {
     "duration": null,
     "end_time": null,
     "exception": null,
     "start_time": null,
     "status": "pending"
    },
    "tags": []
   },
   "outputs": [],
   "source": [
    "print('http://10.54.158.1')"
   ]
  },
  {
   "cell_type": "code",
   "execution_count": null,
   "id": "a790cec1",
   "metadata": {
    "papermill": {
     "duration": null,
     "end_time": null,
     "exception": null,
     "start_time": null,
     "status": "pending"
    },
    "tags": []
   },
   "outputs": [],
   "source": [
    "print('http://10.240.238.154:49278/')"
   ]
  },
  {
   "cell_type": "markdown",
   "id": "4e9a023a",
   "metadata": {
    "papermill": {
     "duration": null,
     "end_time": null,
     "exception": null,
     "start_time": null,
     "status": "pending"
    },
    "tags": []
   },
   "source": [
    "# hac Tec\n",
    "\n",
    "# http://10.240.238.154:49278/\n",
    "\n",
    "http://10.7.75.249:8080\n",
    "\n",
    "http://10.0.0.129:8009\n",
    "\n",
    "http://10.0.36.80.49957\n",
    "\n",
    "http://10.200.2.259\n",
    "\n",
    "http://10.10.118.47:56779\n",
    "\n",
    "http://10.0.0.176:61562\n",
    "\n",
    "http://10.100.10.60:59923\n",
    "\n",
    "http://10.10.10.231:61551\n",
    "\n",
    "http://10.10.10.231:7680\n",
    "\n",
    "http://10.10.12.195:54083\n",
    "\n",
    "http://10.200.2.259\n",
    "\n",
    "http://10.10.118.47:56779\n",
    "\n",
    "http://10.33.82.75:50129\n",
    "\n",
    "http://10.20.12.29:63805\n",
    "\n",
    "http://10.142.4.99:5357\n",
    "\n",
    "http://10.26.20.179:49408\n",
    "\n",
    "http://10.10.44.92:55734\n",
    "\n",
    "http://10.10.44.234:8008\n",
    "\n",
    "http://10.30.66.99:53893\n",
    "\n",
    "http://10.142.4.99:61782\n",
    "\n",
    "http://10.5.26.38:51912\n",
    "\n",
    "http://10.18.1.62:49419\n",
    "\n",
    "http://10.160.13.255:51461\n",
    "\n",
    "http://10.0.22631.3296\n",
    "\n",
    "http://10.2.3.181:59081\n",
    "\n",
    "http://10.0.0.127:58169\n",
    "\n",
    "http://10.10.10.224:58960\n",
    "\n",
    "http://10.2.129.113:51744\n",
    "\n",
    "http://10.21.1.196:57820\n",
    "\n",
    "http://10.10.150.66:61386\n",
    "\n",
    "http://10.20.51.43:49742\n",
    "\n",
    "http://10.10.44.92:55734\n",
    "\n",
    "http://10.206.32.110.206.32.1\n",
    "\n",
    "http://10.20.51.43:49699\n",
    "\n",
    "http://10.117.85.236:49411\n",
    "\n",
    "http://10.10.106.75:7680\n",
    "\n",
    "https://10.25.56.184:8080\n",
    "\n",
    "http://10.8.1.167:62933\n",
    "\n",
    "http://10.150.184.113:57614\n",
    "\n",
    "https://10.10.44.92:55734\n",
    "\n",
    "https://10.10.44.234:8008\n",
    "\n",
    "https://10.142.4.99:5357\n",
    "\n",
    "https://10.142.4.99:61782\n",
    "\n",
    "https://10.24.104.210:49340\n",
    "\n",
    "https://10.102.10.77:57911\n",
    "\n",
    "http://10.30.0.91:57063\n",
    "\n",
    "http://10.30.66.99:53893\n",
    "\n",
    "http://10.5.26.38:51912\n",
    "\n",
    "http://10.5.26.38:51912\n",
    "\n",
    "https://10.18.1.62:49419\n",
    "\n",
    "http://10.30.0.91:57063\n",
    "\n",
    "http://10.142.4.99:5357\n",
    "\n",
    "http://10.142.4.99:61782\n",
    "\n",
    "http://10.5.26.38:51912\n",
    "\n",
    "http://10.18.1.62:49419\n",
    "\n",
    "http://10.10.44.92:55734\n",
    "\n",
    "http://10.10.44.234:8008\n",
    "\n",
    "http://10.10.44.92:55734\n",
    "\n",
    "http://10.10.44.234:8008\n",
    "\n",
    "http://10.30.66.99:53893\n",
    "\n",
    "\n"
   ]
  },
  {
   "cell_type": "markdown",
   "id": "dcdd1fb5",
   "metadata": {
    "papermill": {
     "duration": null,
     "end_time": null,
     "exception": null,
     "start_time": null,
     "status": "pending"
    },
    "tags": []
   },
   "source": [
    "# 00:d0:41:da:a1:80\n",
    "\n",
    "http://10.5.26.38:51912\n",
    "\n",
    "https://10.18.1.62:49419\n",
    "\n",
    "http://10.30.0.91:57063\n",
    "\n",
    "http://10.26.20.179:49408\n",
    "\n",
    "https://dnslookup.info\n",
    "\n",
    "http://ww25.lookup.com\n",
    "\n",
    "https://dns-lookup.com\n",
    "\n",
    "http://dnslookup.com\n",
    "\n",
    "https://leak.sx\n",
    "\n",
    "https://dnsleak.com\n",
    "\n",
    "http://10.5.26.38:51912\n",
    "\n",
    "http://10.30.0.91:57063\n",
    "\n",
    "http://10.30.66.99:53893\n",
    "\n",
    "https://www.monkey.app\n",
    "\n",
    "https://www.hac.hr\n",
    "\n",
    "https://monkey.edu.vn\n",
    "\n",
    "https://10.10.44.92:55734\n",
    "\n",
    "https://10.10.44.234:8008\n",
    "\n",
    "https://10.142.4.99:5357\n",
    "\n",
    "https://10.142.4.99:61782\n",
    "\n",
    "https://10.24.104.210:49340\n",
    "\n",
    "https://10.102.10.77:57911\n",
    "\n",
    "https://www.see.cam\n",
    "\n",
    "https://sewayojan.up.nic.in/iep/registration.aspx\n",
    "\n",
    "http://www.hasil.gov.my/Ezhasil\n",
    "\n",
    "https://www.hasil.gov.my/Ezhasil\n",
    "\n",
    "https://10.25.56.184:8080\n",
    "\n",
    "http://10.8.1.167:62933\n",
    "\n",
    "http://10.150.184.113:57614\n",
    "\n",
    "https://prematric.mahait.org Login\n",
    "\n",
    "https://voters.eci.gov.in.Login/register\n",
    "\n",
    "https://voters.eci.gov.in.Loginregister\n",
    "\n",
    "https://voters.eci.gov.in/\n",
    "\n",
    "https://elearning.ut.ac.id Tuton\n",
    "\n",
    "https://investigationDiscovery.com/link\n",
    "\n",
    "http://10.10.106.75:7680\n",
    "\n",
    "http://hach.com\n",
    "\n",
    "https://ndms.hmil.net Login\n",
    "\n",
    "https://ndms.hmil.net\n",
    "\n",
    "http://ndms.hmil.net/\n",
    "\n",
    "http://10.117.85.236.49411\n",
    "\n",
    "https://sscasn.bkn.go.id\n",
    "\n",
    "http://10.21.1.196:57820\n",
    "\n",
    "http://10.10.150.66:61386\n",
    "\n",
    "http://10.20.51.43:49742\n",
    "\n",
    "http://10.10.44.92:55734\n",
    "\n",
    "http://10.206.32.110.206.32.1\n",
    "\n",
    "http://10.20.51.43:49699\n",
    "\n",
    "https://freerobux.com\n",
    "\n",
    "https://www.reverse.net\n",
    "\n",
    "\n",
    "\n",
    "\n",
    "\n",
    "\n"
   ]
  },
  {
   "cell_type": "markdown",
   "id": "dc45a65a",
   "metadata": {
    "papermill": {
     "duration": null,
     "end_time": null,
     "exception": null,
     "start_time": null,
     "status": "pending"
    },
    "tags": []
   },
   "source": [
    "\n",
    "# 90:96:f3:e8:a2:61\n",
    "\n",
    "https://dnsleak.com\n",
    "\n",
    "https://dnslaw.com\n",
    "\n",
    "https://dnsle.com\n",
    "\n",
    "http://ww38.dnsleaktes.com\n",
    "\n",
    "https://dnsleaktest.com\n",
    "\n",
    "http://10.142.4.99:5357\n",
    "\n",
    "http://10.26.20.179:49408\n",
    "\n",
    "http://10.10.44.92:55734\n",
    "\n",
    "http://10.10.44.234:8008\n",
    "\n",
    "http://10.30.66.99:53893\n",
    "\n",
    "http://10.142.4.99:61782\n",
    "\n",
    "http://10.5.26.38:51912\n",
    "\n",
    "http://10.18.1.62:49419\n",
    "\n",
    "http://10.160.13.255:51461\n",
    "\n",
    "http://10.0.22631.3296\n",
    "\n",
    "http://10.2.3.181:59081\n",
    "\n",
    "http://10.0.0.127:58169\n",
    "\n",
    "http://10.10.10.224:58960\n",
    "\n",
    "http://10.2.129.113:51744\n",
    "\n",
    "https://www.hac.hr\n",
    "\n",
    "https://hac.gov.tr\n",
    "\n",
    "https://hac-wien.at\n",
    "\n",
    "https://sell.sawbrokers.com\n",
    "\n",
    "https://hac-salon.com\n",
    "\n",
    "\n",
    "\n",
    "\n"
   ]
  },
  {
   "cell_type": "markdown",
   "id": "24afab5f",
   "metadata": {
    "papermill": {
     "duration": null,
     "end_time": null,
     "exception": null,
     "start_time": null,
     "status": "pending"
    },
    "tags": []
   },
   "source": [
    "# fe:65:de:b0:84:96\n",
    "\n",
    "http://10.10.44.92:55734\n",
    "\n",
    "http://10.10.44.234:8008\n",
    "\n",
    "http://10.10.44.92:55734\n",
    "\n",
    "http://10.10.44.234:8008\n",
    "\n",
    "http://10.30.66.99:53893\n",
    "\n",
    "https://leak.fans\n",
    "\n",
    "https://www.leak.pt\n",
    "\n",
    "https://leak.sx\n",
    "\n",
    "https://ipleak.org\n",
    "\n",
    "https://ipleak.com\n",
    "\n",
    "https://ipleak.net\n",
    "\n",
    "http://10.5.26.38:51912\n",
    "\n",
    "http://10.18.1.62:49419\n",
    "\n",
    "https://results.Easterncape.gov.za\n",
    "\n",
    "http://10.142.4.99:5357\n",
    "\n",
    "http://10.142.4.99:61782\n",
    "\n",
    "https://the.me\n",
    "\n",
    "\n",
    "\n",
    "\n",
    "\n"
   ]
  },
  {
   "cell_type": "code",
   "execution_count": null,
   "id": "e1989a87",
   "metadata": {
    "papermill": {
     "duration": null,
     "end_time": null,
     "exception": null,
     "start_time": null,
     "status": "pending"
    },
    "tags": []
   },
   "outputs": [],
   "source": [
    "print ('http://10.10.44.92:55734/') "
   ]
  },
  {
   "cell_type": "code",
   "execution_count": null,
   "id": "169518c4",
   "metadata": {
    "papermill": {
     "duration": null,
     "end_time": null,
     "exception": null,
     "start_time": null,
     "status": "pending"
    },
    "tags": []
   },
   "outputs": [],
   "source": [
    "print ('http://10.10.44.234:8008/') "
   ]
  },
  {
   "cell_type": "code",
   "execution_count": null,
   "id": "4b7dab62",
   "metadata": {
    "papermill": {
     "duration": null,
     "end_time": null,
     "exception": null,
     "start_time": null,
     "status": "pending"
    },
    "tags": []
   },
   "outputs": [],
   "source": [
    "print ('http://10.30.66.99:53893/') "
   ]
  },
  {
   "cell_type": "code",
   "execution_count": null,
   "id": "ea8d4627",
   "metadata": {
    "papermill": {
     "duration": null,
     "end_time": null,
     "exception": null,
     "start_time": null,
     "status": "pending"
    },
    "tags": []
   },
   "outputs": [],
   "source": [
    "print ('http://10.5.26.38:51912/') "
   ]
  },
  {
   "cell_type": "code",
   "execution_count": null,
   "id": "43c104af",
   "metadata": {
    "papermill": {
     "duration": null,
     "end_time": null,
     "exception": null,
     "start_time": null,
     "status": "pending"
    },
    "tags": []
   },
   "outputs": [],
   "source": [
    "print ('http://10.18.1.62:49419/') "
   ]
  },
  {
   "cell_type": "code",
   "execution_count": null,
   "id": "30fd0be3",
   "metadata": {
    "papermill": {
     "duration": null,
     "end_time": null,
     "exception": null,
     "start_time": null,
     "status": "pending"
    },
    "tags": []
   },
   "outputs": [],
   "source": [
    "print ('http://10.142.4.99:5357/') "
   ]
  },
  {
   "cell_type": "code",
   "execution_count": null,
   "id": "7c583581",
   "metadata": {
    "papermill": {
     "duration": null,
     "end_time": null,
     "exception": null,
     "start_time": null,
     "status": "pending"
    },
    "tags": []
   },
   "outputs": [],
   "source": [
    "print ('http://10.142.4.99:61782/') "
   ]
  },
  {
   "cell_type": "code",
   "execution_count": null,
   "id": "94fb61c3",
   "metadata": {
    "papermill": {
     "duration": null,
     "end_time": null,
     "exception": null,
     "start_time": null,
     "status": "pending"
    },
    "tags": []
   },
   "outputs": [],
   "source": [
    "print ('http://10.26.20.179:49408/') "
   ]
  },
  {
   "cell_type": "code",
   "execution_count": null,
   "id": "6e13bab2",
   "metadata": {
    "papermill": {
     "duration": null,
     "end_time": null,
     "exception": null,
     "start_time": null,
     "status": "pending"
    },
    "tags": []
   },
   "outputs": [],
   "source": [
    "print('http://10.160.13.255:51461/') "
   ]
  },
  {
   "cell_type": "code",
   "execution_count": null,
   "id": "8501e278",
   "metadata": {
    "papermill": {
     "duration": null,
     "end_time": null,
     "exception": null,
     "start_time": null,
     "status": "pending"
    },
    "tags": []
   },
   "outputs": [],
   "source": [
    "print('http://10.0.0.127:58169/') "
   ]
  },
  {
   "cell_type": "code",
   "execution_count": null,
   "id": "f9960f46",
   "metadata": {
    "papermill": {
     "duration": null,
     "end_time": null,
     "exception": null,
     "start_time": null,
     "status": "pending"
    },
    "tags": []
   },
   "outputs": [],
   "source": [
    "print('http://10.10.10.224:58960/') "
   ]
  },
  {
   "cell_type": "code",
   "execution_count": null,
   "id": "e11c92e0",
   "metadata": {
    "papermill": {
     "duration": null,
     "end_time": null,
     "exception": null,
     "start_time": null,
     "status": "pending"
    },
    "tags": []
   },
   "outputs": [],
   "source": [
    "print('http://10.2.129.113:51744/') "
   ]
  },
  {
   "cell_type": "code",
   "execution_count": null,
   "id": "e9ddae42",
   "metadata": {
    "papermill": {
     "duration": null,
     "end_time": null,
     "exception": null,
     "start_time": null,
     "status": "pending"
    },
    "tags": []
   },
   "outputs": [],
   "source": [
    "print('http://10.2.3.181:59081/') "
   ]
  },
  {
   "cell_type": "code",
   "execution_count": null,
   "id": "8c113e5a",
   "metadata": {
    "papermill": {
     "duration": null,
     "end_time": null,
     "exception": null,
     "start_time": null,
     "status": "pending"
    },
    "tags": []
   },
   "outputs": [],
   "source": [
    "print('http://10.0.22631.3296') "
   ]
  },
  {
   "cell_type": "markdown",
   "id": "ef959d53",
   "metadata": {
    "papermill": {
     "duration": null,
     "end_time": null,
     "exception": null,
     "start_time": null,
     "status": "pending"
    },
    "tags": []
   },
   "source": [
    "https://github.com/fukayatsu/lttm-crx/edit/master/lib/config/meigens.json"
   ]
  },
  {
   "cell_type": "code",
   "execution_count": null,
   "id": "b04dd4b4",
   "metadata": {
    "papermill": {
     "duration": null,
     "end_time": null,
     "exception": null,
     "start_time": null,
     "status": "pending"
    },
    "tags": []
   },
   "outputs": [],
   "source": [
    "print('https://github.com/fukayatsu/lttm-crx/edit/master/lib/config/meigens.json') "
   ]
  },
  {
   "cell_type": "code",
   "execution_count": null,
   "id": "0f4b5566",
   "metadata": {
    "papermill": {
     "duration": null,
     "end_time": null,
     "exception": null,
     "start_time": null,
     "status": "pending"
    },
    "tags": []
   },
   "outputs": [],
   "source": [
    "print('https://www.cfr38.org') "
   ]
  },
  {
   "cell_type": "code",
   "execution_count": null,
   "id": "9492b4c3",
   "metadata": {
    "papermill": {
     "duration": null,
     "end_time": null,
     "exception": null,
     "start_time": null,
     "status": "pending"
    },
    "tags": []
   },
   "outputs": [],
   "source": [
    "print('https://www.cfr21.org') "
   ]
  }
 ],
 "metadata": {
  "kaggle": {
   "accelerator": "gpu",
   "dataSources": [
    {
     "datasetId": 6499376,
     "sourceId": 10497143,
     "sourceType": "datasetVersion"
    },
    {
     "datasetId": 6499397,
     "sourceId": 10497174,
     "sourceType": "datasetVersion"
    },
    {
     "datasetId": 6499399,
     "sourceId": 10497179,
     "sourceType": "datasetVersion"
    },
    {
     "datasetId": 6499413,
     "sourceId": 10497204,
     "sourceType": "datasetVersion"
    },
    {
     "datasetId": 6499429,
     "sourceId": 10497225,
     "sourceType": "datasetVersion"
    },
    {
     "datasetId": 6499434,
     "sourceId": 10497234,
     "sourceType": "datasetVersion"
    },
    {
     "datasetId": 6499441,
     "sourceId": 10497244,
     "sourceType": "datasetVersion"
    },
    {
     "datasetId": 6499447,
     "sourceId": 10497254,
     "sourceType": "datasetVersion"
    },
    {
     "datasetId": 6499456,
     "sourceId": 10497266,
     "sourceType": "datasetVersion"
    },
    {
     "datasetId": 6499464,
     "sourceId": 10497276,
     "sourceType": "datasetVersion"
    },
    {
     "datasetId": 6499477,
     "sourceId": 10497299,
     "sourceType": "datasetVersion"
    },
    {
     "datasetId": 6499488,
     "sourceId": 10497311,
     "sourceType": "datasetVersion"
    },
    {
     "datasetId": 4417277,
     "sourceId": 11014448,
     "sourceType": "datasetVersion"
    },
    {
     "datasetId": 7153927,
     "sourceId": 11423057,
     "sourceType": "datasetVersion"
    },
    {
     "datasetId": 7822631,
     "sourceId": 12404426,
     "sourceType": "datasetVersion"
    },
    {
     "datasetId": 7822656,
     "sourceId": 12404468,
     "sourceType": "datasetVersion"
    },
    {
     "datasetId": 7822695,
     "sourceId": 12404527,
     "sourceType": "datasetVersion"
    },
    {
     "datasetId": 7822910,
     "sourceId": 12404889,
     "sourceType": "datasetVersion"
    },
    {
     "datasetId": 7404352,
     "sourceId": 12727356,
     "sourceType": "datasetVersion"
    },
    {
     "sourceId": 191626149,
     "sourceType": "kernelVersion"
    },
    {
     "sourceId": 218054612,
     "sourceType": "kernelVersion"
    }
   ],
   "dockerImageVersionId": 30619,
   "isGpuEnabled": true,
   "isInternetEnabled": true,
   "language": "python",
   "sourceType": "notebook"
  },
  "kernelspec": {
   "display_name": "Python 3",
   "language": "python",
   "name": "python3"
  },
  "language_info": {
   "codemirror_mode": {
    "name": "ipython",
    "version": 3
   },
   "file_extension": ".py",
   "mimetype": "text/x-python",
   "name": "python",
   "nbconvert_exporter": "python",
   "pygments_lexer": "ipython3",
   "version": "3.10.12"
  },
  "papermill": {
   "default_parameters": {},
   "duration": 3.390062,
   "end_time": "2025-08-11T07:31:32.626847",
   "environment_variables": {},
   "exception": true,
   "input_path": "__notebook__.ipynb",
   "output_path": "__notebook__.ipynb",
   "parameters": {},
   "start_time": "2025-08-11T07:31:29.236785",
   "version": "2.4.0"
  }
 },
 "nbformat": 4,
 "nbformat_minor": 5
}
